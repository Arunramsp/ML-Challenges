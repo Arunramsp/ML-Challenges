{
 "cells": [
  {
   "cell_type": "code",
   "execution_count": 2,
   "metadata": {
    "collapsed": true
   },
   "outputs": [
    {
     "name": "stderr",
     "output_type": "stream",
     "text": [
      "C:\\Users\\royal\\Anaconda3\\lib\\site-packages\\sklearn\\cross_validation.py:41: DeprecationWarning: This module was deprecated in version 0.18 in favor of the model_selection module into which all the refactored classes and functions are moved. Also note that the interface of the new CV iterators are different from that of this module. This module will be removed in 0.20.\n",
      "  \"This module will be removed in 0.20.\", DeprecationWarning)\n",
      "C:\\Users\\royal\\Anaconda3\\lib\\site-packages\\sklearn\\grid_search.py:42: DeprecationWarning: This module was deprecated in version 0.18 in favor of the model_selection module into which all the refactored classes and functions are moved. This module will be removed in 0.20.\n",
      "  DeprecationWarning)\n"
     ]
    },
    {
     "name": "stdout",
     "output_type": "stream",
     "text": [
      "Wall time: 35.5 s\n"
     ]
    }
   ],
   "source": [
    "%%time\n",
    "%matplotlib inline\n",
    "import numpy as np\n",
    "import os\n",
    "import matplotlib.pyplot as plt\n",
    "import seaborn as sns\n",
    "import pandas as pd\n",
    "import random\n",
    "import xgboost as xgb\n",
    "from sklearn.metrics import matthews_corrcoef\n",
    "\n",
    "from sklearn import preprocessing\n",
    "from sklearn.linear_model import LogisticRegression\n",
    "from xgboost import XGBRegressor\n",
    "import lightgbm as lgb\n",
    "from lightgbm import LGBMRegressor\n",
    "from sklearn.metrics import accuracy_score\n",
    "from sklearn.model_selection import GridSearchCV\n",
    "from sklearn.cross_validation import StratifiedKFold\n",
    "from sklearn.metrics import matthews_corrcoef, roc_auc_score\n",
    "from sklearn.grid_search import RandomizedSearchCV\n",
    "from catboost import CatBoostClassifier,CatBoostRegressor\n",
    "\n",
    "from rgf.sklearn import RGFClassifier,RGFRegressor\n",
    "from sklearn.ensemble import RandomForestClassifier\n",
    "from sklearn.preprocessing import OneHotEncoder,LabelEncoder\n",
    "\n",
    "from sklearn.svm import SVC\n",
    "from sklearn.svm import SVR\n",
    "from sklearn.ensemble import ExtraTreesClassifier,ExtraTreesRegressor\n",
    "from sklearn.feature_selection import VarianceThreshold\n",
    "\n",
    "from sklearn.preprocessing import StandardScaler\n",
    "from sklearn.decomposition import PCA\n",
    "from sklearn.model_selection import KFold\n",
    "from sklearn.metrics import r2_score\n"
   ]
  },
  {
   "cell_type": "code",
   "execution_count": 2,
   "metadata": {},
   "outputs": [
    {
     "name": "stdout",
     "output_type": "stream",
     "text": [
      "Wall time: 177 ms\n"
     ]
    }
   ],
   "source": [
    "%%time\n",
    "os.chdir('C:\\\\Users\\\\royal\\\\Downloads\\\\Compressed\\\\Electricity_Production')\n",
    "train=pd.read_csv('train_data.csv')\n",
    "test=pd.read_csv('test_data.csv')"
   ]
  },
  {
   "cell_type": "code",
   "execution_count": 3,
   "metadata": {},
   "outputs": [
    {
     "data": {
      "text/html": [
       "<div>\n",
       "<style>\n",
       "    .dataframe thead tr:only-child th {\n",
       "        text-align: right;\n",
       "    }\n",
       "\n",
       "    .dataframe thead th {\n",
       "        text-align: left;\n",
       "    }\n",
       "\n",
       "    .dataframe tbody tr th {\n",
       "        vertical-align: top;\n",
       "    }\n",
       "</style>\n",
       "<table border=\"1\" class=\"dataframe\">\n",
       "  <thead>\n",
       "    <tr style=\"text-align: right;\">\n",
       "      <th></th>\n",
       "      <th>T</th>\n",
       "      <th>V</th>\n",
       "      <th>P</th>\n",
       "      <th>RH</th>\n",
       "      <th>E</th>\n",
       "    </tr>\n",
       "  </thead>\n",
       "  <tbody>\n",
       "    <tr>\n",
       "      <th>0</th>\n",
       "      <td>273.39</td>\n",
       "      <td>420.12</td>\n",
       "      <td>91.84</td>\n",
       "      <td>57.41</td>\n",
       "      <td>1778.12</td>\n",
       "    </tr>\n",
       "    <tr>\n",
       "      <th>1</th>\n",
       "      <td>195.26</td>\n",
       "      <td>248.88</td>\n",
       "      <td>92.29</td>\n",
       "      <td>35.21</td>\n",
       "      <td>1824.16</td>\n",
       "    </tr>\n",
       "    <tr>\n",
       "      <th>2</th>\n",
       "      <td>377.52</td>\n",
       "      <td>360.42</td>\n",
       "      <td>92.31</td>\n",
       "      <td>27.69</td>\n",
       "      <td>1761.72</td>\n",
       "    </tr>\n",
       "    <tr>\n",
       "      <th>3</th>\n",
       "      <td>171.60</td>\n",
       "      <td>244.98</td>\n",
       "      <td>91.61</td>\n",
       "      <td>56.99</td>\n",
       "      <td>1889.64</td>\n",
       "    </tr>\n",
       "    <tr>\n",
       "      <th>4</th>\n",
       "      <td>222.56</td>\n",
       "      <td>353.70</td>\n",
       "      <td>92.43</td>\n",
       "      <td>54.25</td>\n",
       "      <td>1806.68</td>\n",
       "    </tr>\n",
       "  </tbody>\n",
       "</table>\n",
       "</div>"
      ],
      "text/plain": [
       "        T       V      P     RH        E\n",
       "0  273.39  420.12  91.84  57.41  1778.12\n",
       "1  195.26  248.88  92.29  35.21  1824.16\n",
       "2  377.52  360.42  92.31  27.69  1761.72\n",
       "3  171.60  244.98  91.61  56.99  1889.64\n",
       "4  222.56  353.70  92.43  54.25  1806.68"
      ]
     },
     "execution_count": 3,
     "metadata": {},
     "output_type": "execute_result"
    }
   ],
   "source": [
    "train.head()"
   ]
  },
  {
   "cell_type": "code",
   "execution_count": 60,
   "metadata": {
    "collapsed": true
   },
   "outputs": [],
   "source": [
    "##generate two extra features.\n",
    "train['pv/t']=(train['P']*train['V'])/train['T']\n",
    "train['pv']=train['P']*train['V']\n",
    "\n",
    "test['pv/t']=(test['P']*test['V'])/test['T']\n",
    "test['pv']=test['P']*test['V']"
   ]
  },
  {
   "cell_type": "code",
   "execution_count": 5,
   "metadata": {},
   "outputs": [
    {
     "data": {
      "text/plain": [
       "0"
      ]
     },
     "execution_count": 5,
     "metadata": {},
     "output_type": "execute_result"
    }
   ],
   "source": [
    "train.isnull().sum().sum()"
   ]
  },
  {
   "cell_type": "code",
   "execution_count": 4,
   "metadata": {},
   "outputs": [
    {
     "name": "stdout",
     "output_type": "stream",
     "text": [
      "T 194\n",
      "V 164\n",
      "P 128\n",
      "RH 191\n"
     ]
    }
   ],
   "source": [
    "##unique values in the columns.\n",
    "for i in test.columns:\n",
    "    print(i,len(test[i].unique()))"
   ]
  },
  {
   "cell_type": "code",
   "execution_count": 5,
   "metadata": {
    "collapsed": true
   },
   "outputs": [],
   "source": [
    "Y1=train['E']\n",
    "train1=train.drop(['E'],axis=1)\n",
    "train1=train1.values\n",
    "Y=Y1.values\n",
    "\n",
    "test1=test.values"
   ]
  },
  {
   "cell_type": "code",
   "execution_count": 7,
   "metadata": {
    "collapsed": true
   },
   "outputs": [],
   "source": [
    "#scale training and testing data.\n",
    "scaler = StandardScaler()\n",
    "scaler.fit(train1)\n",
    "train2 = scaler.transform(train1)\n",
    "test2 = scaler.transform(test1)"
   ]
  },
  {
   "cell_type": "code",
   "execution_count": 53,
   "metadata": {
    "collapsed": true
   },
   "outputs": [],
   "source": [
    "#make 2 way interaction between all the columns\n",
    "def Make_2way(X, Xt):\n",
    "    columns_length=X.shape[1]\n",
    "    for j in range (0,columns_length):\n",
    "        for d in range (j+1,columns_length):  \n",
    "            print((\"Adding columns' interraction %d and %d\" % (j, d) ))\n",
    "            new_column_train=X[:,j]+X[:,d]\n",
    "            new_column_test=Xt[:,j]+Xt[:,d]    \n",
    "            X=np.column_stack((X,new_column_train))\n",
    "            Xt=np.column_stack((Xt,new_column_test))\n",
    "    return X, Xt"
   ]
  },
  {
   "cell_type": "code",
   "execution_count": 13,
   "metadata": {
    "collapsed": true
   },
   "outputs": [],
   "source": [
    "##make 2 and 3 way interaction between all the columns.\n",
    "def Make_3way(X, Xt):\n",
    "    columns_length=X.shape[1]\n",
    "    for j in range (0,columns_length):\n",
    "        for d in range (j+1,columns_length):  \n",
    "            print((\"Adding columns' interraction %d and %d\" % (j, d) ))\n",
    "            new_column_train=X[:,j]*X[:,d]\n",
    "            new_column_test=Xt[:,j]*Xt[:,d]    \n",
    "            X1=np.column_stack((X,new_column_train))\n",
    "            Xt1=np.column_stack((Xt,new_column_test))\n",
    "    \n",
    "    for j in range (columns_length):\n",
    "        for d in range (j+1,columns_length):  \n",
    "            for m in range (d+1,columns_length):              \n",
    "                print(\"Adding columns' interaction %d and %d and %d\" % (j, d, m) )\n",
    "                new_column_train=X[:,j]*X[:,d]*X[:,m]\n",
    "                new_column_test=Xt[:,j]*Xt[:,d]*Xt[:,m]      \n",
    "                X2=np.column_stack((X,new_column_train))\n",
    "                Xt2=np.column_stack((Xt,new_column_test))\n",
    "    X=np.column_stack((X1,X2))\n",
    "    Xt=np.column_stack((Xt1,Xt2))\n",
    "    return X, Xt"
   ]
  },
  {
   "cell_type": "code",
   "execution_count": 56,
   "metadata": {},
   "outputs": [
    {
     "name": "stdout",
     "output_type": "stream",
     "text": [
      "Adding columns' interraction 0 and 1\n",
      "Adding columns' interraction 0 and 2\n",
      "Adding columns' interraction 0 and 3\n",
      "Adding columns' interraction 1 and 2\n",
      "Adding columns' interraction 1 and 3\n",
      "Adding columns' interraction 2 and 3\n"
     ]
    }
   ],
   "source": [
    "# st_train,st_test= Make_2way(train2, test2)\n",
    "train2,test2= Make_2way(train1, test1)"
   ]
  },
  {
   "cell_type": "code",
   "execution_count": 57,
   "metadata": {
    "collapsed": true
   },
   "outputs": [],
   "source": [
    "scaler = StandardScaler()\n",
    "scaler.fit(train2)\n",
    "train2 = scaler.transform(train2)\n",
    "test2 = scaler.transform(test2)"
   ]
  },
  {
   "cell_type": "code",
   "execution_count": 14,
   "metadata": {
    "collapsed": true
   },
   "outputs": [
    {
     "name": "stdout",
     "output_type": "stream",
     "text": [
      "Adding columns' interraction 0 and 1\n",
      "Adding columns' interraction 0 and 2\n",
      "Adding columns' interraction 0 and 3\n",
      "Adding columns' interraction 1 and 2\n",
      "Adding columns' interraction 1 and 3\n",
      "Adding columns' interraction 2 and 3\n",
      "Adding columns' interaction 0 and 1 and 2\n",
      "Adding columns' interaction 0 and 1 and 3\n",
      "Adding columns' interaction 0 and 2 and 3\n",
      "Adding columns' interaction 1 and 2 and 3\n"
     ]
    }
   ],
   "source": [
    "st_train,st_test= Make_3way(train1, test1)"
   ]
  },
  {
   "cell_type": "code",
   "execution_count": 76,
   "metadata": {},
   "outputs": [
    {
     "name": "stdout",
     "output_type": "stream",
     "text": [
      "(400,)\n",
      "fold 0, ROC AUC: 0.946\n",
      "(400,)\n",
      "fold 1, ROC AUC: 0.956\n",
      "(400,)\n",
      "fold 2, ROC AUC: 0.952\n",
      "(400,)\n",
      "fold 3, ROC AUC: 0.952\n",
      "(400,)\n",
      "fold 4, ROC AUC: 0.944\n",
      "0.9499539632007946\n"
     ]
    }
   ],
   "source": [
    "##generate the cross validation fold.\n",
    "from sklearn.cross_validation import StratifiedKFold\n",
    "SEED=42\n",
    "# clf = lgb.LGBMRegressor() \n",
    "# clf = lgb.LGBMRegressor(max_depth=6,learning_rate=0.0716,n_estimators=128,num_leaves=24,reg_alpha=1.7250,reg_lambda=0.0888,subsample=0.6361,colsample_bytree=0.9365)\n",
    "st_train = train2\n",
    "st_test = test2\n",
    "# clf=CatBoostRegressor(iterations=80)\n",
    "clf = xgb.XGBRegressor(gamma = 0.76,learning_rate = 0.039,max_depth = 7,min_child_weight = 9.6754,n_estimators = 1100,subsample = 0.8,colsample_bytree = 0.99)\n",
    "# clf = xgb.XGBRegressor(gamma = 0.7412,learning_rate = 0.0290,max_depth = 8,min_child_weight = 9.6754,n_estimators = 999) #96.00\n",
    "# clf=ExtraTreesRegressor(n_estimators=10000, max_depth=9,  min_samples_leaf=1,  n_jobs=30, random_state=1)\n",
    "# clf = RGFRegressor(max_leaf=500,algorithm=\"RGF\",test_interval=100, loss=\"LS\")\n",
    "\n",
    "fold = 5\n",
    "cv = KFold(n_splits=fold, shuffle=True, random_state=239)\n",
    "X_preds = np.zeros(st_train.shape[0])\n",
    "preds = np.zeros(st_test.shape[0])\n",
    "for i, (tr, ts) in enumerate(cv.split(st_train)):\n",
    "    print(ts.shape)\n",
    "    mod = clf.fit(st_train[tr], Y[tr])\n",
    "    X_preds[ts] = mod.predict(st_train[ts])\n",
    "    preds += mod.predict(st_test)\n",
    "    print(\"fold {}, ROC AUC: {:.3f}\".format(i, r2_score(Y[ts], X_preds[ts])))\n",
    "score = r2_score(Y, X_preds)\n",
    "print(score)\n",
    "preds1 = preds/fold"
   ]
  },
  {
   "cell_type": "code",
   "execution_count": 73,
   "metadata": {
    "collapsed": true
   },
   "outputs": [],
   "source": [
    "np.savetxt('submission.csv',preds1)"
   ]
  },
  {
   "cell_type": "code",
   "execution_count": 74,
   "metadata": {
    "collapsed": true
   },
   "outputs": [],
   "source": [
    "##save cross validation fold result\n",
    "filename = 'xgb1_'+'{:.5f}'.format(score)\n",
    "np.savetxt('oof+test//'+filename+'_train.csv',X_preds)\n",
    "np.savetxt('oof+test//'+filename+'_test.csv',preds1)"
   ]
  },
  {
   "cell_type": "code",
   "execution_count": 70,
   "metadata": {
    "collapsed": true
   },
   "outputs": [
    {
     "name": "stdout",
     "output_type": "stream",
     "text": [
      "\u001b[31mInitialization\u001b[0m\n",
      "\u001b[94m---------------------------------------------------------------------------------------------------------------------------------------------------------------------\u001b[0m\n",
      " Step |   Time |      Value |   colsample_bytree |     gamma |   learning_rate |   max_delta_step |   max_depth |   min_child_weight |   n_estimators |   subsample | \n",
      "    1 | 00m05s | \u001b[35m-744.75915\u001b[0m | \u001b[32m            0.7669\u001b[0m | \u001b[32m   0.7583\u001b[0m | \u001b[32m         0.0316\u001b[0m | \u001b[32m          0.0635\u001b[0m | \u001b[32m     7.5813\u001b[0m | \u001b[32m            9.7865\u001b[0m | \u001b[32m     1037.8835\u001b[0m | \u001b[32m     0.6129\u001b[0m | \n",
      "    2 | 00m07s | -746.41719 |             0.8973 |    0.7430 |          0.0325 |           0.0018 |      7.2371 |             9.7400 |      1039.7247 |      0.7268 | \n",
      "    3 | 00m04s | \u001b[35m-744.21274\u001b[0m | \u001b[32m            0.6630\u001b[0m | \u001b[32m   0.7554\u001b[0m | \u001b[32m         0.0285\u001b[0m | \u001b[32m          0.0939\u001b[0m | \u001b[32m     7.8603\u001b[0m | \u001b[32m            9.8746\u001b[0m | \u001b[32m     1024.2118\u001b[0m | \u001b[32m     0.6412\u001b[0m | \n",
      "    4 | 00m05s | -744.69354 |             0.8703 |    0.7597 |          0.0282 |           0.0763 |      7.8091 |             9.7868 |      1004.1146 |      0.6599 | \n",
      "    5 | 00m05s | \u001b[35m-744.03664\u001b[0m | \u001b[32m            0.8215\u001b[0m | \u001b[32m   0.7551\u001b[0m | \u001b[32m         0.0363\u001b[0m | \u001b[32m          0.0784\u001b[0m | \u001b[32m     8.4049\u001b[0m | \u001b[32m            9.8455\u001b[0m | \u001b[32m     1039.6628\u001b[0m | \u001b[32m     0.6904\u001b[0m | \n",
      "\u001b[31mBayesian Optimization\u001b[0m\n",
      "\u001b[94m---------------------------------------------------------------------------------------------------------------------------------------------------------------------\u001b[0m\n",
      " Step |   Time |      Value |   colsample_bytree |     gamma |   learning_rate |   max_delta_step |   max_depth |   min_child_weight |   n_estimators |   subsample | \n",
      "    6 | 00m26s | -744.75004 |             0.5000 |    0.7600 |          0.0190 |           0.1000 |      9.0000 |             9.9000 |      1100.0000 |      0.6000 | \n",
      "    7 | 00m49s | -744.90757 |             0.5000 |    0.7600 |          0.0190 |           0.1000 |      9.0000 |             9.9000 |       999.0000 |      0.6000 | \n",
      "    8 | 01m00s | \u001b[35m-743.15939\u001b[0m | \u001b[32m            0.5000\u001b[0m | \u001b[32m   0.7600\u001b[0m | \u001b[32m         0.0390\u001b[0m | \u001b[32m          0.1000\u001b[0m | \u001b[32m     9.0000\u001b[0m | \u001b[32m            9.9000\u001b[0m | \u001b[32m     1033.1933\u001b[0m | \u001b[32m     0.6000\u001b[0m | \n"
     ]
    },
    {
     "name": "stderr",
     "output_type": "stream",
     "text": [
      "C:\\Users\\royal\\Anaconda3\\lib\\site-packages\\sklearn\\gaussian_process\\gpr.py:457: UserWarning: fmin_l_bfgs_b terminated abnormally with the  state: {'grad': array([-0.30964291]), 'task': b'ABNORMAL_TERMINATION_IN_LNSRCH', 'funcalls': 49, 'nit': 4, 'warnflag': 2}\n",
      "  \" state: %s\" % convergence_dict)\n"
     ]
    },
    {
     "name": "stdout",
     "output_type": "stream",
     "text": [
      "    9 | 00m51s | -744.90758 |             0.9900 |    0.7600 |          0.0190 |           0.1000 |      7.0000 |             9.9000 |       999.0000 |      0.6000 | \n",
      "   10 | 01m01s | -744.88262 |             0.9900 |    0.7600 |          0.0190 |           0.1000 |      9.0000 |             9.9000 |      1015.2039 |      0.6000 | \n",
      "   11 | 00m52s | -744.84830 |             0.5000 |    0.7600 |          0.0190 |           0.1000 |      9.0000 |             9.9000 |      1037.8233 |      0.6000 | \n",
      "   12 | 00m51s | -743.16258 |             0.9900 |    0.7600 |          0.0390 |           0.1000 |      9.0000 |             9.9000 |      1032.3008 |      0.6000 | \n",
      "   13 | 00m36s | \u001b[35m-743.05065\u001b[0m | \u001b[32m            0.9900\u001b[0m | \u001b[32m   0.7600\u001b[0m | \u001b[32m         0.0390\u001b[0m | \u001b[32m          0.1000\u001b[0m | \u001b[32m     9.0000\u001b[0m | \u001b[32m            9.9000\u001b[0m | \u001b[32m     1067.5259\u001b[0m | \u001b[32m     0.6000\u001b[0m | \n",
      "   14 | 00m48s | -743.09223 |             0.9900 |    0.7600 |          0.0390 |           0.1000 |      9.0000 |             9.9000 |      1054.0484 |      0.6000 | \n",
      "   15 | 00m46s | -743.16898 |             0.5000 |    0.7600 |          0.0390 |           0.1000 |      7.0000 |             9.9000 |      1030.8949 |      0.6000 | \n",
      "   16 | 00m50s | -743.12421 |             0.9900 |    0.7600 |          0.0390 |           0.1000 |      9.0000 |             9.6754 |      1044.7741 |      0.6000 | \n",
      "   17 | 00m49s | -743.23614 |             0.5000 |    0.7600 |          0.0390 |           0.1000 |      7.0000 |             9.6754 |      1009.9325 |      0.8000 | \n",
      "   18 | 00m52s | -743.06984 |             0.9900 |    0.7600 |          0.0390 |           0.1000 |      9.0000 |             9.9000 |      1061.2793 |      0.8000 | \n",
      "   19 | 00m50s | -743.15619 |             0.9900 |    0.7600 |          0.0390 |           0.1000 |      7.0000 |             9.9000 |      1034.0326 |      0.8000 | \n",
      "   20 | 00m49s | -743.13380 |             0.9900 |    0.7600 |          0.0390 |           0.1000 |      9.0000 |             9.9000 |      1041.2168 |      0.6000 | \n",
      "   21 | 00m53s | -743.13700 |             0.9900 |    0.7600 |          0.0390 |           0.1000 |      9.0000 |             9.6754 |      1040.0088 |      0.8000 | \n",
      "   22 | 00m53s | -743.11141 |             0.9900 |    0.7600 |          0.0390 |           0.1000 |      9.0000 |             9.9000 |      1048.6028 |      0.8000 | \n",
      "   23 | 00m54s | -743.24254 |             0.5000 |    0.7600 |          0.0390 |           0.1000 |      9.0000 |             9.6754 |      1007.9308 |      0.8000 | \n"
     ]
    },
    {
     "name": "stderr",
     "output_type": "stream",
     "text": [
      "C:\\Users\\royal\\Anaconda3\\lib\\site-packages\\sklearn\\gaussian_process\\gpr.py:457: UserWarning: fmin_l_bfgs_b terminated abnormally with the  state: {'grad': array([3.89144981]), 'task': b'ABNORMAL_TERMINATION_IN_LNSRCH', 'funcalls': 49, 'nit': 6, 'warnflag': 2}\n",
      "  \" state: %s\" % convergence_dict)\n",
      "C:\\Users\\royal\\Anaconda3\\lib\\site-packages\\sklearn\\gaussian_process\\gpr.py:457: UserWarning: fmin_l_bfgs_b terminated abnormally with the  state: {'grad': array([0.42495084]), 'task': b'ABNORMAL_TERMINATION_IN_LNSRCH', 'funcalls': 52, 'nit': 4, 'warnflag': 2}\n",
      "  \" state: %s\" % convergence_dict)\n"
     ]
    },
    {
     "name": "stdout",
     "output_type": "stream",
     "text": [
      "   24 | 01m05s | \u001b[35m-742.94513\u001b[0m | \u001b[32m            0.9900\u001b[0m | \u001b[32m   0.7600\u001b[0m | \u001b[32m         0.0390\u001b[0m | \u001b[32m          0.1000\u001b[0m | \u001b[32m     7.0000\u001b[0m | \u001b[32m            9.6754\u001b[0m | \u001b[32m     1100.0000\u001b[0m | \u001b[32m     0.8000\u001b[0m | \n"
     ]
    },
    {
     "name": "stderr",
     "output_type": "stream",
     "text": [
      "C:\\Users\\royal\\Anaconda3\\lib\\site-packages\\sklearn\\gaussian_process\\gpr.py:457: UserWarning: fmin_l_bfgs_b terminated abnormally with the  state: {'grad': array([-1.08480053]), 'task': b'ABNORMAL_TERMINATION_IN_LNSRCH', 'funcalls': 60, 'nit': 5, 'warnflag': 2}\n",
      "  \" state: %s\" % convergence_dict)\n"
     ]
    },
    {
     "name": "stdout",
     "output_type": "stream",
     "text": [
      "   25 | 01m04s | -743.16578 |             0.5000 |    0.7600 |          0.0390 |           0.1000 |      9.0000 |             9.9000 |      1031.3432 |      0.8000 | \n"
     ]
    },
    {
     "name": "stderr",
     "output_type": "stream",
     "text": [
      "C:\\Users\\royal\\Anaconda3\\lib\\site-packages\\sklearn\\gaussian_process\\gpr.py:457: UserWarning: fmin_l_bfgs_b terminated abnormally with the  state: {'grad': array([0.1187104]), 'task': b'ABNORMAL_TERMINATION_IN_LNSRCH', 'funcalls': 51, 'nit': 5, 'warnflag': 2}\n",
      "  \" state: %s\" % convergence_dict)\n"
     ]
    },
    {
     "name": "stdout",
     "output_type": "stream",
     "text": [
      "   26 | 01m10s | -743.24254 |             0.5000 |    0.7600 |          0.0390 |           0.1000 |      7.0000 |             9.6754 |      1007.5049 |      0.6000 | \n",
      "   27 | 01m07s | -743.16258 |             0.5000 |    0.7600 |          0.0390 |           0.1000 |      7.6721 |             9.8191 |      1032.7841 |      0.6000 | \n",
      "   28 | 01m08s | -743.12101 |             0.9900 |    0.7600 |          0.0390 |           0.1000 |      9.0000 |             9.9000 |      1045.9328 |      0.8000 | \n"
     ]
    },
    {
     "name": "stderr",
     "output_type": "stream",
     "text": [
      "C:\\Users\\royal\\Anaconda3\\lib\\site-packages\\sklearn\\gaussian_process\\gpr.py:457: UserWarning: fmin_l_bfgs_b terminated abnormally with the  state: {'grad': array([0.27031007]), 'task': b'ABNORMAL_TERMINATION_IN_LNSRCH', 'funcalls': 49, 'nit': 4, 'warnflag': 2}\n",
      "  \" state: %s\" % convergence_dict)\n"
     ]
    },
    {
     "name": "stdout",
     "output_type": "stream",
     "text": [
      "   29 | 00m59s | -743.06025 |             0.9900 |    0.7600 |          0.0390 |           0.1000 |      9.0000 |             9.6754 |      1064.2740 |      0.6000 | \n",
      "   30 | 01m07s | -743.07944 |             0.9900 |    0.7600 |          0.0390 |           0.1000 |      9.0000 |             9.6754 |      1058.7920 |      0.6000 | \n"
     ]
    },
    {
     "name": "stderr",
     "output_type": "stream",
     "text": [
      "C:\\Users\\royal\\Anaconda3\\lib\\site-packages\\sklearn\\gaussian_process\\gpr.py:457: UserWarning: fmin_l_bfgs_b terminated abnormally with the  state: {'grad': array([1.01724488]), 'task': b'ABNORMAL_TERMINATION_IN_LNSRCH', 'funcalls': 49, 'nit': 4, 'warnflag': 2}\n",
      "  \" state: %s\" % convergence_dict)\n"
     ]
    },
    {
     "name": "stdout",
     "output_type": "stream",
     "text": [
      "-----------------------------------------------------\n",
      "Final Results\n",
      "XGBOOST: -742.945129\n"
     ]
    }
   ],
   "source": [
    "#xgboost bayesian optimization\n",
    "from sklearn.cross_validation import cross_val_score\n",
    "from bayes_opt import BayesianOptimization\n",
    "\n",
    "def xgboostcv(max_depth,learning_rate,n_estimators,gamma,min_child_weight,subsample,colsample_bytree,max_delta_step):\n",
    "    return cross_val_score(xgb.XGBRegressor(max_depth=int(max_depth),learning_rate=learning_rate,n_estimators=int(n_estimators),\n",
    "                                             silent=True,nthread=-1,gamma=gamma,min_child_weight=min_child_weight,\n",
    "                                           subsample=subsample,colsample_bytree=colsample_bytree),\n",
    "                           train2,Y,\"r2\",cv=5).mean()\n",
    "\n",
    "xgboostBO = BayesianOptimization(xgboostcv,{'max_depth': (5, 10),'learning_rate': (0.01, 0.3),'n_estimators': (50, 1200),\n",
    "                                  'gamma': (0.01,1.0),'min_child_weight': (2, 10),\n",
    "                                            'subsample': (0.6, 0.8),'colsample_bytree' :(0.5, 0.99)})\n",
    "\n",
    "\n",
    "xgboostBO.maximize()\n",
    "print('-'*53)\n",
    "print('Final Results')\n",
    "print('XGBOOST: %f' % xgboostBO.res['max']['max_val'])"
   ]
  },
  {
   "cell_type": "code",
   "execution_count": 36,
   "metadata": {
    "collapsed": true
   },
   "outputs": [
    {
     "name": "stdout",
     "output_type": "stream",
     "text": [
      "\u001b[31mInitialization\u001b[0m\n",
      "\u001b[94m-------------------------------------------------------------------------------------------------------------------------------------------------------------\u001b[0m\n",
      " Step |   Time |      Value |   colsample_bytree |   learning_rate |   max_depth |   n_estimators |   num_leaves |   reg_alpha |   reg_lambda |   subsample | \n",
      "    1 | 00m00s | \u001b[35m   0.93953\u001b[0m | \u001b[32m            0.9255\u001b[0m | \u001b[32m         0.0782\u001b[0m | \u001b[32m     6.9504\u001b[0m | \u001b[32m       49.4098\u001b[0m | \u001b[32m      8.4761\u001b[0m | \u001b[32m     1.9180\u001b[0m | \u001b[32m      0.0248\u001b[0m | \u001b[32m     0.7018\u001b[0m | \n",
      "    2 | 00m01s | \u001b[35m   0.94578\u001b[0m | \u001b[32m            0.9365\u001b[0m | \u001b[32m         0.0716\u001b[0m | \u001b[32m     6.0354\u001b[0m | \u001b[32m      128.7693\u001b[0m | \u001b[32m     24.6596\u001b[0m | \u001b[32m     1.7250\u001b[0m | \u001b[32m      0.0888\u001b[0m | \u001b[32m     0.6361\u001b[0m | \n",
      "    3 | 00m00s |    0.80776 |             0.6051 |          0.0611 |      8.0006 |        28.4322 |      15.5507 |      1.6885 |       0.0643 |      0.6271 | \n",
      "    4 | 00m00s |    0.94214 |             0.9681 |          0.0988 |      6.0960 |        37.9167 |      24.7322 |      2.2527 |       0.0432 |      0.6931 | \n",
      "    5 | 00m02s |    0.92866 |             0.6407 |          0.0746 |      8.5193 |       248.3508 |      28.0064 |      2.9625 |       0.0033 |      0.6766 | \n",
      "\u001b[31mBayesian Optimization\u001b[0m\n",
      "\u001b[94m-------------------------------------------------------------------------------------------------------------------------------------------------------------\u001b[0m\n",
      " Step |   Time |      Value |   colsample_bytree |   learning_rate |   max_depth |   n_estimators |   num_leaves |   reg_alpha |   reg_lambda |   subsample | \n",
      "    6 | 00m47s |    0.39777 |             0.9900 |          0.0010 |      5.0000 |       300.0000 |       6.0000 |      1.0000 |       0.1000 |      0.8000 | \n",
      "    7 | 00m49s |    0.94483 |             0.9900 |          0.1000 |      5.0000 |       200.0806 |       6.0000 |      3.0000 |       0.0000 |      0.8000 | \n",
      "    8 | 01m00s |    0.29167 |             0.9900 |          0.0010 |     10.0000 |       193.8481 |      30.0000 |      1.0000 |       0.0000 |      0.8000 | \n",
      "    9 | 00m45s |    0.11521 |             0.5000 |          0.0010 |     10.0000 |       100.2426 |       6.0000 |      3.0000 |       0.0000 |      0.8000 | \n",
      "   10 | 00m33s |    0.93561 |             0.5000 |          0.1000 |      5.0000 |       157.5643 |       6.0000 |      3.0000 |       0.1000 |      0.6000 | \n",
      "   11 | 00m34s |    0.25565 |             0.5000 |          0.0010 |      5.0000 |       244.5806 |       6.0000 |      1.0000 |       0.1000 |      0.6000 | \n",
      "   12 | 00m39s |    0.93140 |             0.5000 |          0.1000 |     10.0000 |       281.9911 |      30.0000 |      3.0000 |       0.0000 |      0.6000 | \n",
      "   13 | 00m36s |    0.91846 |             0.5000 |          0.1000 |      5.0000 |        74.3089 |      30.0000 |      1.0000 |       0.1000 |      0.6000 | \n",
      "   14 | 00m41s |    0.92978 |             0.5000 |          0.1000 |      5.0000 |       151.9183 |      30.0000 |      3.0000 |       0.0000 |      0.8000 | \n",
      "   15 | 00m43s |    0.01603 |             0.9900 |          0.0010 |      5.0000 |        10.0000 |      30.0000 |      3.0000 |       0.0000 |      0.6000 | \n",
      "   16 | 00m49s |    0.41174 |             0.9900 |          0.0010 |      5.0000 |       300.0000 |      30.0000 |      1.0000 |       0.1000 |      0.8000 | \n",
      "   17 | 00m47s |    0.26297 |             0.9900 |          0.0010 |     10.0000 |       179.2666 |       6.0000 |      1.0000 |       0.0000 |      0.8000 | \n",
      "   18 | 00m43s |    0.93450 |             0.5000 |          0.1000 |      5.0000 |       223.1994 |      30.0000 |      3.0000 |       0.1000 |      0.6000 | \n",
      "   19 | 00m54s |    0.15301 |             0.5000 |          0.0010 |      5.0000 |       136.9050 |       6.0000 |      3.0000 |       0.0000 |      0.8000 | \n",
      "   20 | 00m43s |    0.94544 |             0.9900 |          0.1000 |      5.0000 |       104.2798 |      30.0000 |      3.0000 |       0.1000 |      0.6000 | \n",
      "   21 | 00m54s |    0.93757 |             0.5000 |          0.1000 |     10.0000 |       217.7445 |       6.0000 |      3.0000 |       0.1000 |      0.6000 | \n",
      "   22 | 01m11s |    0.07022 |             0.5000 |          0.0010 |     10.0000 |        55.8406 |      30.0000 |      3.0000 |       0.0000 |      0.8000 | \n",
      "   23 | 00m48s |    0.94264 |             0.9900 |          0.1000 |      5.0000 |        73.1002 |       6.0000 |      1.0000 |       0.1000 |      0.6000 | \n",
      "   24 | 00m39s |    0.94508 |             0.9900 |          0.1000 |     10.0000 |       274.2337 |       6.0000 |      3.0000 |       0.0000 |      0.8000 | \n",
      "   25 | 00m49s |    0.37572 |             0.9900 |          0.0010 |      5.0000 |       266.0408 |      30.0000 |      1.0000 |       0.1000 |      0.8000 | \n",
      "   26 | 00m44s |    0.94537 |             0.9900 |          0.1000 |     10.0000 |        88.8083 |      30.0000 |      1.0000 |       0.1000 |      0.8000 | \n",
      "   27 | 00m40s |    0.92565 |             0.5000 |          0.1000 |     10.0000 |       138.2108 |      30.0000 |      1.0000 |       0.1000 |      0.6000 | \n",
      "   28 | 00m51s |    0.34093 |             0.9900 |          0.0010 |     10.0000 |       234.6365 |      30.0000 |      1.0000 |       0.0000 |      0.8000 | \n",
      "   29 | 00m47s |    0.93428 |             0.5000 |          0.1000 |      5.0000 |       211.1505 |      18.9650 |      3.0000 |       0.1000 |      0.6000 | \n",
      "   30 | 00m39s |    0.78676 |             0.9900 |          0.1000 |      5.0000 |        10.0000 |       6.0000 |      1.0000 |       0.1000 |      0.8000 | \n",
      "-----------------------------------------------------\n",
      "Final Results\n",
      "XGBOOST: 0.945779\n"
     ]
    }
   ],
   "source": [
    "#lightgbm bayesian optimization\n",
    "from sklearn.cross_validation import cross_val_score\n",
    "from bayes_opt import BayesianOptimization\n",
    "\n",
    "def xgboostcv(max_depth,learning_rate,n_estimators,num_leaves,reg_alpha,reg_lambda,subsample,colsample_bytree):\n",
    "    return cross_val_score(lgb.LGBMRegressor(max_depth=int(max_depth),learning_rate=learning_rate,n_estimators=int(n_estimators),\n",
    "                                             silent=True,nthread=-1,num_leaves=int(num_leaves),reg_alpha=reg_alpha,\n",
    "                                           reg_lambda=reg_lambda,subsample=subsample,colsample_bytree=colsample_bytree),\n",
    "                           train2,Y,\"r2\",cv=5).mean()\n",
    "\n",
    "xgboostBO = BayesianOptimization(xgboostcv,{'max_depth': (5, 10),'learning_rate': (0.001, 0.1),'n_estimators': (10, 300),\n",
    "                                  'num_leaves': (6,30),'reg_alpha': (1, 3),'reg_lambda': (0, 0.1),\n",
    "                                            'subsample': (0.6, 0.8),'colsample_bytree' :(0.5, 0.99)})\n",
    "\n",
    "xgboostBO.maximize()\n",
    "print('-'*53)\n",
    "print('Final Results')\n",
    "print('XGBOOST: %f' % xgboostBO.res['max']['max_val'])"
   ]
  },
  {
   "cell_type": "code",
   "execution_count": 71,
   "metadata": {},
   "outputs": [
    {
     "data": {
      "text/plain": [
       "{'max_params': {'colsample_bytree': 0.99,\n",
       "  'gamma': 0.76,\n",
       "  'learning_rate': 0.039,\n",
       "  'max_delta_step': 0.1,\n",
       "  'max_depth': 7.0,\n",
       "  'min_child_weight': 9.6754,\n",
       "  'n_estimators': 1100.0,\n",
       "  'subsample': 0.8},\n",
       " 'max_val': -742.9451286952915}"
      ]
     },
     "execution_count": 71,
     "metadata": {},
     "output_type": "execute_result"
    }
   ],
   "source": [
    "##get the max accuracy hyperparameter.\n",
    "xgboostBO.res['max']"
   ]
  }
 ],
 "metadata": {
  "kernelspec": {
   "display_name": "Python 3",
   "language": "python",
   "name": "python3"
  },
  "language_info": {
   "codemirror_mode": {
    "name": "ipython",
    "version": 3
   },
   "file_extension": ".py",
   "mimetype": "text/x-python",
   "name": "python",
   "nbconvert_exporter": "python",
   "pygments_lexer": "ipython3",
   "version": "3.6.1"
  }
 },
 "nbformat": 4,
 "nbformat_minor": 2
}
