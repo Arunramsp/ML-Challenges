{
 "cells": [
  {
   "cell_type": "code",
   "execution_count": 289,
   "metadata": {},
   "outputs": [
    {
     "name": "stdout",
     "output_type": "stream",
     "text": [
      "Wall time: 38 ms\n"
     ]
    }
   ],
   "source": [
    "%%time\n",
    "%matplotlib inline\n",
    "import numpy as np\n",
    "import os\n",
    "import glob\n",
    "import matplotlib.pyplot as plt\n",
    "import seaborn as sns\n",
    "import pandas as pd\n",
    "import random\n",
    "import xgboost as xgb\n",
    "from sklearn.metrics import matthews_corrcoef\n",
    "\n",
    "from sklearn import preprocessing\n",
    "from sklearn.linear_model import LogisticRegression\n",
    "from xgboost import XGBRegressor\n",
    "import lightgbm as lgb\n",
    "from lightgbm import LGBMRegressor\n",
    "from sklearn.metrics import accuracy_score\n",
    "from sklearn.model_selection import GridSearchCV\n",
    "from sklearn.cross_validation import StratifiedKFold\n",
    "from sklearn.metrics import matthews_corrcoef, roc_auc_score\n",
    "from sklearn.grid_search import RandomizedSearchCV\n",
    "from catboost import CatBoostClassifier,CatBoostRegressor\n",
    "\n",
    "from rgf.sklearn import RGFClassifier,RGFRegressor\n",
    "from sklearn.ensemble import RandomForestClassifier\n",
    "from sklearn.preprocessing import OneHotEncoder,LabelEncoder\n",
    "\n",
    "from sklearn.svm import SVC\n",
    "from sklearn.svm import SVR\n",
    "from sklearn.ensemble import ExtraTreesClassifier,ExtraTreesRegressor\n",
    "from sklearn.feature_selection import VarianceThreshold\n",
    "\n",
    "from sklearn.preprocessing import StandardScaler\n",
    "from sklearn.decomposition import PCA\n",
    "from sklearn.model_selection import KFold\n",
    "from sklearn.metrics import r2_score,mean_squared_error\n",
    "from math import sqrt\n",
    "from scipy import stats\n",
    "from scipy.stats import norm, skew #for some statistics\n",
    "from sklearn.linear_model import LinearRegression, RidgeCV, LassoCV, ElasticNetCV"
   ]
  },
  {
   "cell_type": "code",
   "execution_count": 282,
   "metadata": {
    "collapsed": true
   },
   "outputs": [],
   "source": [
    "from IPython.core.interactiveshell import InteractiveShell\n",
    "InteractiveShell.ast_node_interactivity = \"all\""
   ]
  },
  {
   "cell_type": "code",
   "execution_count": 321,
   "metadata": {},
   "outputs": [
    {
     "name": "stdout",
     "output_type": "stream",
     "text": [
      "Wall time: 2.46 s\n"
     ]
    }
   ],
   "source": [
    "%%time\n",
    "os.chdir(r'C:\\Users\\royal\\Downloads\\analiticv')\n",
    "train=pd.read_csv('train_NIR5Yl1.csv')\n",
    "test=pd.read_csv('test_8i3B3FC.csv')"
   ]
  },
  {
   "cell_type": "code",
   "execution_count": 322,
   "metadata": {},
   "outputs": [
    {
     "data": {
      "text/html": [
       "<div>\n",
       "<style scoped>\n",
       "    .dataframe tbody tr th:only-of-type {\n",
       "        vertical-align: middle;\n",
       "    }\n",
       "\n",
       "    .dataframe tbody tr th {\n",
       "        vertical-align: top;\n",
       "    }\n",
       "\n",
       "    .dataframe thead th {\n",
       "        text-align: right;\n",
       "    }\n",
       "</style>\n",
       "<table border=\"1\" class=\"dataframe\">\n",
       "  <thead>\n",
       "    <tr style=\"text-align: right;\">\n",
       "      <th></th>\n",
       "      <th>ID</th>\n",
       "      <th>Tag</th>\n",
       "      <th>Reputation</th>\n",
       "      <th>Answers</th>\n",
       "      <th>Username</th>\n",
       "      <th>Views</th>\n",
       "      <th>Upvotes</th>\n",
       "    </tr>\n",
       "  </thead>\n",
       "  <tbody>\n",
       "    <tr>\n",
       "      <th>0</th>\n",
       "      <td>52664</td>\n",
       "      <td>a</td>\n",
       "      <td>3942.0</td>\n",
       "      <td>2.0</td>\n",
       "      <td>155623</td>\n",
       "      <td>7855.0</td>\n",
       "      <td>42.0</td>\n",
       "    </tr>\n",
       "    <tr>\n",
       "      <th>1</th>\n",
       "      <td>327662</td>\n",
       "      <td>a</td>\n",
       "      <td>26046.0</td>\n",
       "      <td>12.0</td>\n",
       "      <td>21781</td>\n",
       "      <td>55801.0</td>\n",
       "      <td>1175.0</td>\n",
       "    </tr>\n",
       "    <tr>\n",
       "      <th>2</th>\n",
       "      <td>468453</td>\n",
       "      <td>c</td>\n",
       "      <td>1358.0</td>\n",
       "      <td>4.0</td>\n",
       "      <td>56177</td>\n",
       "      <td>8067.0</td>\n",
       "      <td>60.0</td>\n",
       "    </tr>\n",
       "    <tr>\n",
       "      <th>3</th>\n",
       "      <td>96996</td>\n",
       "      <td>a</td>\n",
       "      <td>264.0</td>\n",
       "      <td>3.0</td>\n",
       "      <td>168793</td>\n",
       "      <td>27064.0</td>\n",
       "      <td>9.0</td>\n",
       "    </tr>\n",
       "    <tr>\n",
       "      <th>4</th>\n",
       "      <td>131465</td>\n",
       "      <td>c</td>\n",
       "      <td>4271.0</td>\n",
       "      <td>4.0</td>\n",
       "      <td>112223</td>\n",
       "      <td>13986.0</td>\n",
       "      <td>83.0</td>\n",
       "    </tr>\n",
       "  </tbody>\n",
       "</table>\n",
       "</div>"
      ],
      "text/plain": [
       "       ID Tag  Reputation  Answers  Username    Views  Upvotes\n",
       "0   52664   a      3942.0      2.0    155623   7855.0     42.0\n",
       "1  327662   a     26046.0     12.0     21781  55801.0   1175.0\n",
       "2  468453   c      1358.0      4.0     56177   8067.0     60.0\n",
       "3   96996   a       264.0      3.0    168793  27064.0      9.0\n",
       "4  131465   c      4271.0      4.0    112223  13986.0     83.0"
      ]
     },
     "execution_count": 322,
     "metadata": {},
     "output_type": "execute_result"
    },
    {
     "data": {
      "text/html": [
       "<div>\n",
       "<style scoped>\n",
       "    .dataframe tbody tr th:only-of-type {\n",
       "        vertical-align: middle;\n",
       "    }\n",
       "\n",
       "    .dataframe tbody tr th {\n",
       "        vertical-align: top;\n",
       "    }\n",
       "\n",
       "    .dataframe thead th {\n",
       "        text-align: right;\n",
       "    }\n",
       "</style>\n",
       "<table border=\"1\" class=\"dataframe\">\n",
       "  <thead>\n",
       "    <tr style=\"text-align: right;\">\n",
       "      <th></th>\n",
       "      <th>ID</th>\n",
       "      <th>Tag</th>\n",
       "      <th>Reputation</th>\n",
       "      <th>Answers</th>\n",
       "      <th>Username</th>\n",
       "      <th>Views</th>\n",
       "    </tr>\n",
       "  </thead>\n",
       "  <tbody>\n",
       "    <tr>\n",
       "      <th>0</th>\n",
       "      <td>366953</td>\n",
       "      <td>a</td>\n",
       "      <td>5645.0</td>\n",
       "      <td>3.0</td>\n",
       "      <td>50652</td>\n",
       "      <td>33200.0</td>\n",
       "    </tr>\n",
       "    <tr>\n",
       "      <th>1</th>\n",
       "      <td>71864</td>\n",
       "      <td>c</td>\n",
       "      <td>24511.0</td>\n",
       "      <td>6.0</td>\n",
       "      <td>37685</td>\n",
       "      <td>2730.0</td>\n",
       "    </tr>\n",
       "    <tr>\n",
       "      <th>2</th>\n",
       "      <td>141692</td>\n",
       "      <td>i</td>\n",
       "      <td>927.0</td>\n",
       "      <td>1.0</td>\n",
       "      <td>135293</td>\n",
       "      <td>21167.0</td>\n",
       "    </tr>\n",
       "    <tr>\n",
       "      <th>3</th>\n",
       "      <td>316833</td>\n",
       "      <td>i</td>\n",
       "      <td>21.0</td>\n",
       "      <td>6.0</td>\n",
       "      <td>166998</td>\n",
       "      <td>18528.0</td>\n",
       "    </tr>\n",
       "    <tr>\n",
       "      <th>4</th>\n",
       "      <td>440445</td>\n",
       "      <td>i</td>\n",
       "      <td>4475.0</td>\n",
       "      <td>10.0</td>\n",
       "      <td>53504</td>\n",
       "      <td>57240.0</td>\n",
       "    </tr>\n",
       "  </tbody>\n",
       "</table>\n",
       "</div>"
      ],
      "text/plain": [
       "       ID Tag  Reputation  Answers  Username    Views\n",
       "0  366953   a      5645.0      3.0     50652  33200.0\n",
       "1   71864   c     24511.0      6.0     37685   2730.0\n",
       "2  141692   i       927.0      1.0    135293  21167.0\n",
       "3  316833   i        21.0      6.0    166998  18528.0\n",
       "4  440445   i      4475.0     10.0     53504  57240.0"
      ]
     },
     "execution_count": 322,
     "metadata": {},
     "output_type": "execute_result"
    }
   ],
   "source": [
    "train.head()\n",
    "test.head()"
   ]
  },
  {
   "cell_type": "code",
   "execution_count": 323,
   "metadata": {},
   "outputs": [
    {
     "data": {
      "text/plain": [
       "(330045, 7)"
      ]
     },
     "execution_count": 323,
     "metadata": {},
     "output_type": "execute_result"
    },
    {
     "data": {
      "text/plain": [
       "(141448, 6)"
      ]
     },
     "execution_count": 323,
     "metadata": {},
     "output_type": "execute_result"
    },
    {
     "data": {
      "text/plain": [
       "Index(['ID', 'Tag', 'Reputation', 'Answers', 'Username', 'Views', 'Upvotes'], dtype='object')"
      ]
     },
     "execution_count": 323,
     "metadata": {},
     "output_type": "execute_result"
    }
   ],
   "source": [
    "train.shape\n",
    "test.shape\n",
    "train.columns"
   ]
  },
  {
   "cell_type": "code",
   "execution_count": 324,
   "metadata": {},
   "outputs": [
    {
     "data": {
      "text/plain": [
       "330045"
      ]
     },
     "execution_count": 324,
     "metadata": {},
     "output_type": "execute_result"
    },
    {
     "data": {
      "text/plain": [
       "array(['a', 'c', 'r', 'j', 'p', 's', 'h', 'o', 'i', 'x'], dtype=object)"
      ]
     },
     "execution_count": 324,
     "metadata": {},
     "output_type": "execute_result"
    },
    {
     "data": {
      "text/plain": [
       "16527"
      ]
     },
     "execution_count": 324,
     "metadata": {},
     "output_type": "execute_result"
    },
    {
     "data": {
      "text/plain": [
       "array([  2.,  12.,   4.,   3.,   1.,   7.,   8.,   0.,   5.,  13.,   9.,\n",
       "        22.,  10.,   6.,  11.,  41.,  16.,  17.,  25.,  19.,  21.,  15.,\n",
       "        20.,  14.,  18.,  30.,  34.,  37.,  33.,  24.,  26.,  28.,  29.,\n",
       "        31.,  27.,  23.,  32.,  39.,  49.,  35.,  38.,  36.,  50.,  43.,\n",
       "        47.,  61.,  51.,  57.,  40.,  54.,  46.,  62.,  48.,  60.,  53.,\n",
       "        59.,  42.,  45.,  76.,  66.,  44.,  58.,  55.])"
      ]
     },
     "execution_count": 324,
     "metadata": {},
     "output_type": "execute_result"
    },
    {
     "data": {
      "text/plain": [
       "141802"
      ]
     },
     "execution_count": 324,
     "metadata": {},
     "output_type": "execute_result"
    },
    {
     "data": {
      "text/plain": [
       "82137"
      ]
     },
     "execution_count": 324,
     "metadata": {},
     "output_type": "execute_result"
    },
    {
     "data": {
      "text/plain": [
       "7239"
      ]
     },
     "execution_count": 324,
     "metadata": {},
     "output_type": "execute_result"
    }
   ],
   "source": [
    "len(train.ID)\n",
    "train.Tag.unique()\n",
    "len(train.Reputation.unique())\n",
    "train.Answers.unique()\n",
    "len(train.Username.unique())\n",
    "len(train.Views.unique())\n",
    "len(train.Upvotes.unique())"
   ]
  },
  {
   "cell_type": "code",
   "execution_count": 325,
   "metadata": {},
   "outputs": [
    {
     "data": {
      "text/plain": [
       "<matplotlib.axes._subplots.AxesSubplot at 0x2527c898>"
      ]
     },
     "execution_count": 325,
     "metadata": {},
     "output_type": "execute_result"
    },
    {
     "data": {
      "image/png": "[encoded data removed]",
      "text/plain": [
       "<Figure size 864x864 with 2 Axes>"
      ]
     },
     "metadata": {},
     "output_type": "display_data"
    }
   ],
   "source": [
    "f,ax=plt.subplots(figsize=(12,12))\n",
    "sns.heatmap(train[['Tag','Reputation','Answers','Views','Upvotes']].corr(),annot=True,linewidths=.5,fmt='.1f',ax=ax)"
   ]
  },
  {
   "cell_type": "code",
   "execution_count": 151,
   "metadata": {},
   "outputs": [
    {
     "data": {
      "text/plain": [
       "<matplotlib.axes._subplots.AxesSubplot at 0x13ca0710>"
      ]
     },
     "execution_count": 151,
     "metadata": {},
     "output_type": "execute_result"
    },
    {
     "data": {
      "image/png": "[encoded data removed]",
      "text/plain": [
       "<Figure size 432x288 with 1 Axes>"
      ]
     },
     "metadata": {},
     "output_type": "display_data"
    }
   ],
   "source": [
    "# train.Views.hist()\n",
    "test['Tag'].value_counts().sort_index().head(20).plot.bar()"
   ]
  },
  {
   "cell_type": "code",
   "execution_count": 326,
   "metadata": {},
   "outputs": [
    {
     "data": {
      "text/plain": [
       "<matplotlib.axes._subplots.AxesSubplot at 0x252597f0>"
      ]
     },
     "execution_count": 326,
     "metadata": {},
     "output_type": "execute_result"
    },
    {
     "data": {
      "image/png": "[encoded data removed]",
      "text/plain": [
       "<Figure size 432x288 with 1 Axes>"
      ]
     },
     "metadata": {},
     "output_type": "display_data"
    }
   ],
   "source": [
    "\n",
    "train['Tag'].value_counts().sort_index().head(20).plot.bar()\n",
    "# test['Tag'].value_counts().sort_index().head(20).plot.bar()"
   ]
  },
  {
   "cell_type": "code",
   "execution_count": 327,
   "metadata": {},
   "outputs": [
    {
     "data": {
      "text/plain": [
       "<matplotlib.axes._subplots.AxesSubplot at 0x12e4c320>"
      ]
     },
     "execution_count": 327,
     "metadata": {},
     "output_type": "execute_result"
    },
    {
     "data": {
      "image/png": "[encoded data removed]",
      "text/plain": [
       "<Figure size 432x288 with 1 Axes>"
      ]
     },
     "metadata": {},
     "output_type": "display_data"
    }
   ],
   "source": [
    "train['Upvotes'].value_counts().sort_index()[:1000].plot.area()"
   ]
  },
  {
   "cell_type": "code",
   "execution_count": 331,
   "metadata": {},
   "outputs": [
    {
     "data": {
      "text/plain": [
       "<matplotlib.collections.PathCollection at 0x13d63cf8>"
      ]
     },
     "execution_count": 331,
     "metadata": {},
     "output_type": "execute_result"
    },
    {
     "data": {
      "text/plain": [
       "Text(0,0.5,'Upvotes')"
      ]
     },
     "execution_count": 331,
     "metadata": {},
     "output_type": "execute_result"
    },
    {
     "data": {
      "text/plain": [
       "Text(0.5,0,'Views')"
      ]
     },
     "execution_count": 331,
     "metadata": {},
     "output_type": "execute_result"
    },
    {
     "data": {
      "image/png": "[encoded data removed]",
      "text/plain": [
       "<Figure size 432x288 with 1 Axes>"
      ]
     },
     "metadata": {},
     "output_type": "display_data"
    }
   ],
   "source": [
    "fig, ax = plt.subplots()\n",
    "ax.scatter(x = train['Views'], y = train['Upvotes'])\n",
    "plt.ylabel('Upvotes', fontsize=13)\n",
    "plt.xlabel('Views', fontsize=13)\n",
    "plt.show()"
   ]
  },
  {
   "cell_type": "code",
   "execution_count": 92,
   "metadata": {},
   "outputs": [
    {
     "data": {
      "text/html": [
       "<div>\n",
       "<style scoped>\n",
       "    .dataframe tbody tr th:only-of-type {\n",
       "        vertical-align: middle;\n",
       "    }\n",
       "\n",
       "    .dataframe tbody tr th {\n",
       "        vertical-align: top;\n",
       "    }\n",
       "\n",
       "    .dataframe thead th {\n",
       "        text-align: right;\n",
       "    }\n",
       "</style>\n",
       "<table border=\"1\" class=\"dataframe\">\n",
       "  <thead>\n",
       "    <tr style=\"text-align: right;\">\n",
       "      <th></th>\n",
       "      <th>ID</th>\n",
       "      <th>Tag</th>\n",
       "      <th>Reputation</th>\n",
       "      <th>Answers</th>\n",
       "      <th>Username</th>\n",
       "      <th>Views</th>\n",
       "      <th>Upvotes</th>\n",
       "    </tr>\n",
       "  </thead>\n",
       "  <tbody>\n",
       "    <tr>\n",
       "      <th>18636</th>\n",
       "      <td>300612</td>\n",
       "      <td>c</td>\n",
       "      <td>163511.0</td>\n",
       "      <td>20.0</td>\n",
       "      <td>58206</td>\n",
       "      <td>1331067.0</td>\n",
       "      <td>360073.0</td>\n",
       "    </tr>\n",
       "    <tr>\n",
       "      <th>33523</th>\n",
       "      <td>451519</td>\n",
       "      <td>j</td>\n",
       "      <td>280802.0</td>\n",
       "      <td>15.0</td>\n",
       "      <td>58312</td>\n",
       "      <td>786158.0</td>\n",
       "      <td>278728.0</td>\n",
       "    </tr>\n",
       "    <tr>\n",
       "      <th>37080</th>\n",
       "      <td>316311</td>\n",
       "      <td>j</td>\n",
       "      <td>518066.0</td>\n",
       "      <td>32.0</td>\n",
       "      <td>30884</td>\n",
       "      <td>1068171.0</td>\n",
       "      <td>460447.0</td>\n",
       "    </tr>\n",
       "    <tr>\n",
       "      <th>43972</th>\n",
       "      <td>213203</td>\n",
       "      <td>j</td>\n",
       "      <td>287981.0</td>\n",
       "      <td>21.0</td>\n",
       "      <td>32675</td>\n",
       "      <td>1225923.0</td>\n",
       "      <td>483995.0</td>\n",
       "    </tr>\n",
       "    <tr>\n",
       "      <th>55806</th>\n",
       "      <td>194475</td>\n",
       "      <td>h</td>\n",
       "      <td>90911.0</td>\n",
       "      <td>29.0</td>\n",
       "      <td>6697</td>\n",
       "      <td>4417626.0</td>\n",
       "      <td>445709.0</td>\n",
       "    </tr>\n",
       "    <tr>\n",
       "      <th>86457</th>\n",
       "      <td>160061</td>\n",
       "      <td>j</td>\n",
       "      <td>491244.0</td>\n",
       "      <td>39.0</td>\n",
       "      <td>88862</td>\n",
       "      <td>1815987.0</td>\n",
       "      <td>615278.0</td>\n",
       "    </tr>\n",
       "    <tr>\n",
       "      <th>132439</th>\n",
       "      <td>441845</td>\n",
       "      <td>j</td>\n",
       "      <td>48827.0</td>\n",
       "      <td>59.0</td>\n",
       "      <td>171666</td>\n",
       "      <td>5004985.0</td>\n",
       "      <td>261157.0</td>\n",
       "    </tr>\n",
       "    <tr>\n",
       "      <th>146919</th>\n",
       "      <td>92513</td>\n",
       "      <td>p</td>\n",
       "      <td>89433.0</td>\n",
       "      <td>14.0</td>\n",
       "      <td>13600</td>\n",
       "      <td>2662604.0</td>\n",
       "      <td>286529.0</td>\n",
       "    </tr>\n",
       "    <tr>\n",
       "      <th>164943</th>\n",
       "      <td>296722</td>\n",
       "      <td>a</td>\n",
       "      <td>518091.0</td>\n",
       "      <td>19.0</td>\n",
       "      <td>30884</td>\n",
       "      <td>380058.0</td>\n",
       "      <td>308308.0</td>\n",
       "    </tr>\n",
       "    <tr>\n",
       "      <th>175240</th>\n",
       "      <td>326345</td>\n",
       "      <td>j</td>\n",
       "      <td>99319.0</td>\n",
       "      <td>36.0</td>\n",
       "      <td>141466</td>\n",
       "      <td>2256833.0</td>\n",
       "      <td>248521.0</td>\n",
       "    </tr>\n",
       "    <tr>\n",
       "      <th>204288</th>\n",
       "      <td>61641</td>\n",
       "      <td>p</td>\n",
       "      <td>92476.0</td>\n",
       "      <td>10.0</td>\n",
       "      <td>45165</td>\n",
       "      <td>2056881.0</td>\n",
       "      <td>222334.0</td>\n",
       "    </tr>\n",
       "    <tr>\n",
       "      <th>206485</th>\n",
       "      <td>330177</td>\n",
       "      <td>c</td>\n",
       "      <td>287981.0</td>\n",
       "      <td>21.0</td>\n",
       "      <td>32675</td>\n",
       "      <td>1225935.0</td>\n",
       "      <td>317555.0</td>\n",
       "    </tr>\n",
       "    <tr>\n",
       "      <th>303013</th>\n",
       "      <td>176381</td>\n",
       "      <td>j</td>\n",
       "      <td>91541.0</td>\n",
       "      <td>41.0</td>\n",
       "      <td>19092</td>\n",
       "      <td>2447579.0</td>\n",
       "      <td>296862.0</td>\n",
       "    </tr>\n",
       "    <tr>\n",
       "      <th>323367</th>\n",
       "      <td>451382</td>\n",
       "      <td>j</td>\n",
       "      <td>361277.0</td>\n",
       "      <td>20.0</td>\n",
       "      <td>70902</td>\n",
       "      <td>1011323.0</td>\n",
       "      <td>588966.0</td>\n",
       "    </tr>\n",
       "  </tbody>\n",
       "</table>\n",
       "</div>"
      ],
      "text/plain": [
       "            ID Tag  Reputation  Answers  Username      Views   Upvotes\n",
       "18636   300612   c    163511.0     20.0     58206  1331067.0  360073.0\n",
       "33523   451519   j    280802.0     15.0     58312   786158.0  278728.0\n",
       "37080   316311   j    518066.0     32.0     30884  1068171.0  460447.0\n",
       "43972   213203   j    287981.0     21.0     32675  1225923.0  483995.0\n",
       "55806   194475   h     90911.0     29.0      6697  4417626.0  445709.0\n",
       "86457   160061   j    491244.0     39.0     88862  1815987.0  615278.0\n",
       "132439  441845   j     48827.0     59.0    171666  5004985.0  261157.0\n",
       "146919   92513   p     89433.0     14.0     13600  2662604.0  286529.0\n",
       "164943  296722   a    518091.0     19.0     30884   380058.0  308308.0\n",
       "175240  326345   j     99319.0     36.0    141466  2256833.0  248521.0\n",
       "204288   61641   p     92476.0     10.0     45165  2056881.0  222334.0\n",
       "206485  330177   c    287981.0     21.0     32675  1225935.0  317555.0\n",
       "303013  176381   j     91541.0     41.0     19092  2447579.0  296862.0\n",
       "323367  451382   j    361277.0     20.0     70902  1011323.0  588966.0"
      ]
     },
     "execution_count": 92,
     "metadata": {},
     "output_type": "execute_result"
    }
   ],
   "source": [
    "##outliers at 3000000 views have to remove that\n",
    "# test[test.Views > 3000000]\n",
    "train[train.Upvotes>210000]"
   ]
  },
  {
   "cell_type": "code",
   "execution_count": 329,
   "metadata": {},
   "outputs": [
    {
     "data": {
      "text/plain": [
       "<matplotlib.collections.PathCollection at 0x13d99240>"
      ]
     },
     "execution_count": 329,
     "metadata": {},
     "output_type": "execute_result"
    },
    {
     "data": {
      "text/plain": [
       "Text(0,0.5,'Upvotes')"
      ]
     },
     "execution_count": 329,
     "metadata": {},
     "output_type": "execute_result"
    },
    {
     "data": {
      "text/plain": [
       "Text(0.5,0,'Reputation')"
      ]
     },
     "execution_count": 329,
     "metadata": {},
     "output_type": "execute_result"
    },
    {
     "data": {
      "image/png": "[encoded data removed]",
      "text/plain": [
       "<Figure size 432x288 with 1 Axes>"
      ]
     },
     "metadata": {},
     "output_type": "display_data"
    }
   ],
   "source": [
    "fig, ax = plt.subplots()\n",
    "ax.scatter(x = train['Reputation'], y = train['Upvotes'])\n",
    "plt.ylabel('Upvotes', fontsize=13)\n",
    "plt.xlabel('Reputation', fontsize=13)\n",
    "plt.show()"
   ]
  },
  {
   "cell_type": "code",
   "execution_count": 330,
   "metadata": {},
   "outputs": [
    {
     "data": {
      "text/html": [
       "<div>\n",
       "<style scoped>\n",
       "    .dataframe tbody tr th:only-of-type {\n",
       "        vertical-align: middle;\n",
       "    }\n",
       "\n",
       "    .dataframe tbody tr th {\n",
       "        vertical-align: top;\n",
       "    }\n",
       "\n",
       "    .dataframe thead th {\n",
       "        text-align: right;\n",
       "    }\n",
       "</style>\n",
       "<table border=\"1\" class=\"dataframe\">\n",
       "  <thead>\n",
       "    <tr style=\"text-align: right;\">\n",
       "      <th></th>\n",
       "      <th>ID</th>\n",
       "      <th>Tag</th>\n",
       "      <th>Reputation</th>\n",
       "      <th>Answers</th>\n",
       "      <th>Username</th>\n",
       "      <th>Views</th>\n",
       "    </tr>\n",
       "  </thead>\n",
       "  <tbody>\n",
       "    <tr>\n",
       "      <th>88713</th>\n",
       "      <td>401171</td>\n",
       "      <td>s</td>\n",
       "      <td>1042428.0</td>\n",
       "      <td>9.0</td>\n",
       "      <td>46604</td>\n",
       "      <td>5563.0</td>\n",
       "    </tr>\n",
       "  </tbody>\n",
       "</table>\n",
       "</div>"
      ],
      "text/plain": [
       "           ID Tag  Reputation  Answers  Username   Views\n",
       "88713  401171   s   1042428.0      9.0     46604  5563.0"
      ]
     },
     "execution_count": 330,
     "metadata": {},
     "output_type": "execute_result"
    }
   ],
   "source": [
    "test[test.Reputation > 900000]"
   ]
  },
  {
   "cell_type": "code",
   "execution_count": 257,
   "metadata": {},
   "outputs": [
    {
     "data": {
      "text/plain": [
       "<matplotlib.collections.PathCollection at 0xf4724e0>"
      ]
     },
     "execution_count": 257,
     "metadata": {},
     "output_type": "execute_result"
    },
    {
     "data": {
      "text/plain": [
       "Text(0,0.5,'Upvotes')"
      ]
     },
     "execution_count": 257,
     "metadata": {},
     "output_type": "execute_result"
    },
    {
     "data": {
      "text/plain": [
       "Text(0.5,0,'Answers')"
      ]
     },
     "execution_count": 257,
     "metadata": {},
     "output_type": "execute_result"
    },
    {
     "data": {
      "image/png": "[encoded data removed]",
      "text/plain": [
       "<Figure size 432x288 with 1 Axes>"
      ]
     },
     "metadata": {},
     "output_type": "display_data"
    }
   ],
   "source": [
    "#ID\tTag\tReputation\tAnswers\tUsername\tViews\tUpvotes\n",
    "#Tag - ['a', 'c', 'r', 'j', 'p', 's', 'h', 'o', 'i', 'x']\n",
    "fig, ax = plt.subplots()\n",
    "ax.scatter(x = train[train.Tag == 'x']['Answers'], y = train[train.Tag == 'x']['Upvotes'])\n",
    "plt.ylabel('Upvotes', fontsize=13)\n",
    "plt.xlabel('Answers', fontsize=13)\n",
    "plt.show()"
   ]
  },
  {
   "cell_type": "code",
   "execution_count": 258,
   "metadata": {},
   "outputs": [
    {
     "name": "stderr",
     "output_type": "stream",
     "text": [
      "C:\\Users\\royal\\Anaconda3\\lib\\site-packages\\ipykernel_launcher.py:1: UserWarning: Boolean Series key will be reindexed to match DataFrame index.\n",
      "  \"\"\"Entry point for launching an IPython kernel.\n"
     ]
    },
    {
     "data": {
      "text/html": [
       "<div>\n",
       "<style scoped>\n",
       "    .dataframe tbody tr th:only-of-type {\n",
       "        vertical-align: middle;\n",
       "    }\n",
       "\n",
       "    .dataframe tbody tr th {\n",
       "        vertical-align: top;\n",
       "    }\n",
       "\n",
       "    .dataframe thead th {\n",
       "        text-align: right;\n",
       "    }\n",
       "</style>\n",
       "<table border=\"1\" class=\"dataframe\">\n",
       "  <thead>\n",
       "    <tr style=\"text-align: right;\">\n",
       "      <th></th>\n",
       "      <th>ID</th>\n",
       "      <th>Tag</th>\n",
       "      <th>Reputation</th>\n",
       "      <th>Answers</th>\n",
       "      <th>Username</th>\n",
       "      <th>Views</th>\n",
       "      <th>Upvotes</th>\n",
       "    </tr>\n",
       "  </thead>\n",
       "  <tbody>\n",
       "    <tr>\n",
       "      <th>49693</th>\n",
       "      <td>201149</td>\n",
       "      <td>x</td>\n",
       "      <td>7516.0</td>\n",
       "      <td>29.0</td>\n",
       "      <td>72591</td>\n",
       "      <td>125608.0</td>\n",
       "      <td>631.0</td>\n",
       "    </tr>\n",
       "    <tr>\n",
       "      <th>57838</th>\n",
       "      <td>415253</td>\n",
       "      <td>x</td>\n",
       "      <td>0.0</td>\n",
       "      <td>32.0</td>\n",
       "      <td>62142</td>\n",
       "      <td>335417.0</td>\n",
       "      <td>0.0</td>\n",
       "    </tr>\n",
       "    <tr>\n",
       "      <th>318000</th>\n",
       "      <td>442284</td>\n",
       "      <td>x</td>\n",
       "      <td>31787.0</td>\n",
       "      <td>31.0</td>\n",
       "      <td>89106</td>\n",
       "      <td>381724.0</td>\n",
       "      <td>12637.0</td>\n",
       "    </tr>\n",
       "  </tbody>\n",
       "</table>\n",
       "</div>"
      ],
      "text/plain": [
       "            ID Tag  Reputation  Answers  Username     Views  Upvotes\n",
       "49693   201149   x      7516.0     29.0     72591  125608.0    631.0\n",
       "57838   415253   x         0.0     32.0     62142  335417.0      0.0\n",
       "318000  442284   x     31787.0     31.0     89106  381724.0  12637.0"
      ]
     },
     "execution_count": 258,
     "metadata": {},
     "output_type": "execute_result"
    },
    {
     "name": "stderr",
     "output_type": "stream",
     "text": [
      "C:\\Users\\royal\\Anaconda3\\lib\\site-packages\\ipykernel_launcher.py:2: UserWarning: Boolean Series key will be reindexed to match DataFrame index.\n",
      "  \n"
     ]
    },
    {
     "data": {
      "text/html": [
       "<div>\n",
       "<style scoped>\n",
       "    .dataframe tbody tr th:only-of-type {\n",
       "        vertical-align: middle;\n",
       "    }\n",
       "\n",
       "    .dataframe tbody tr th {\n",
       "        vertical-align: top;\n",
       "    }\n",
       "\n",
       "    .dataframe thead th {\n",
       "        text-align: right;\n",
       "    }\n",
       "</style>\n",
       "<table border=\"1\" class=\"dataframe\">\n",
       "  <thead>\n",
       "    <tr style=\"text-align: right;\">\n",
       "      <th></th>\n",
       "      <th>ID</th>\n",
       "      <th>Tag</th>\n",
       "      <th>Reputation</th>\n",
       "      <th>Answers</th>\n",
       "      <th>Username</th>\n",
       "      <th>Views</th>\n",
       "    </tr>\n",
       "  </thead>\n",
       "  <tbody>\n",
       "  </tbody>\n",
       "</table>\n",
       "</div>"
      ],
      "text/plain": [
       "Empty DataFrame\n",
       "Columns: [ID, Tag, Reputation, Answers, Username, Views]\n",
       "Index: []"
      ]
     },
     "execution_count": 258,
     "metadata": {},
     "output_type": "execute_result"
    }
   ],
   "source": [
    "train[train.Tag == 'x'][train['Answers']>28]\n",
    "test[test.Tag == 'x'][test['Answers']>28]"
   ]
  },
  {
   "cell_type": "code",
   "execution_count": 144,
   "metadata": {},
   "outputs": [
    {
     "data": {
      "text/plain": [
       "(330023, 7)"
      ]
     },
     "execution_count": 144,
     "metadata": {},
     "output_type": "execute_result"
    }
   ],
   "source": [
    "#(330045, 7) original\n",
    "#(330015, 7) after outlier remove\n",
    "train.shape"
   ]
  },
  {
   "cell_type": "code",
   "execution_count": 285,
   "metadata": {
    "collapsed": true
   },
   "outputs": [],
   "source": [
    "#Deleting outliers\n",
    "train = train.drop(train[(train['Views']>3100000) | (train['Reputation'] > 900000) | (train['Upvotes'] > 210000) | (train['Answers'] > 65)].index)"
   ]
  },
  {
   "cell_type": "code",
   "execution_count": 148,
   "metadata": {},
   "outputs": [
    {
     "data": {
      "text/plain": [
       "array(['a', 'c', 'r', 'j', 'p', 's', 'h', 'o', 'i', 'x'], dtype=object)"
      ]
     },
     "execution_count": 148,
     "metadata": {},
     "output_type": "execute_result"
    },
    {
     "data": {
      "text/plain": [
       "array(['a', 'c', 'i', 'x', 's', 'p', 'o', 'j', 'h', 'r'], dtype=object)"
      ]
     },
     "execution_count": 148,
     "metadata": {},
     "output_type": "execute_result"
    }
   ],
   "source": [
    "train.Tag.unique()\n",
    "test.Tag.unique()\n",
    "# train[train.Tag == 'a']"
   ]
  },
  {
   "cell_type": "code",
   "execution_count": 87,
   "metadata": {},
   "outputs": [
    {
     "name": "stderr",
     "output_type": "stream",
     "text": [
      "C:\\Users\\royal\\Anaconda3\\lib\\site-packages\\matplotlib\\axes\\_axes.py:6462: UserWarning: The 'normed' kwarg is deprecated, and has been replaced by the 'density' kwarg.\n",
      "  warnings.warn(\"The 'normed' kwarg is deprecated, and has been \"\n"
     ]
    },
    {
     "data": {
      "text/plain": [
       "<matplotlib.axes._subplots.AxesSubplot at 0x10f147b8>"
      ]
     },
     "execution_count": 87,
     "metadata": {},
     "output_type": "execute_result"
    },
    {
     "name": "stdout",
     "output_type": "stream",
     "text": [
      "\n",
      " mu = 7920.93 and sigma = 27910.63\n",
      "\n"
     ]
    },
    {
     "data": {
      "text/plain": [
       "<matplotlib.legend.Legend at 0x10f1a940>"
      ]
     },
     "execution_count": 87,
     "metadata": {},
     "output_type": "execute_result"
    },
    {
     "data": {
      "text/plain": [
       "Text(0,0.5,'Frequency')"
      ]
     },
     "execution_count": 87,
     "metadata": {},
     "output_type": "execute_result"
    },
    {
     "data": {
      "text/plain": [
       "Text(0.5,1,'Upvotes distribution')"
      ]
     },
     "execution_count": 87,
     "metadata": {},
     "output_type": "execute_result"
    },
    {
     "data": {
      "image/png": "[encoded data removed]",
      "text/plain": [
       "<Figure size 432x288 with 1 Axes>"
      ]
     },
     "metadata": {},
     "output_type": "display_data"
    },
    {
     "data": {
      "image/png": "[encoded data removed]",
      "text/plain": [
       "<Figure size 432x288 with 1 Axes>"
      ]
     },
     "metadata": {},
     "output_type": "display_data"
    }
   ],
   "source": [
    "sns.distplot(test['Reputation'] , fit=norm);\n",
    "\n",
    "# Get the fitted parameters used by the function\n",
    "(mu, sigma) = norm.fit(test['Reputation'])\n",
    "print( '\\n mu = {:.2f} and sigma = {:.2f}\\n'.format(mu, sigma))\n",
    "\n",
    "#Now plot the distribution\n",
    "plt.legend(['Normal dist. ($\\mu=$ {:.2f} and $\\sigma=$ {:.2f} )'.format(mu, sigma)],\n",
    "            loc='best')\n",
    "plt.ylabel('Frequency')\n",
    "plt.title('Upvotes distribution')\n",
    "\n",
    "#Get also the QQ-plot\n",
    "fig = plt.figure()\n",
    "res = stats.probplot(test['Reputation'], plot=plt)\n",
    "plt.show()"
   ]
  },
  {
   "cell_type": "code",
   "execution_count": 286,
   "metadata": {
    "collapsed": true
   },
   "outputs": [],
   "source": [
    "train[\"Upvotes\"] = np.log1p(train[\"Upvotes\"])\n",
    "train[\"Reputation\"] = np.log1p(train[\"Reputation\"])\n",
    "train[\"Views\"] = np.log1p(train[\"Views\"])\n",
    "train[\"Answers\"] = np.log1p(train[\"Answers\"])\n",
    "\n",
    "test[\"Reputation\"] = np.log1p(test[\"Reputation\"])\n",
    "test[\"Views\"] = np.log1p(test[\"Views\"])\n",
    "test[\"Answers\"] = np.log1p(test[\"Answers\"])\n"
   ]
  },
  {
   "cell_type": "code",
   "execution_count": 277,
   "metadata": {},
   "outputs": [
    {
     "data": {
      "text/plain": [
       "13.608947536797285"
      ]
     },
     "execution_count": 277,
     "metadata": {},
     "output_type": "execute_result"
    }
   ],
   "source": [
    "train.Reputation.max()\n",
    "pca = PCA(n_components=8)\n",
    "\n",
    "X_scaled=pca.fit_transform(train_features)\n",
    "test_X_scaled = pca.transform(test_features)"
   ]
  },
  {
   "cell_type": "code",
   "execution_count": 287,
   "metadata": {},
   "outputs": [
    {
     "data": {
      "text/html": [
       "<div>\n",
       "<style scoped>\n",
       "    .dataframe tbody tr th:only-of-type {\n",
       "        vertical-align: middle;\n",
       "    }\n",
       "\n",
       "    .dataframe tbody tr th {\n",
       "        vertical-align: top;\n",
       "    }\n",
       "\n",
       "    .dataframe thead th {\n",
       "        text-align: right;\n",
       "    }\n",
       "</style>\n",
       "<table border=\"1\" class=\"dataframe\">\n",
       "  <thead>\n",
       "    <tr style=\"text-align: right;\">\n",
       "      <th></th>\n",
       "      <th>Reputation</th>\n",
       "      <th>Answers</th>\n",
       "      <th>Views</th>\n",
       "      <th>Tag_a</th>\n",
       "      <th>Tag_c</th>\n",
       "      <th>Tag_h</th>\n",
       "      <th>Tag_i</th>\n",
       "      <th>Tag_j</th>\n",
       "      <th>Tag_o</th>\n",
       "      <th>Tag_p</th>\n",
       "      <th>Tag_r</th>\n",
       "      <th>Tag_s</th>\n",
       "      <th>Tag_x</th>\n",
       "    </tr>\n",
       "  </thead>\n",
       "  <tbody>\n",
       "    <tr>\n",
       "      <th>0</th>\n",
       "      <td>8.279697</td>\n",
       "      <td>1.098612</td>\n",
       "      <td>8.969033</td>\n",
       "      <td>1</td>\n",
       "      <td>0</td>\n",
       "      <td>0</td>\n",
       "      <td>0</td>\n",
       "      <td>0</td>\n",
       "      <td>0</td>\n",
       "      <td>0</td>\n",
       "      <td>0</td>\n",
       "      <td>0</td>\n",
       "      <td>0</td>\n",
       "    </tr>\n",
       "    <tr>\n",
       "      <th>1</th>\n",
       "      <td>10.167658</td>\n",
       "      <td>2.564949</td>\n",
       "      <td>10.929565</td>\n",
       "      <td>1</td>\n",
       "      <td>0</td>\n",
       "      <td>0</td>\n",
       "      <td>0</td>\n",
       "      <td>0</td>\n",
       "      <td>0</td>\n",
       "      <td>0</td>\n",
       "      <td>0</td>\n",
       "      <td>0</td>\n",
       "      <td>0</td>\n",
       "    </tr>\n",
       "    <tr>\n",
       "      <th>2</th>\n",
       "      <td>7.214504</td>\n",
       "      <td>1.609438</td>\n",
       "      <td>8.995661</td>\n",
       "      <td>0</td>\n",
       "      <td>1</td>\n",
       "      <td>0</td>\n",
       "      <td>0</td>\n",
       "      <td>0</td>\n",
       "      <td>0</td>\n",
       "      <td>0</td>\n",
       "      <td>0</td>\n",
       "      <td>0</td>\n",
       "      <td>0</td>\n",
       "    </tr>\n",
       "    <tr>\n",
       "      <th>3</th>\n",
       "      <td>5.579730</td>\n",
       "      <td>1.386294</td>\n",
       "      <td>10.205997</td>\n",
       "      <td>1</td>\n",
       "      <td>0</td>\n",
       "      <td>0</td>\n",
       "      <td>0</td>\n",
       "      <td>0</td>\n",
       "      <td>0</td>\n",
       "      <td>0</td>\n",
       "      <td>0</td>\n",
       "      <td>0</td>\n",
       "      <td>0</td>\n",
       "    </tr>\n",
       "    <tr>\n",
       "      <th>4</th>\n",
       "      <td>8.359837</td>\n",
       "      <td>1.609438</td>\n",
       "      <td>9.545884</td>\n",
       "      <td>0</td>\n",
       "      <td>1</td>\n",
       "      <td>0</td>\n",
       "      <td>0</td>\n",
       "      <td>0</td>\n",
       "      <td>0</td>\n",
       "      <td>0</td>\n",
       "      <td>0</td>\n",
       "      <td>0</td>\n",
       "      <td>0</td>\n",
       "    </tr>\n",
       "  </tbody>\n",
       "</table>\n",
       "</div>"
      ],
      "text/plain": [
       "   Reputation   Answers      Views  Tag_a  Tag_c  Tag_h  Tag_i  Tag_j  Tag_o  \\\n",
       "0    8.279697  1.098612   8.969033      1      0      0      0      0      0   \n",
       "1   10.167658  2.564949  10.929565      1      0      0      0      0      0   \n",
       "2    7.214504  1.609438   8.995661      0      1      0      0      0      0   \n",
       "3    5.579730  1.386294  10.205997      1      0      0      0      0      0   \n",
       "4    8.359837  1.609438   9.545884      0      1      0      0      0      0   \n",
       "\n",
       "   Tag_p  Tag_r  Tag_s  Tag_x  \n",
       "0      0      0      0      0  \n",
       "1      0      0      0      0  \n",
       "2      0      0      0      0  \n",
       "3      0      0      0      0  \n",
       "4      0      0      0      0  "
      ]
     },
     "execution_count": 287,
     "metadata": {},
     "output_type": "execute_result"
    },
    {
     "data": {
      "text/html": [
       "<div>\n",
       "<style scoped>\n",
       "    .dataframe tbody tr th:only-of-type {\n",
       "        vertical-align: middle;\n",
       "    }\n",
       "\n",
       "    .dataframe tbody tr th {\n",
       "        vertical-align: top;\n",
       "    }\n",
       "\n",
       "    .dataframe thead th {\n",
       "        text-align: right;\n",
       "    }\n",
       "</style>\n",
       "<table border=\"1\" class=\"dataframe\">\n",
       "  <thead>\n",
       "    <tr style=\"text-align: right;\">\n",
       "      <th></th>\n",
       "      <th>Reputation</th>\n",
       "      <th>Answers</th>\n",
       "      <th>Views</th>\n",
       "      <th>Tag_a</th>\n",
       "      <th>Tag_c</th>\n",
       "      <th>Tag_h</th>\n",
       "      <th>Tag_i</th>\n",
       "      <th>Tag_j</th>\n",
       "      <th>Tag_o</th>\n",
       "      <th>Tag_p</th>\n",
       "      <th>Tag_r</th>\n",
       "      <th>Tag_s</th>\n",
       "      <th>Tag_x</th>\n",
       "    </tr>\n",
       "  </thead>\n",
       "  <tbody>\n",
       "    <tr>\n",
       "      <th>0</th>\n",
       "      <td>8.638703</td>\n",
       "      <td>1.386294</td>\n",
       "      <td>10.410335</td>\n",
       "      <td>1</td>\n",
       "      <td>0</td>\n",
       "      <td>0</td>\n",
       "      <td>0</td>\n",
       "      <td>0</td>\n",
       "      <td>0</td>\n",
       "      <td>0</td>\n",
       "      <td>0</td>\n",
       "      <td>0</td>\n",
       "      <td>0</td>\n",
       "    </tr>\n",
       "    <tr>\n",
       "      <th>1</th>\n",
       "      <td>10.106918</td>\n",
       "      <td>1.945910</td>\n",
       "      <td>7.912423</td>\n",
       "      <td>0</td>\n",
       "      <td>1</td>\n",
       "      <td>0</td>\n",
       "      <td>0</td>\n",
       "      <td>0</td>\n",
       "      <td>0</td>\n",
       "      <td>0</td>\n",
       "      <td>0</td>\n",
       "      <td>0</td>\n",
       "      <td>0</td>\n",
       "    </tr>\n",
       "    <tr>\n",
       "      <th>2</th>\n",
       "      <td>6.833032</td>\n",
       "      <td>0.693147</td>\n",
       "      <td>9.960246</td>\n",
       "      <td>0</td>\n",
       "      <td>0</td>\n",
       "      <td>0</td>\n",
       "      <td>1</td>\n",
       "      <td>0</td>\n",
       "      <td>0</td>\n",
       "      <td>0</td>\n",
       "      <td>0</td>\n",
       "      <td>0</td>\n",
       "      <td>0</td>\n",
       "    </tr>\n",
       "    <tr>\n",
       "      <th>3</th>\n",
       "      <td>3.091042</td>\n",
       "      <td>1.945910</td>\n",
       "      <td>9.827092</td>\n",
       "      <td>0</td>\n",
       "      <td>0</td>\n",
       "      <td>0</td>\n",
       "      <td>1</td>\n",
       "      <td>0</td>\n",
       "      <td>0</td>\n",
       "      <td>0</td>\n",
       "      <td>0</td>\n",
       "      <td>0</td>\n",
       "      <td>0</td>\n",
       "    </tr>\n",
       "    <tr>\n",
       "      <th>4</th>\n",
       "      <td>8.406485</td>\n",
       "      <td>2.397895</td>\n",
       "      <td>10.955026</td>\n",
       "      <td>0</td>\n",
       "      <td>0</td>\n",
       "      <td>0</td>\n",
       "      <td>1</td>\n",
       "      <td>0</td>\n",
       "      <td>0</td>\n",
       "      <td>0</td>\n",
       "      <td>0</td>\n",
       "      <td>0</td>\n",
       "      <td>0</td>\n",
       "    </tr>\n",
       "  </tbody>\n",
       "</table>\n",
       "</div>"
      ],
      "text/plain": [
       "   Reputation   Answers      Views  Tag_a  Tag_c  Tag_h  Tag_i  Tag_j  Tag_o  \\\n",
       "0    8.638703  1.386294  10.410335      1      0      0      0      0      0   \n",
       "1   10.106918  1.945910   7.912423      0      1      0      0      0      0   \n",
       "2    6.833032  0.693147   9.960246      0      0      0      1      0      0   \n",
       "3    3.091042  1.945910   9.827092      0      0      0      1      0      0   \n",
       "4    8.406485  2.397895  10.955026      0      0      0      1      0      0   \n",
       "\n",
       "   Tag_p  Tag_r  Tag_s  Tag_x  \n",
       "0      0      0      0      0  \n",
       "1      0      0      0      0  \n",
       "2      0      0      0      0  \n",
       "3      0      0      0      0  \n",
       "4      0      0      0      0  "
      ]
     },
     "execution_count": 287,
     "metadata": {},
     "output_type": "execute_result"
    }
   ],
   "source": [
    "#Drop the irrelevant features from the test set\n",
    "train_labels = np.array(train['Upvotes'])\n",
    "train_features = train.drop(['Upvotes','ID','Username'], axis=1)\n",
    "train_features = pd.get_dummies(train_features)\n",
    "train_features = train_features.fillna(0)\n",
    "train_features.head(5)\n",
    "\n",
    "#Drop the irrelevant features from the test set\n",
    "ID_test = test['ID']\n",
    "test_features = test.drop(['ID','Username'], axis=1)\n",
    "test_features = pd.get_dummies(test_features)\n",
    "test_features.head(5)"
   ]
  },
  {
   "cell_type": "code",
   "execution_count": 17,
   "metadata": {},
   "outputs": [
    {
     "data": {
      "text/plain": [
       "0"
      ]
     },
     "execution_count": 17,
     "metadata": {},
     "output_type": "execute_result"
    }
   ],
   "source": [
    "test.isnull().sum().sum()"
   ]
  },
  {
   "cell_type": "code",
   "execution_count": 50,
   "metadata": {
    "collapsed": true
   },
   "outputs": [],
   "source": [
    "from sklearn import preprocessing\n",
    "le = preprocessing.LabelEncoder()\n",
    "\n",
    "train['Tag'] = le.fit_transform(train['Tag'])\n",
    "test['Tag'] = le.fit_transform(test['Tag'])"
   ]
  },
  {
   "cell_type": "code",
   "execution_count": 52,
   "metadata": {
    "collapsed": true
   },
   "outputs": [],
   "source": [
    "Y1=train['Upvotes']\n",
    "train1=train.drop(['ID','Upvotes','Username'],axis=1)\n",
    "train1=train1.values\n",
    "Y=Y1.values\n",
    "\n",
    "test_id=test['ID']\n",
    "test1 = test.drop(['ID','Username'],axis=1)\n",
    "test1=test1.values"
   ]
  },
  {
   "cell_type": "code",
   "execution_count": 129,
   "metadata": {},
   "outputs": [
    {
     "data": {
      "text/plain": [
       "(330015, 4)"
      ]
     },
     "execution_count": 129,
     "metadata": {},
     "output_type": "execute_result"
    },
    {
     "data": {
      "text/plain": [
       "(141448, 4)"
      ]
     },
     "execution_count": 129,
     "metadata": {},
     "output_type": "execute_result"
    },
    {
     "data": {
      "text/plain": [
       "(330015, 13)"
      ]
     },
     "execution_count": 129,
     "metadata": {},
     "output_type": "execute_result"
    },
    {
     "data": {
      "text/plain": [
       "(141448, 13)"
      ]
     },
     "execution_count": 129,
     "metadata": {},
     "output_type": "execute_result"
    }
   ],
   "source": [
    "train1.shape\n",
    "test1.shape\n",
    "train_features.shape\n",
    "test_features.shape"
   ]
  },
  {
   "cell_type": "code",
   "execution_count": 54,
   "metadata": {},
   "outputs": [
    {
     "data": {
      "text/plain": [
       "StandardScaler(copy=True, with_mean=True, with_std=True)"
      ]
     },
     "execution_count": 54,
     "metadata": {},
     "output_type": "execute_result"
    }
   ],
   "source": [
    "#scale training and testing data.\n",
    "scaler = StandardScaler()\n",
    "scaler.fit(train1)\n",
    "train2 = scaler.transform(train1)\n",
    "test2 = scaler.transform(test1)"
   ]
  },
  {
   "cell_type": "code",
   "execution_count": 55,
   "metadata": {},
   "outputs": [
    {
     "data": {
      "text/plain": [
       "MinMaxScaler(copy=True, feature_range=(0, 1))"
      ]
     },
     "execution_count": 55,
     "metadata": {},
     "output_type": "execute_result"
    }
   ],
   "source": [
    "from sklearn.preprocessing import MinMaxScaler\n",
    "scaler = MinMaxScaler(feature_range=(0, 1))\n",
    "scaler.fit(train1)\n",
    "train_2=scaler.transform(train1)\n",
    "test_2=scaler.transform(test1)"
   ]
  },
  {
   "cell_type": "code",
   "execution_count": null,
   "metadata": {
    "collapsed": true
   },
   "outputs": [],
   "source": [
    "#make 2 way interaction between all the columns\n",
    "def Make_2way(X, Xt):\n",
    "    columns_length=X.shape[1]\n",
    "    for j in range (0,columns_length):\n",
    "        for d in range (j+1,columns_length):  \n",
    "            print((\"Adding columns' interraction %d and %d\" % (j, d) ))\n",
    "            new_column_train=X[:,j]+X[:,d]\n",
    "            new_column_test=Xt[:,j]+Xt[:,d]    \n",
    "            X=np.column_stack((X,new_column_train))\n",
    "            Xt=np.column_stack((Xt,new_column_test))\n",
    "    return X, Xt"
   ]
  },
  {
   "cell_type": "code",
   "execution_count": null,
   "metadata": {},
   "outputs": [],
   "source": [
    "train2,test2= Make_2way(train1, test1)"
   ]
  },
  {
   "cell_type": "code",
   "execution_count": 280,
   "metadata": {},
   "outputs": [
    {
     "name": "stdout",
     "output_type": "stream",
     "text": [
      "(66003,)\n",
      "fold 0, RMSE : 0.733\n",
      "(66003,)\n",
      "fold 1, RMSE : 0.726\n",
      "(66003,)\n",
      "fold 2, RMSE : 0.730\n",
      "(66003,)\n",
      "fold 3, RMSE : 0.728\n",
      "(66003,)\n",
      "fold 4, RMSE : 0.733\n",
      "0.7298871098234727\n"
     ]
    }
   ],
   "source": [
    "##generate the cross validation fold.\n",
    "from sklearn.cross_validation import StratifiedKFold\n",
    "SEED=1\n",
    "clf = lgb.LGBMRegressor()\n",
    "# clf = xgb.XGBRegressor()\n",
    "# clf = LinearRegression()\n",
    "# clf = lgb.LGBMRegressor(max_depth=6,learning_rate=0.0716,n_estimators=128,num_leaves=24,reg_alpha=1.7250,reg_lambda=0.0888,subsample=0.6361,colsample_bytree=0.9365)\n",
    "st_train = X_scaled\n",
    "st_test = test_X_scaled\n",
    "Y = train_labels\n",
    "# clf=CatBoostRegressor(iterations=80)\n",
    "# clf = xgb.XGBRegressor(gamma = 0.76,learning_rate = 0.0100,max_depth = 5,min_child_weight = 2,n_estimators = 107,subsample = 0.60,colsample_bytree = 0.9900)\n",
    "# clf = xgb.XGBRegressor(gamma = 0.8468,learning_rate = 0.0385,max_depth = 7,min_child_weight = 6.6301,n_estimators = 942,colsample_bytree=0.9386) #96.00\n",
    "# clf=ExtraTreesRegressor(n_estimators=10000, max_depth=9,  min_samples_leaf=1,  n_jobs=30, random_state=1)\n",
    "# clf = RGFRegressor(max_leaf=500,algorithm=\"RGF\",test_interval=100, loss=\"LS\")\n",
    "\n",
    "fold = 5\n",
    "cv = KFold(n_splits=fold, shuffle=True, random_state=42)\n",
    "X_preds = np.zeros(st_train.shape[0])\n",
    "preds = np.zeros(st_test.shape[0])\n",
    "for i, (tr, ts) in enumerate(cv.split(st_train)):\n",
    "    print(ts.shape)\n",
    "    mod = clf.fit(st_train[tr], Y[tr])\n",
    "    X_preds[ts] = mod.predict(st_train[ts])\n",
    "    preds += mod.predict(st_test)\n",
    "    print(\"fold {}, RMSE : {:.3f}\".format(i, sqrt(mean_squared_error(Y[ts], X_preds[ts]))))\n",
    "score = sqrt(mean_squared_error(Y, X_preds))\n",
    "print(score)\n",
    "preds1 = preds/fold"
   ]
  },
  {
   "cell_type": "code",
   "execution_count": 136,
   "metadata": {},
   "outputs": [],
   "source": [
    "preds1 = np.abs(np.expm1(preds1))"
   ]
  },
  {
   "cell_type": "code",
   "execution_count": 135,
   "metadata": {},
   "outputs": [
    {
     "data": {
      "text/plain": [
       "2.6034301519721073"
      ]
     },
     "execution_count": 135,
     "metadata": {},
     "output_type": "execute_result"
    },
    {
     "data": {
      "text/plain": [
       "12.509999999999996"
      ]
     },
     "execution_count": 135,
     "metadata": {},
     "output_type": "execute_result"
    }
   ],
   "source": [
    "np.log1p(12.51)\n",
    "np.expm1(np.log1p(12.51))"
   ]
  },
  {
   "cell_type": "code",
   "execution_count": 259,
   "metadata": {
    "collapsed": true
   },
   "outputs": [],
   "source": [
    "preds1 = np.abs(preds1)"
   ]
  },
  {
   "cell_type": "code",
   "execution_count": 264,
   "metadata": {
    "collapsed": true
   },
   "outputs": [
    {
     "data": {
      "text/plain": [
       "[221.08043428779646,\n",
       " 81.01121541799354,\n",
       " 32.917122648405602,\n",
       " 9.3855232638922832,\n",
       " 284.77954133725279,\n",
       " 16.344349612877409,\n",
       " 10.459871499097899,\n",
       " 70.321932390345125,\n",
       " 49.396899949322922,\n",
       " 8.8298704139744224,\n",
       " 4.5328681697739936,\n",
       " 32.381016021111549,\n",
       " 8.5866567237644613,\n",
       " 261.85466726485265,\n",
       " 26.510038667815774,\n",
       " 923.73936416453216,\n",
       " 33.6100305054253,\n",
       " 106.5472214570211,\n",
       " 478.38084245400142,\n",
       " 4.4337656029797703,\n",
       " 16.862751657270653,\n",
       " 105.60143653930352,\n",
       " 18.828796386677904,\n",
       " 6.5843525827755638,\n",
       " 23.939337258361348,\n",
       " 11.074361490063103,\n",
       " 136.68682328395943,\n",
       " 239.7442220622975,\n",
       " 5.2806835416651401,\n",
       " 10.490418509000014,\n",
       " 111.07045666043744,\n",
       " 24.969380970953544,\n",
       " 19.749931768504151,\n",
       " 421.23017165084087,\n",
       " 6.0950198683968271,\n",
       " 20.589409985054139,\n",
       " 9.4770222802687503,\n",
       " 23.354981781922351,\n",
       " 25.345038272866255,\n",
       " 10.69668412986403,\n",
       " 29.941000709703612,\n",
       " 355.26461208722657,\n",
       " 4.9311747329538402,\n",
       " 421.32262477830466,\n",
       " 4.3734973673223649,\n",
       " 182.67777797862416,\n",
       " 12.984208235367976,\n",
       " 162.62328067517026,\n",
       " 3.8691438247551346,\n",
       " 8.3242633183861177,\n",
       " 181.7881490934802,\n",
       " 378.26414039656009,\n",
       " 2.7627049767245815,\n",
       " 8.6392932100027462,\n",
       " 8.9472966521240185,\n",
       " 11.981044475726163,\n",
       " 219.00345320994154,\n",
       " 48.064810182302288,\n",
       " 94.029191900373434,\n",
       " 5.8949199707854598,\n",
       " 8.4843882811474014,\n",
       " 117.36341409483029,\n",
       " 43.79591827719203,\n",
       " 32.921576125612404,\n",
       " 15.439334158985201,\n",
       " 198.24157580768997,\n",
       " 62.531554874037006,\n",
       " 36.116877545987627,\n",
       " 341.14370832271089,\n",
       " 32.900488629081011,\n",
       " 1657.5681968241311,\n",
       " 11.646343617405408,\n",
       " 5.357088349281609,\n",
       " 5.249230890124978,\n",
       " 1.4996323413754871,\n",
       " 69.092666075064301,\n",
       " 55.567864074682504,\n",
       " 6.6955618658564875,\n",
       " 6.1467384901822193,\n",
       " 6.353350143694346,\n",
       " 232.32005876406831,\n",
       " 7.5314374837833391,\n",
       " 13.894775513778516,\n",
       " 15.396288362187022,\n",
       " 45.344481626714291,\n",
       " 6.0777585398915628,\n",
       " 3.7195414641670208,\n",
       " 17.494791641151412,\n",
       " 196.89548241493438,\n",
       " 13.461738724758959,\n",
       " 696.62330258307315,\n",
       " 6.2451538160642501,\n",
       " 22.252166434645659,\n",
       " 27.357069416504899,\n",
       " 23.154927167764026,\n",
       " 248.12962670256292,\n",
       " 25.140412779367569,\n",
       " 85.269225962275414,\n",
       " 22.622155848989177,\n",
       " 4.3197380697477703,\n",
       " 5069.85929379565,\n",
       " 62.625798432353719,\n",
       " 10002.183850119744,\n",
       " 23.977225163332569,\n",
       " 322.13057259847187,\n",
       " 15.187778933044363,\n",
       " 13.073628022656942,\n",
       " 13.070270028238658,\n",
       " 5.9917447348820172,\n",
       " 18.717487019412715,\n",
       " 98.45711804770221,\n",
       " 5.6147664160056836,\n",
       " 6.5260197381580207,\n",
       " 10.44688292070953,\n",
       " 237.76072527782085,\n",
       " 17.94401809965029,\n",
       " 3.6179161500612738,\n",
       " 114.56778253144073,\n",
       " 4.0431600341970579,\n",
       " 42.656142256560578,\n",
       " 22.609272378542574,\n",
       " 9.2247890024460606,\n",
       " 44.480682478678325,\n",
       " 18.927071631272518,\n",
       " 4.8132282694382544,\n",
       " 828.17377521629203,\n",
       " 67.944327214114409,\n",
       " 2.8477443161740981,\n",
       " 932.36063054904582,\n",
       " 5.382497817565369,\n",
       " 7.3007319736541465,\n",
       " 8.2468661664706246,\n",
       " 4.0344203236864669,\n",
       " 7.0192945765009469,\n",
       " 149.6223906870982,\n",
       " 16.016415015530693,\n",
       " 3.6464359574275864,\n",
       " 6.412330166196341,\n",
       " 731.97961548999308,\n",
       " 6.5411418968010366,\n",
       " 11.438208074859377,\n",
       " 7.5664385020129998,\n",
       " 3.9969978977505356,\n",
       " 98.782280038575038,\n",
       " 2.2045271193887372,\n",
       " 9.7195517883885501,\n",
       " 69.497979779891622,\n",
       " 44.499851949711676,\n",
       " 5.2912213044041447,\n",
       " 5.4607209590859007,\n",
       " 24.559877603256503,\n",
       " 3.4713789068565273,\n",
       " 333.28897277389285,\n",
       " 48.571857845605855,\n",
       " 2.6575044069032931,\n",
       " 15.358298856854606,\n",
       " 4.5969820386163596,\n",
       " 37.37115613037723,\n",
       " 2037.4063203413136,\n",
       " 12.023088593966728,\n",
       " 42.484324767093192,\n",
       " 101.5290689941996,\n",
       " 3.55383335309015,\n",
       " 38.473938057180568,\n",
       " 49.0458167879912,\n",
       " 3.2020123503638676,\n",
       " 533.11334352023255,\n",
       " 123.68064472824483,\n",
       " 7.6397847107270085,\n",
       " 1.447083845190329,\n",
       " 22.746385582501226,\n",
       " 62.264934598841734,\n",
       " 6.6178770089284535,\n",
       " 6.0294394679179124,\n",
       " 135.20614524901643,\n",
       " 38.764956737545944,\n",
       " 214.38693509181869,\n",
       " 5.7035103888422629,\n",
       " 6.5517525009144144,\n",
       " 18.619281575294465,\n",
       " 16.454919237145891,\n",
       " 27.205709059232959,\n",
       " 4.141943173682586,\n",
       " 12.904589135123254,\n",
       " 10.154948106124946,\n",
       " 85.173649534414196,\n",
       " 6.2616636243236217,\n",
       " 6.110692136867077,\n",
       " 3.7344800584567039,\n",
       " 452.56809858089059,\n",
       " 770.01669638750582,\n",
       " 17.367657098337556,\n",
       " 650.87076324447878,\n",
       " 4.7098632989849891,\n",
       " 2.1851976595487965,\n",
       " 191.7664216705474,\n",
       " 2.1565959110157493,\n",
       " 33.978245752300701,\n",
       " 4.7395753551980526,\n",
       " 2.2514719323145616,\n",
       " 10.367357406383446,\n",
       " 9.8492571837404874,\n",
       " 72.172993890883234,\n",
       " 1198.3460487426792,\n",
       " 9.392406552549982,\n",
       " 9.7980199222039861,\n",
       " 28.643127256877225,\n",
       " 14.830224328110162,\n",
       " 2.5059531205798611,\n",
       " 216.24999077199087,\n",
       " 103.39066274564607,\n",
       " 16.270910662889534,\n",
       " 10.124915027610921,\n",
       " 1.5639743878785892,\n",
       " 221.73083147063258,\n",
       " 30.468569886411164,\n",
       " 1295.3814806906739,\n",
       " 174.45504780790199,\n",
       " 40.711305349403631,\n",
       " 93.202291057163052,\n",
       " 21.260071837845519,\n",
       " 159.22361733837019,\n",
       " 387.28341004924465,\n",
       " 18.889209579795104,\n",
       " 26.399115582488886,\n",
       " 71.198542976855805,\n",
       " 16.041756820671552,\n",
       " 236.94578076012567,\n",
       " 26.041799530828612,\n",
       " 15.677566047065341,\n",
       " 119.61237216285191,\n",
       " 27.913985009274867,\n",
       " 124.52096234356843,\n",
       " 4.4050756435354437,\n",
       " 3.8332567506138471,\n",
       " 11.659149372140838,\n",
       " 11473.947082234117,\n",
       " 14.618994130448293,\n",
       " 11.879268584847436,\n",
       " 17.106746716611696,\n",
       " 5.5046446025924531,\n",
       " 8.7700475996892777,\n",
       " 4.9464122847247669,\n",
       " 13.732430443975018,\n",
       " 10.352863317983795,\n",
       " 48.612825730148423,\n",
       " 1056.8082502232421,\n",
       " 36.803371289695583,\n",
       " 3.0446161907305678,\n",
       " 6.398104799818725,\n",
       " 30.742935694969145,\n",
       " 114.69235023931603,\n",
       " 509.24606036722736,\n",
       " 7.0397314165119163,\n",
       " 6.0481106498073016,\n",
       " 30.443631606854453,\n",
       " 25.345038272866255,\n",
       " 232.81898605731004,\n",
       " 12.751509977740083,\n",
       " 52.568666108740125,\n",
       " 101.14530339227723,\n",
       " 22.52859554752802,\n",
       " 493.46996178869273,\n",
       " 41.169763045051603,\n",
       " 7.4994325143092251,\n",
       " 128.63544066961825,\n",
       " 6084.4219883172027,\n",
       " 5.6540862939194101,\n",
       " 5.2778188693693204,\n",
       " 8.4852386123730064,\n",
       " 11.01633975626522,\n",
       " 95.993365228381634,\n",
       " 7.1073934648524322,\n",
       " 1326.2246800048802,\n",
       " 446.10282537243165,\n",
       " 11.428927314663683,\n",
       " 37.2249126324663,\n",
       " 17.047971604453217,\n",
       " 72.359753828252352,\n",
       " 525.05916152878206,\n",
       " 237.80794140613006,\n",
       " 26.951169567313773,\n",
       " 86.473812247984256,\n",
       " 12.397716168335194,\n",
       " 10.207580454121885,\n",
       " 8414.482709952772,\n",
       " 3.5439084605561391,\n",
       " 218.54645667049141,\n",
       " 51.764638704599278,\n",
       " 108.08749301487724,\n",
       " 106.46604563550025,\n",
       " 154.38714672276464,\n",
       " 10.323496860395229,\n",
       " 6.2423451589684502,\n",
       " 18.157046605668189,\n",
       " 3.32887269185587,\n",
       " 29.639595518151491,\n",
       " 14.112384094773052,\n",
       " 39.494950663338606,\n",
       " 10.880679433666014,\n",
       " 32.839126278600986,\n",
       " 211.41196094018125,\n",
       " 133.79144072770313,\n",
       " 25.382159802175359,\n",
       " 77.219257090322316,\n",
       " 88.309948153288047,\n",
       " 312.63532906289453,\n",
       " 4.9228532736197597,\n",
       " 17.709190221297757,\n",
       " 5.6815281739311336,\n",
       " 3.3149142156817035,\n",
       " 43.330740892004556,\n",
       " 433.3921576628706,\n",
       " 44.11191314891321,\n",
       " 3.1686401353089213,\n",
       " 13.356503814718007,\n",
       " 8.496890272166425,\n",
       " 3.4279175469840801,\n",
       " 15.008555334994043,\n",
       " 51.562016351523681,\n",
       " 27.228147678906829,\n",
       " 301.02510454065975,\n",
       " 46.425818015841067,\n",
       " 5.2445727152474477,\n",
       " 339.06671152759634,\n",
       " 35.381513572605833,\n",
       " 332.5392019507276,\n",
       " 79.52739937952299,\n",
       " 123.51850123841596,\n",
       " 3.5995514736661063,\n",
       " 9.1101896428640181,\n",
       " 14.290252917182945,\n",
       " 112.05059730117479,\n",
       " 8.1320709681011589,\n",
       " 90.879923031212073,\n",
       " 31.411550311752087,\n",
       " 29.052550342259654,\n",
       " 8.9543130101332231,\n",
       " 60.436417539693416,\n",
       " 4.9421999471546476,\n",
       " 3.8676938257087796,\n",
       " 92.674717085244737,\n",
       " 13.885284561267083,\n",
       " 10.602429252031778,\n",
       " 65.524605751132043,\n",
       " 116.38187607374671,\n",
       " 1.2275246752427491,\n",
       " 23.17637461778828,\n",
       " 4.5200083871227266,\n",
       " 13.717680745975114,\n",
       " 2.8572511267514185,\n",
       " 19.541490665028466,\n",
       " 575.50168429171185,\n",
       " 442.34519499392991,\n",
       " 36.511541126859505,\n",
       " 2.6065070948785491,\n",
       " 586.23096166011214,\n",
       " 582.60824300903755,\n",
       " 2988.1876233153966,\n",
       " 22.541113494750785,\n",
       " 6.810151891675952,\n",
       " 4.5334159353560803,\n",
       " 11.3413191413057,\n",
       " 47.052748301942863,\n",
       " 1277.4913593990359,\n",
       " 25.383765858483198,\n",
       " 1081.5858840097596,\n",
       " 12.713783676405486,\n",
       " 6.5783066138734858,\n",
       " 29.261646940197085,\n",
       " 25.333364393437627,\n",
       " 14.915456682216966,\n",
       " 7.1700480593374714,\n",
       " 33.87726555365569,\n",
       " 6.4663600587887577,\n",
       " 5.704563688941537,\n",
       " 4.4208237118510931,\n",
       " 311.09742185672127,\n",
       " 348.73449656719072,\n",
       " 24.911332515956008,\n",
       " 28.468508068845669,\n",
       " 38.466934674321358,\n",
       " 40.872594167991913,\n",
       " 46.527559104086343,\n",
       " 34.838247644521537,\n",
       " 43.877806846165576,\n",
       " 7.6023582438908992,\n",
       " 6.1502453866701048,\n",
       " 14.067109699109414,\n",
       " 16.468779773979502,\n",
       " 36.198686398594639,\n",
       " 18.29463751681336,\n",
       " 6.1909650260623836,\n",
       " 151.02952780896928,\n",
       " 25.593875693452318,\n",
       " 5.6597893954168628,\n",
       " 106.04774399042499,\n",
       " 6.1040624362229385,\n",
       " 51.953678586895563,\n",
       " 13.821542244450718,\n",
       " 3.9398250789697693,\n",
       " 457.35043879101136,\n",
       " 96.719461746851593,\n",
       " 224.53716080812924,\n",
       " 7.395946882211323,\n",
       " 4.2638571931568574,\n",
       " 169.04713799101597,\n",
       " 8.3492705394641682,\n",
       " 80.718086183358778,\n",
       " 3.0784160931156173,\n",
       " 7.8155154133980602,\n",
       " 118.59799226493044,\n",
       " 4.7375367770325498,\n",
       " 35.956640045789463,\n",
       " 6.2486968366742097,\n",
       " 139.20291283786119,\n",
       " 21.232885336846902,\n",
       " 6.9753183194925832,\n",
       " 13.976023154253243,\n",
       " 6.8932386089600044,\n",
       " 1083.1706990437206,\n",
       " 62.912370037901375,\n",
       " 2789.5362264059063,\n",
       " 166.92807884337617,\n",
       " 8.710739156633208,\n",
       " 14.264193267222634,\n",
       " 7.0907871766386119,\n",
       " 11.288731439972345,\n",
       " 60.486648933755397,\n",
       " 165.40259633817891,\n",
       " 7.3543139413057776,\n",
       " 11.486116363034215,\n",
       " 13.81494539308359,\n",
       " 13.814312406172414,\n",
       " 4345.2189881852346,\n",
       " 100.27369168836123,\n",
       " 5.6872642389493171,\n",
       " 12.650783094905924,\n",
       " 10.986626170503653,\n",
       " 50.775415090411613,\n",
       " 24.376257666653164,\n",
       " 30.834540884039104,\n",
       " 20.908048721122285,\n",
       " 2.1852357712541686,\n",
       " 34.788983448638113,\n",
       " 90.846778858209248,\n",
       " 4.3099789696669975,\n",
       " 413.02762827598161,\n",
       " 18.27796085711881,\n",
       " 16.851331240700659,\n",
       " 8.100414677034923,\n",
       " 117.56350504422399,\n",
       " 4.2095426401885314,\n",
       " 37.003328992596174,\n",
       " 39.878128751900007,\n",
       " 107.55752826536461,\n",
       " 8.9231441405999483,\n",
       " 1.7307853423861275,\n",
       " 2.3757786104402574,\n",
       " 364.63633193682728,\n",
       " 13.376668136176024,\n",
       " 182.33274442567071,\n",
       " 7.8226128000279704,\n",
       " 10.853671768808095,\n",
       " 12.930352050980336,\n",
       " 152.67501007639126,\n",
       " 4.874164298081916,\n",
       " 18.830137265127778,\n",
       " 7.7776572986000065,\n",
       " 199.40433657471553,\n",
       " 103.67244984083318,\n",
       " 24.861422775465872,\n",
       " 2.2068039855507799,\n",
       " 4.0835838883546574,\n",
       " 65.497093427780129,\n",
       " 6.7627228392201264,\n",
       " 19.608192743927926,\n",
       " 6.9291818380882688,\n",
       " 9.4748044936467046,\n",
       " 2.7514450843749856,\n",
       " 59.070373582154801,\n",
       " 8.1140023635187433,\n",
       " 177.69039591147435,\n",
       " 3008.3647321682661,\n",
       " 1365.7848335105491,\n",
       " 111.75025132960779,\n",
       " 109.19376499547091,\n",
       " 81242.099444555541,\n",
       " 9.5409180787823562,\n",
       " 4.0582706414413803,\n",
       " 33.680477134520423,\n",
       " 9.9481643209982824,\n",
       " 8.649939809977667,\n",
       " 3.9164164240786423,\n",
       " 3.269261512047092,\n",
       " 34.217532846001653,\n",
       " 20.059195802753038,\n",
       " 1295.525659115837,\n",
       " 318.00496218809087,\n",
       " 15.881725744099505,\n",
       " 8.1775272266710246,\n",
       " 9.090550742637026,\n",
       " 250.39044326050936,\n",
       " 24.100230638586019,\n",
       " 11.381786585080507,\n",
       " 16.436633407588314,\n",
       " 24.595725207301896,\n",
       " 134.61744911613997,\n",
       " 8.3347207857574706,\n",
       " 31.411965946470438,\n",
       " 310.87569161407561,\n",
       " 4.3953306481330623,\n",
       " 47.442098489285954,\n",
       " 5.1729435255664482,\n",
       " 32.92496668077694,\n",
       " 6.3565956182602568,\n",
       " 26.453669155572005,\n",
       " 154.96155374588412,\n",
       " 49.152140365122165,\n",
       " 6.0332945047540498,\n",
       " 13.437453185422466,\n",
       " 21.282057357757665,\n",
       " 3.5638300547975916,\n",
       " 37.413576942967204,\n",
       " 215.73663431320003,\n",
       " 113.60329015675818,\n",
       " 250.04013797280248,\n",
       " 145.56391326679852,\n",
       " 15.65940017722092,\n",
       " 3.7670267597364733,\n",
       " 290.47676977465125,\n",
       " 2.7646889552380047,\n",
       " 241.64462243877929,\n",
       " 96.905200623388254,\n",
       " 18.798962415153419,\n",
       " 12.473315905693719,\n",
       " 26.568816506494652,\n",
       " 2.3048725908113985,\n",
       " 5.4972981787645834,\n",
       " 10.396358204858805,\n",
       " 2.3162364131462825,\n",
       " 6.09752230020226,\n",
       " 22.754204702490728,\n",
       " 42.939812509831604,\n",
       " 11.015135223109773,\n",
       " 7.0901685364737919,\n",
       " 6.9725773397108277,\n",
       " 5.5646737752971474,\n",
       " 610.17018865600892,\n",
       " 62.295906524518948,\n",
       " 300.50322629122343,\n",
       " 0.83516904588624041,\n",
       " 32.744134484614655,\n",
       " 114.21414477917425,\n",
       " 6.5795012186828741,\n",
       " 49.380165847889202,\n",
       " 67.357923275085625,\n",
       " 12.576024880383669,\n",
       " 404.23958279860648,\n",
       " 5.3958235270982415,\n",
       " 21.399925554135635,\n",
       " 819.61836375739904,\n",
       " 6.0689409786338198,\n",
       " 344.30583441612174,\n",
       " 17.821309225851529,\n",
       " 15.558181074324693,\n",
       " 13.713185130488538,\n",
       " 82.761645239984503,\n",
       " 3.9057364582462277,\n",
       " 2.6549280908206754,\n",
       " 4.0038726666541322,\n",
       " 31.118277199904362,\n",
       " 150.76530444925621,\n",
       " 25.343625520025078,\n",
       " 6.0411231910123302,\n",
       " 268.4316816662423,\n",
       " 63.976195785670171,\n",
       " 324.1416745607969,\n",
       " 264.27114499059945,\n",
       " 25.592993600911324,\n",
       " 13.178476994898215,\n",
       " 86.373255247655436,\n",
       " 17.983365143152255,\n",
       " 4.7949161178232709,\n",
       " 14.066093999430995,\n",
       " 10.579278398266924,\n",
       " 59.303494183459129,\n",
       " 8.1934881998831752,\n",
       " 9.744541873879589,\n",
       " 44.590085899490568,\n",
       " 12.206127945806918,\n",
       " 6.4674359901140548,\n",
       " 312.61524646135564,\n",
       " 92.142128499935112,\n",
       " 23.320400678910183,\n",
       " 45.070754010126365,\n",
       " 5.1641983846213808,\n",
       " 1494.0776182253655,\n",
       " 78.899044178594778,\n",
       " 210.3829198512218,\n",
       " 10.71213077935843,\n",
       " 700.10880973261749,\n",
       " 545.04658380709861,\n",
       " 21.338774277688309,\n",
       " 25.931020282405942,\n",
       " 42.647171515501341,\n",
       " 61.919165713274722,\n",
       " 77.637529337931142,\n",
       " 400.36821074618075,\n",
       " 34.899149337044442,\n",
       " 5.7998491605117346,\n",
       " 480.24948754575195,\n",
       " 22.508013602566145,\n",
       " 43.197641679507491,\n",
       " 8.4237851141187186,\n",
       " 10.364693448292693,\n",
       " 26.315567244089099,\n",
       " 70.282726881603566,\n",
       " 662.32506740437316,\n",
       " 22.178075435126733,\n",
       " 27.651191621916624,\n",
       " 134.97106924834051,\n",
       " 5.0263301903884603,\n",
       " 11.956933266192161,\n",
       " 3.2173164582263363,\n",
       " 39.772012779198192,\n",
       " 13.4440344690654,\n",
       " 80.749509623084549,\n",
       " 57.004894627017812,\n",
       " 145.67418891180674,\n",
       " 280.51644352732882,\n",
       " 109.25084931868382,\n",
       " 891.13975476762812,\n",
       " 505.68745729671849,\n",
       " 247.33717739807997,\n",
       " 37.475119027065269,\n",
       " 45.773411424433085,\n",
       " 8.4944249220734882,\n",
       " 8.7774778974611909,\n",
       " 27.803770493686319,\n",
       " 37.081987218310324,\n",
       " 78.71776948259091,\n",
       " 107.94173427808296,\n",
       " 14.066122253052235,\n",
       " 364.11668118650738,\n",
       " 419.15707320978737,\n",
       " 3.2148674905204686,\n",
       " 5.6370578702426242,\n",
       " 9.2658925665547098,\n",
       " 408.67707337572165,\n",
       " 17.183716180857349,\n",
       " 8.6121259814610944,\n",
       " 16.555329283929218,\n",
       " 105.9870661579655,\n",
       " 2.6296381467511232,\n",
       " 1.3415749993741133,\n",
       " 8.3403503693078562,\n",
       " 244.68815048174721,\n",
       " 5.8666967506360495,\n",
       " 11.350163005698207,\n",
       " 12.0661298454337,\n",
       " 2721.3099402461885,\n",
       " 29.146642717031902,\n",
       " 9.9605904879853107,\n",
       " 32.285612033658396,\n",
       " 4.6274685953871462,\n",
       " 2.8822704647307238,\n",
       " 10.325037763789448,\n",
       " 27.738825508661325,\n",
       " 10.173220535020475,\n",
       " 3926.7476087148666,\n",
       " 26.660908356144233,\n",
       " 58.075658637140165,\n",
       " 48.449403665102047,\n",
       " 2764.0365851893271,\n",
       " 8.6559515846430113,\n",
       " 22.263394377858699,\n",
       " 16.867041811355783,\n",
       " 2.7717188900755176,\n",
       " 2.4763450730665331,\n",
       " 6.7454581207930966,\n",
       " 95.252968510869252,\n",
       " 1791.0667803216716,\n",
       " 133.77554762264691,\n",
       " 8.8525853341169345,\n",
       " 5.1975396598218007,\n",
       " 1241.8643675124056,\n",
       " 8.6475802801503185,\n",
       " 509.6178163001847,\n",
       " 6.3917270005329678,\n",
       " 659.87864748776951,\n",
       " 1680.1270643112332,\n",
       " 200.40269785413068,\n",
       " 5.3382490371703106,\n",
       " 50.193463363758987,\n",
       " 914.77597230256561,\n",
       " 153.91206187884259,\n",
       " 65.93968541819774,\n",
       " 2914.6474178649191,\n",
       " 2.3681123020739419,\n",
       " 31.295144639103896,\n",
       " 4.1099342916943442,\n",
       " 78.09522073147194,\n",
       " 16.787456577720508,\n",
       " 519.73280973888382,\n",
       " 377.43030822399464,\n",
       " 117.63592053422585,\n",
       " 218.51765601638485,\n",
       " 92.118354147869226,\n",
       " 54.547901455981176,\n",
       " 32.351999618866287,\n",
       " 39.789338407242568,\n",
       " 5.6318486726762087,\n",
       " 25.496704205519844,\n",
       " 199.97605722659611,\n",
       " 20.834279221337891,\n",
       " 36.577846435592669,\n",
       " 3.6098988850180502,\n",
       " 23.268677470582471,\n",
       " 3.7121397246779653,\n",
       " 14.883182219249194,\n",
       " 1590.8212623773636,\n",
       " 70.41896081294442,\n",
       " 19.837978513794663,\n",
       " 4.6001174770290731,\n",
       " 281.65479528305718,\n",
       " 94.113811055669913,\n",
       " 60.344996030361493,\n",
       " 723.18742149074887,\n",
       " 40.868574590207075,\n",
       " 206.53404758225977,\n",
       " 7.1494831316941383,\n",
       " 7.8828336197749014,\n",
       " 26.138106896500194,\n",
       " 4.3370542389482543,\n",
       " 8.0269172064684842,\n",
       " 18.431686892614493,\n",
       " 85.268918874749644,\n",
       " 27.594132569736335,\n",
       " 101.07375576391745,\n",
       " 10.045027021780164,\n",
       " 1030.9872798458132,\n",
       " 38.484114138596404,\n",
       " 3.4496109638592722,\n",
       " 96.427247494980961,\n",
       " 45.625419025193054,\n",
       " 3.2444158636271192,\n",
       " 501.24199993393381,\n",
       " 3.1680022195910258,\n",
       " 6.471057258083146,\n",
       " 5.6365251982280062,\n",
       " 18.200727703321935,\n",
       " 13.992807465380508,\n",
       " 3.2099415557183146,\n",
       " 4.1883633289104703,\n",
       " 18.179698578609759,\n",
       " 5.6735457330233228,\n",
       " 85.399485862679128,\n",
       " 139.35363789747245,\n",
       " 5.3355351226202448,\n",
       " 26.262484652514644,\n",
       " 30.321797994421264,\n",
       " 53.19201440642459,\n",
       " 66.811750608862752,\n",
       " 218.7741021580166,\n",
       " 165.24363742189496,\n",
       " 3.5158866609621793,\n",
       " 7.7275504310170451,\n",
       " 351.31745182552817,\n",
       " 32.557204662124704,\n",
       " 2.9017295368897567,\n",
       " 6073.1888152538049,\n",
       " 87.355182968180344,\n",
       " 32.073593077224537,\n",
       " 722.00082655126141,\n",
       " 16.828897672591669,\n",
       " 138.96349362213215,\n",
       " 13.99717415086924,\n",
       " 8.0345689823874711,\n",
       " 71.936676947224683,\n",
       " 11.738619899058993,\n",
       " 58.089451337180691,\n",
       " 345.31079793297204,\n",
       " 30.446057670276652,\n",
       " 154.04111422610998,\n",
       " 55.419953281815737,\n",
       " 3.2483881582787113,\n",
       " 15.445297257828855,\n",
       " 7.2778540967383432,\n",
       " 2.7947352404531367,\n",
       " 138.08889718862724,\n",
       " 22.558633918141513,\n",
       " 32.452237605051224,\n",
       " 136.95146971590171,\n",
       " 119.27196102712631,\n",
       " 6.8017395357092338,\n",
       " 54.887259909205802,\n",
       " 78.190285320810048,\n",
       " 5.8820762087565415,\n",
       " 1134.8838664908083,\n",
       " 9.0756863710824156,\n",
       " 3.022769748003272,\n",
       " 51.239168369960069,\n",
       " 121.45643558240164,\n",
       " 4.5922466236258508,\n",
       " 23.924523760516003,\n",
       " 1.3395028298705047,\n",
       " 5.2659968046557948,\n",
       " 29.602103394741402,\n",
       " 585.33853487593854,\n",
       " 21.471377449350079,\n",
       " 1027.4686961450395,\n",
       " 4.1798535832051025,\n",
       " 56.010681172659176,\n",
       " 5.400793975042979,\n",
       " 104.97294080692319,\n",
       " 5.4448592286197162,\n",
       " 6.4833222301447835,\n",
       " 3.6778533677382006,\n",
       " 14.191394680465864,\n",
       " 24.454633417659597,\n",
       " 2.6047654701207401,\n",
       " 126.20217517618434,\n",
       " 6.8400664552553865,\n",
       " 9.2655432983553592,\n",
       " 10.049484668350615,\n",
       " 28.309343736433554,\n",
       " 25.269532556301904,\n",
       " 5.6801082430036276,\n",
       " 15.030415897645714,\n",
       " 132.8817586706449,\n",
       " 5.7532453205073457,\n",
       " 73.610376152833538,\n",
       " 538.10411380383164,\n",
       " 30.408821884120616,\n",
       " 5.6617581535078587,\n",
       " 325.24294153405401,\n",
       " 148.5006004930006,\n",
       " 8.8556693356117524,\n",
       " 4.7815809077395111,\n",
       " 5.4176293408323639,\n",
       " 4.4977357827547442,\n",
       " 49.155390212783473,\n",
       " 13.753390417048792,\n",
       " 7.2645078513274868,\n",
       " 52.528420816933412,\n",
       " 209.54097665002675,\n",
       " 12.672392432966442,\n",
       " 51.347290570498984,\n",
       " 7.1196667269466438,\n",
       " 81.266608018426126,\n",
       " 149.2334384206726,\n",
       " 48.25927881384191,\n",
       " 9.2671144159749659,\n",
       " 21.900012503864147,\n",
       " 7.112192126188905,\n",
       " 14.593108842749531,\n",
       " 349.10437687319757,\n",
       " 43.502634698618536,\n",
       " 425.49815971601441,\n",
       " 7.6339940646650657,\n",
       " 5.2445727152474477,\n",
       " 738.86257210963538,\n",
       " 12.112122298490714,\n",
       " 8202.7853391009266,\n",
       " 11.48772670818799,\n",
       " 17.17702706290763,\n",
       " 57.789337162230062,\n",
       " 20.068462755587603,\n",
       " 31.036916805531177,\n",
       " 5.0642032925479112,\n",
       " 23.693719991383688,\n",
       " 403.57909085055138,\n",
       " 23.96280056580596,\n",
       " 93.072202836743955,\n",
       " 0.8279353101588609,\n",
       " 6.437609970377121,\n",
       " 345.70450148590868,\n",
       " 26.717047563682414,\n",
       " 26.295089993779932,\n",
       " 15.544127042871089,\n",
       " 36.162472781256476,\n",
       " 36.399110455123868,\n",
       " 36.679189837976764,\n",
       " 6.5685817970270346,\n",
       " 11.28802316073082,\n",
       " 5.4754393200048215,\n",
       " 102.38195754921514,\n",
       " 18.407281078431758,\n",
       " 4.8608075222119034,\n",
       " 220.70047769407654,\n",
       " 10097.256437450233,\n",
       " 94.8142866918772,\n",
       " 20.957364473997124,\n",
       " 11.92080153057239,\n",
       " 163.60134698630094,\n",
       " 30.374423809106208,\n",
       " 37.809640877658957,\n",
       " 462.9769095021876,\n",
       " 5.6932584503507595,\n",
       " 294.40752349961502,\n",
       " 18.704867812930253,\n",
       " 407.96538509951063,\n",
       " 56.222377398037558,\n",
       " 100.84548143732498,\n",
       " 6.2348025928008441,\n",
       " 7.7453706592292075,\n",
       " 2281.5399022989018,\n",
       " 719.80893328364084,\n",
       " 236.82480927109856,\n",
       " 30.427624294679177,\n",
       " 4.709748390657948,\n",
       " 391.40581021765632,\n",
       " 3.8514126906330315,\n",
       " 105.44605583267135,\n",
       " 15.116447301505985,\n",
       " 316.03968190992271,\n",
       " 216.7497855342549,\n",
       " 8.810633744416231,\n",
       " 45.368440555601161,\n",
       " 36.577911088878267,\n",
       " 60.66738528214578,\n",
       " 9.1942007919892248,\n",
       " 29.489333769797547,\n",
       " 25.621578752291125,\n",
       " 23.579341286085157,\n",
       " 21.784564689912717,\n",
       " 8.4602509279166149,\n",
       " 40.00998335909749,\n",
       " 39.57938565966252,\n",
       " 5.3041049958921516,\n",
       " 43.309533054499354,\n",
       " 1142.9405182904259,\n",
       " 162.88313360632787,\n",
       " 4.828464305961635,\n",
       " 3.8507682837554942,\n",
       " 55.426535336641813,\n",
       " 910.07601117028889,\n",
       " 5.0511063777800018,\n",
       " 14.550780479054929,\n",
       " 24.539475238270274,\n",
       " 5.8425030471318076,\n",
       " 14.95200719795586,\n",
       " 6.6394849921063086,\n",
       " 48.202987454998429,\n",
       " 59.614876005146286,\n",
       " 4.4571210855804626,\n",
       " 3.7000491718220365,\n",
       " 58.329531414464583,\n",
       " 35.196797044337295,\n",
       " 44.59400858954367,\n",
       " 12.788095574008752,\n",
       " 227.4248135511157,\n",
       " 6.4857308171564032,\n",
       " 44.780517714970642,\n",
       " 13.521820752215236,\n",
       " 17.529085058392312,\n",
       " 14.281638332730623,\n",
       " 158.88511971010962,\n",
       " 77.272893515700119,\n",
       " 3.1274261255627707,\n",
       " 76.847249682409625,\n",
       " 6.649691322630197,\n",
       " 64.661486049750408,\n",
       " 433.65568778796694,\n",
       " 684.46566569154925,\n",
       " 525.75560300612278,\n",
       " 110.33179553967328,\n",
       " 2.9348679859224931,\n",
       " 41.498000668577937,\n",
       " 366.27426621056901,\n",
       " 1181.4874676261677,\n",
       " 110.44463692758595,\n",
       " 24.530554736047076,\n",
       " 218.15468444247199,\n",
       " 19.418993378844558,\n",
       " 88.826320943937475,\n",
       " 187.67285152352531,\n",
       " 113.58939615295962,\n",
       " 35.570519163326317,\n",
       " 275.90552391647992,\n",
       " 43.464955644438966,\n",
       " 36.756837169129881,\n",
       " 3.4295312600102621,\n",
       " 74.860060396528311,\n",
       " 10.019187371432819,\n",
       " 15.200980616329428,\n",
       " 4.3486534288510157,\n",
       " 59.38135929794062,\n",
       " 58.872682194652313,\n",
       " 63.033926756951303,\n",
       " 38.371067214753346,\n",
       " 6.7407741539175658,\n",
       " 38.407840207770853,\n",
       " 1.1562909122835108,\n",
       " 19.100199098487568,\n",
       " 25.468997868707554,\n",
       " 25.339047987207451,\n",
       " 234.63819901105384,\n",
       " 18.858248486783879,\n",
       " ...]"
      ]
     },
     "execution_count": 264,
     "metadata": {},
     "output_type": "execute_result"
    }
   ],
   "source": [
    "list(preds1)"
   ]
  },
  {
   "cell_type": "code",
   "execution_count": 137,
   "metadata": {
    "collapsed": true
   },
   "outputs": [],
   "source": [
    "sub = pd.DataFrame({'ID': test_id, 'Upvotes': preds1})\n",
    "sub=sub.reindex(columns=[\"ID\",\"Upvotes\"])\n",
    "sub.to_csv('submission.csv', index=False)"
   ]
  },
  {
   "cell_type": "code",
   "execution_count": 77,
   "metadata": {
    "collapsed": true
   },
   "outputs": [
    {
     "name": "stdout",
     "output_type": "stream",
     "text": [
      "\u001b[31mInitialization\u001b[0m\n",
      "\u001b[94m--------------------------------------------------------------------------------------------------------------------------------------------------\u001b[0m\n",
      " Step |   Time |      Value |   colsample_bytree |     gamma |   learning_rate |   max_depth |   min_child_weight |   n_estimators |   subsample | \n",
      "    1 | 08m40s | \u001b[35m  -0.60550\u001b[0m | \u001b[32m            0.9555\u001b[0m | \u001b[32m   0.6813\u001b[0m | \u001b[32m         0.0143\u001b[0m | \u001b[32m     5.1843\u001b[0m | \u001b[32m            7.4340\u001b[0m | \u001b[32m      208.1773\u001b[0m | \u001b[32m     0.6763\u001b[0m | \n",
      "    2 | 41m37s | \u001b[35m  -0.60521\u001b[0m | \u001b[32m            0.8784\u001b[0m | \u001b[32m   0.0566\u001b[0m | \u001b[32m         0.2409\u001b[0m | \u001b[32m     9.8719\u001b[0m | \u001b[32m            6.9006\u001b[0m | \u001b[32m      800.6978\u001b[0m | \u001b[32m     0.6911\u001b[0m | \n",
      "    3 | 11m07s | \u001b[35m  -0.55542\u001b[0m | \u001b[32m            0.5271\u001b[0m | \u001b[32m   0.8210\u001b[0m | \u001b[32m         0.0217\u001b[0m | \u001b[32m     8.5418\u001b[0m | \u001b[32m            9.4600\u001b[0m | \u001b[32m      307.2953\u001b[0m | \u001b[32m     0.6160\u001b[0m | \n",
      "    4 | 38m19s | \u001b[35m  -0.53185\u001b[0m | \u001b[32m            0.9386\u001b[0m | \u001b[32m   0.8468\u001b[0m | \u001b[32m         0.0385\u001b[0m | \u001b[32m     7.1977\u001b[0m | \u001b[32m            6.6301\u001b[0m | \u001b[32m      942.8504\u001b[0m | \u001b[32m     0.6476\u001b[0m | \n",
      "    5 | 03m35s |   -0.53608 |             0.5213 |    0.8191 |          0.1753 |      8.9979 |             9.3494 |       104.1857 |      0.7274 | \n",
      "\u001b[31mBayesian Optimization\u001b[0m\n",
      "\u001b[94m--------------------------------------------------------------------------------------------------------------------------------------------------\u001b[0m\n",
      " Step |   Time |      Value |   colsample_bytree |     gamma |   learning_rate |   max_depth |   min_child_weight |   n_estimators |   subsample | \n",
      "    6 | 53m09s |   -0.61620 |             0.5000 |    0.0100 |          0.3000 |     10.0000 |            10.0000 |      1200.0000 |      0.8000 | \n",
      "    7 | 15m39s |   -0.54049 |             0.9900 |    1.0000 |          0.0100 |      5.0000 |             2.0000 |       525.0250 |      0.8000 | \n",
      "    8 | 23m41s |   -0.53500 |             0.6227 |    0.8613 |          0.0732 |      8.9147 |             9.8419 |       662.3261 |      0.7031 | \n",
      "    9 | 02m07s |   -5.18210 |             0.9900 |    0.0100 |          0.0100 |      5.0000 |             2.0000 |        50.0000 |      0.8000 | \n",
      "   10 | 31m33s | \u001b[35m  -0.53109\u001b[0m | \u001b[32m            0.9900\u001b[0m | \u001b[32m   1.0000\u001b[0m | \u001b[32m         0.0100\u001b[0m | \u001b[32m     5.0000\u001b[0m | \u001b[32m            2.0000\u001b[0m | \u001b[32m     1070.7591\u001b[0m | \u001b[32m     0.6000\u001b[0m | \n",
      "   11 | 18m43s |   -0.58181 |             0.5000 |    0.0100 |          0.3000 |     10.0000 |            10.0000 |       416.5514 |      0.6000 | \n",
      "   12 | 19m52s |   -0.54675 |             0.5000 |    1.0000 |          0.0100 |      5.0000 |             2.0000 |       872.4869 |      0.8000 | \n",
      "   13 | 12m55s |   -0.54029 |             0.8220 |    0.3828 |          0.1767 |      7.2293 |             5.5659 |       330.5839 |      0.6875 | \n",
      "   14 | 17m16s |   -0.55390 |             0.5000 |    1.0000 |          0.0100 |      5.0000 |             2.0000 |       730.9191 |      0.6000 | \n",
      "   15 | 26m51s |   -0.59642 |             0.5000 |    0.0100 |          0.3000 |     10.0000 |            10.0000 |       593.6210 |      0.6000 | \n",
      "   16 | 44m02s |   -0.60737 |             0.5000 |    0.0100 |          0.3000 |     10.0000 |            10.0000 |      1006.8772 |      0.8000 | \n",
      "   17 | 49m29s |   -0.61314 |             0.5000 |    0.0100 |          0.3000 |     10.0000 |            10.0000 |      1133.7299 |      0.8000 | \n",
      "   18 | 06m39s |   -0.56275 |             0.5000 |    0.0100 |          0.3000 |     10.0000 |             2.0000 |       150.0240 |      0.6000 | \n",
      "   19 | 13m23s |   -0.54430 |             0.9900 |    1.0000 |          0.0100 |      5.0000 |             2.0000 |       470.7238 |      0.8000 | \n",
      "   20 | 14m12s |   -0.58350 |             0.9900 |    0.0100 |          0.3000 |     10.0000 |             2.0000 |       257.0818 |      0.8000 | \n",
      "   21 | 10m41s |   -0.55928 |             0.9900 |    1.0000 |          0.0100 |      5.0000 |             2.0000 |       375.1430 |      0.8000 | \n",
      "   22 | 52m54s |   -0.66688 |             0.9900 |    0.0100 |          0.3000 |     10.0000 |            10.0000 |       906.8628 |      0.6000 | \n",
      "   23 | 49m00s |   -0.65997 |             0.9900 |    0.0100 |          0.3000 |     10.0000 |            10.0000 |       837.7919 |      0.6000 | \n",
      "   24 | 18m05s |   -0.53669 |             0.9900 |    1.0000 |          0.0100 |      5.0000 |             2.0000 |       628.3493 |      0.8000 | \n"
     ]
    },
    {
     "ename": "KeyboardInterrupt",
     "evalue": "",
     "output_type": "error",
     "traceback": [
      "\u001b[1;31m---------------------------------------------------------------------------\u001b[0m",
      "\u001b[1;31mKeyboardInterrupt\u001b[0m                         Traceback (most recent call last)",
      "\u001b[1;32m<ipython-input-77-4ba881cc301f>\u001b[0m in \u001b[0;36m<module>\u001b[1;34m()\u001b[0m\n\u001b[0;32m     14\u001b[0m \u001b[1;33m\u001b[0m\u001b[0m\n\u001b[0;32m     15\u001b[0m \u001b[1;33m\u001b[0m\u001b[0m\n\u001b[1;32m---> 16\u001b[1;33m \u001b[0mxgboostBO\u001b[0m\u001b[1;33m.\u001b[0m\u001b[0mmaximize\u001b[0m\u001b[1;33m(\u001b[0m\u001b[1;33m)\u001b[0m\u001b[1;33m\u001b[0m\u001b[0m\n\u001b[0m\u001b[0;32m     17\u001b[0m \u001b[0mprint\u001b[0m\u001b[1;33m(\u001b[0m\u001b[1;34m'-'\u001b[0m\u001b[1;33m*\u001b[0m\u001b[1;36m53\u001b[0m\u001b[1;33m)\u001b[0m\u001b[1;33m\u001b[0m\u001b[0m\n\u001b[0;32m     18\u001b[0m \u001b[0mprint\u001b[0m\u001b[1;33m(\u001b[0m\u001b[1;34m'Final Results'\u001b[0m\u001b[1;33m)\u001b[0m\u001b[1;33m\u001b[0m\u001b[0m\n",
      "\u001b[1;32mC:\\Users\\royal\\Anaconda3\\lib\\site-packages\\bayes_opt\\bayesian_optimization.py\u001b[0m in \u001b[0;36mmaximize\u001b[1;34m(self, init_points, n_iter, acq, kappa, xi, **gp_params)\u001b[0m\n\u001b[0;32m    277\u001b[0m \u001b[1;33m\u001b[0m\u001b[0m\n\u001b[0;32m    278\u001b[0m             \u001b[1;31m# Append most recently generated values to X and Y arrays\u001b[0m\u001b[1;33m\u001b[0m\u001b[1;33m\u001b[0m\u001b[0m\n\u001b[1;32m--> 279\u001b[1;33m             \u001b[0my\u001b[0m \u001b[1;33m=\u001b[0m \u001b[0mself\u001b[0m\u001b[1;33m.\u001b[0m\u001b[0mspace\u001b[0m\u001b[1;33m.\u001b[0m\u001b[0mobserve_point\u001b[0m\u001b[1;33m(\u001b[0m\u001b[0mx_max\u001b[0m\u001b[1;33m)\u001b[0m\u001b[1;33m\u001b[0m\u001b[0m\n\u001b[0m\u001b[0;32m    280\u001b[0m             \u001b[1;32mif\u001b[0m \u001b[0mself\u001b[0m\u001b[1;33m.\u001b[0m\u001b[0mverbose\u001b[0m\u001b[1;33m:\u001b[0m\u001b[1;33m\u001b[0m\u001b[0m\n\u001b[0;32m    281\u001b[0m                 \u001b[0mself\u001b[0m\u001b[1;33m.\u001b[0m\u001b[0mplog\u001b[0m\u001b[1;33m.\u001b[0m\u001b[0mprint_step\u001b[0m\u001b[1;33m(\u001b[0m\u001b[0mx_max\u001b[0m\u001b[1;33m,\u001b[0m \u001b[0my\u001b[0m\u001b[1;33m,\u001b[0m \u001b[0mpwarning\u001b[0m\u001b[1;33m)\u001b[0m\u001b[1;33m\u001b[0m\u001b[0m\n",
      "\u001b[1;32mC:\\Users\\royal\\Anaconda3\\lib\\site-packages\\bayes_opt\\target_space.py\u001b[0m in \u001b[0;36mobserve_point\u001b[1;34m(self, x)\u001b[0m\n\u001b[0;32m    137\u001b[0m             \u001b[1;31m# measure the target function\u001b[0m\u001b[1;33m\u001b[0m\u001b[1;33m\u001b[0m\u001b[0m\n\u001b[0;32m    138\u001b[0m             \u001b[0mparams\u001b[0m \u001b[1;33m=\u001b[0m \u001b[0mdict\u001b[0m\u001b[1;33m(\u001b[0m\u001b[0mzip\u001b[0m\u001b[1;33m(\u001b[0m\u001b[0mself\u001b[0m\u001b[1;33m.\u001b[0m\u001b[0mkeys\u001b[0m\u001b[1;33m,\u001b[0m \u001b[0mx\u001b[0m\u001b[1;33m)\u001b[0m\u001b[1;33m)\u001b[0m\u001b[1;33m\u001b[0m\u001b[0m\n\u001b[1;32m--> 139\u001b[1;33m             \u001b[0my\u001b[0m \u001b[1;33m=\u001b[0m \u001b[0mself\u001b[0m\u001b[1;33m.\u001b[0m\u001b[0mtarget_func\u001b[0m\u001b[1;33m(\u001b[0m\u001b[1;33m**\u001b[0m\u001b[0mparams\u001b[0m\u001b[1;33m)\u001b[0m\u001b[1;33m\u001b[0m\u001b[0m\n\u001b[0m\u001b[0;32m    140\u001b[0m             \u001b[0mself\u001b[0m\u001b[1;33m.\u001b[0m\u001b[0madd_observation\u001b[0m\u001b[1;33m(\u001b[0m\u001b[0mx\u001b[0m\u001b[1;33m,\u001b[0m \u001b[0my\u001b[0m\u001b[1;33m)\u001b[0m\u001b[1;33m\u001b[0m\u001b[0m\n\u001b[0;32m    141\u001b[0m         \u001b[1;32mreturn\u001b[0m \u001b[0my\u001b[0m\u001b[1;33m\u001b[0m\u001b[0m\n",
      "\u001b[1;32m<ipython-input-77-4ba881cc301f>\u001b[0m in \u001b[0;36mxgboostcv\u001b[1;34m(max_depth, learning_rate, n_estimators, gamma, min_child_weight, subsample, colsample_bytree)\u001b[0m\n\u001b[0;32m      7\u001b[0m                                              \u001b[0msilent\u001b[0m\u001b[1;33m=\u001b[0m\u001b[1;32mTrue\u001b[0m\u001b[1;33m,\u001b[0m\u001b[0mnthread\u001b[0m\u001b[1;33m=\u001b[0m\u001b[1;33m-\u001b[0m\u001b[1;36m1\u001b[0m\u001b[1;33m,\u001b[0m\u001b[0mgamma\u001b[0m\u001b[1;33m=\u001b[0m\u001b[0mgamma\u001b[0m\u001b[1;33m,\u001b[0m\u001b[0mmin_child_weight\u001b[0m\u001b[1;33m=\u001b[0m\u001b[0mmin_child_weight\u001b[0m\u001b[1;33m,\u001b[0m\u001b[1;33m\u001b[0m\u001b[0m\n\u001b[0;32m      8\u001b[0m                                            subsample=subsample,colsample_bytree=colsample_bytree),\n\u001b[1;32m----> 9\u001b[1;33m                            train1,Y,\"neg_mean_squared_error\",cv=5).mean()\n\u001b[0m\u001b[0;32m     10\u001b[0m \u001b[1;33m\u001b[0m\u001b[0m\n\u001b[0;32m     11\u001b[0m xgboostBO = BayesianOptimization(xgboostcv,{'max_depth': (5, 10),'learning_rate': (0.01, 0.3),'n_estimators': (50, 1200),\n",
      "\u001b[1;32mC:\\Users\\royal\\Anaconda3\\lib\\site-packages\\sklearn\\cross_validation.py\u001b[0m in \u001b[0;36mcross_val_score\u001b[1;34m(estimator, X, y, scoring, cv, n_jobs, verbose, fit_params, pre_dispatch)\u001b[0m\n\u001b[0;32m   1579\u001b[0m                                               \u001b[0mtrain\u001b[0m\u001b[1;33m,\u001b[0m \u001b[0mtest\u001b[0m\u001b[1;33m,\u001b[0m \u001b[0mverbose\u001b[0m\u001b[1;33m,\u001b[0m \u001b[1;32mNone\u001b[0m\u001b[1;33m,\u001b[0m\u001b[1;33m\u001b[0m\u001b[0m\n\u001b[0;32m   1580\u001b[0m                                               fit_params)\n\u001b[1;32m-> 1581\u001b[1;33m                       for train, test in cv)\n\u001b[0m\u001b[0;32m   1582\u001b[0m     \u001b[1;32mreturn\u001b[0m \u001b[0mnp\u001b[0m\u001b[1;33m.\u001b[0m\u001b[0marray\u001b[0m\u001b[1;33m(\u001b[0m\u001b[0mscores\u001b[0m\u001b[1;33m)\u001b[0m\u001b[1;33m[\u001b[0m\u001b[1;33m:\u001b[0m\u001b[1;33m,\u001b[0m \u001b[1;36m0\u001b[0m\u001b[1;33m]\u001b[0m\u001b[1;33m\u001b[0m\u001b[0m\n\u001b[0;32m   1583\u001b[0m \u001b[1;33m\u001b[0m\u001b[0m\n",
      "\u001b[1;32mC:\\Users\\royal\\Anaconda3\\lib\\site-packages\\sklearn\\externals\\joblib\\parallel.py\u001b[0m in \u001b[0;36m__call__\u001b[1;34m(self, iterable)\u001b[0m\n\u001b[0;32m    777\u001b[0m             \u001b[1;31m# was dispatched. In particular this covers the edge\u001b[0m\u001b[1;33m\u001b[0m\u001b[1;33m\u001b[0m\u001b[0m\n\u001b[0;32m    778\u001b[0m             \u001b[1;31m# case of Parallel used with an exhausted iterator.\u001b[0m\u001b[1;33m\u001b[0m\u001b[1;33m\u001b[0m\u001b[0m\n\u001b[1;32m--> 779\u001b[1;33m             \u001b[1;32mwhile\u001b[0m \u001b[0mself\u001b[0m\u001b[1;33m.\u001b[0m\u001b[0mdispatch_one_batch\u001b[0m\u001b[1;33m(\u001b[0m\u001b[0miterator\u001b[0m\u001b[1;33m)\u001b[0m\u001b[1;33m:\u001b[0m\u001b[1;33m\u001b[0m\u001b[0m\n\u001b[0m\u001b[0;32m    780\u001b[0m                 \u001b[0mself\u001b[0m\u001b[1;33m.\u001b[0m\u001b[0m_iterating\u001b[0m \u001b[1;33m=\u001b[0m \u001b[1;32mTrue\u001b[0m\u001b[1;33m\u001b[0m\u001b[0m\n\u001b[0;32m    781\u001b[0m             \u001b[1;32melse\u001b[0m\u001b[1;33m:\u001b[0m\u001b[1;33m\u001b[0m\u001b[0m\n",
      "\u001b[1;32mC:\\Users\\royal\\Anaconda3\\lib\\site-packages\\sklearn\\externals\\joblib\\parallel.py\u001b[0m in \u001b[0;36mdispatch_one_batch\u001b[1;34m(self, iterator)\u001b[0m\n\u001b[0;32m    623\u001b[0m                 \u001b[1;32mreturn\u001b[0m \u001b[1;32mFalse\u001b[0m\u001b[1;33m\u001b[0m\u001b[0m\n\u001b[0;32m    624\u001b[0m             \u001b[1;32melse\u001b[0m\u001b[1;33m:\u001b[0m\u001b[1;33m\u001b[0m\u001b[0m\n\u001b[1;32m--> 625\u001b[1;33m                 \u001b[0mself\u001b[0m\u001b[1;33m.\u001b[0m\u001b[0m_dispatch\u001b[0m\u001b[1;33m(\u001b[0m\u001b[0mtasks\u001b[0m\u001b[1;33m)\u001b[0m\u001b[1;33m\u001b[0m\u001b[0m\n\u001b[0m\u001b[0;32m    626\u001b[0m                 \u001b[1;32mreturn\u001b[0m \u001b[1;32mTrue\u001b[0m\u001b[1;33m\u001b[0m\u001b[0m\n\u001b[0;32m    627\u001b[0m \u001b[1;33m\u001b[0m\u001b[0m\n",
      "\u001b[1;32mC:\\Users\\royal\\Anaconda3\\lib\\site-packages\\sklearn\\externals\\joblib\\parallel.py\u001b[0m in \u001b[0;36m_dispatch\u001b[1;34m(self, batch)\u001b[0m\n\u001b[0;32m    586\u001b[0m         \u001b[0mdispatch_timestamp\u001b[0m \u001b[1;33m=\u001b[0m \u001b[0mtime\u001b[0m\u001b[1;33m.\u001b[0m\u001b[0mtime\u001b[0m\u001b[1;33m(\u001b[0m\u001b[1;33m)\u001b[0m\u001b[1;33m\u001b[0m\u001b[0m\n\u001b[0;32m    587\u001b[0m         \u001b[0mcb\u001b[0m \u001b[1;33m=\u001b[0m \u001b[0mBatchCompletionCallBack\u001b[0m\u001b[1;33m(\u001b[0m\u001b[0mdispatch_timestamp\u001b[0m\u001b[1;33m,\u001b[0m \u001b[0mlen\u001b[0m\u001b[1;33m(\u001b[0m\u001b[0mbatch\u001b[0m\u001b[1;33m)\u001b[0m\u001b[1;33m,\u001b[0m \u001b[0mself\u001b[0m\u001b[1;33m)\u001b[0m\u001b[1;33m\u001b[0m\u001b[0m\n\u001b[1;32m--> 588\u001b[1;33m         \u001b[0mjob\u001b[0m \u001b[1;33m=\u001b[0m \u001b[0mself\u001b[0m\u001b[1;33m.\u001b[0m\u001b[0m_backend\u001b[0m\u001b[1;33m.\u001b[0m\u001b[0mapply_async\u001b[0m\u001b[1;33m(\u001b[0m\u001b[0mbatch\u001b[0m\u001b[1;33m,\u001b[0m \u001b[0mcallback\u001b[0m\u001b[1;33m=\u001b[0m\u001b[0mcb\u001b[0m\u001b[1;33m)\u001b[0m\u001b[1;33m\u001b[0m\u001b[0m\n\u001b[0m\u001b[0;32m    589\u001b[0m         \u001b[0mself\u001b[0m\u001b[1;33m.\u001b[0m\u001b[0m_jobs\u001b[0m\u001b[1;33m.\u001b[0m\u001b[0mappend\u001b[0m\u001b[1;33m(\u001b[0m\u001b[0mjob\u001b[0m\u001b[1;33m)\u001b[0m\u001b[1;33m\u001b[0m\u001b[0m\n\u001b[0;32m    590\u001b[0m \u001b[1;33m\u001b[0m\u001b[0m\n",
      "\u001b[1;32mC:\\Users\\royal\\Anaconda3\\lib\\site-packages\\sklearn\\externals\\joblib\\_parallel_backends.py\u001b[0m in \u001b[0;36mapply_async\u001b[1;34m(self, func, callback)\u001b[0m\n\u001b[0;32m    109\u001b[0m     \u001b[1;32mdef\u001b[0m \u001b[0mapply_async\u001b[0m\u001b[1;33m(\u001b[0m\u001b[0mself\u001b[0m\u001b[1;33m,\u001b[0m \u001b[0mfunc\u001b[0m\u001b[1;33m,\u001b[0m \u001b[0mcallback\u001b[0m\u001b[1;33m=\u001b[0m\u001b[1;32mNone\u001b[0m\u001b[1;33m)\u001b[0m\u001b[1;33m:\u001b[0m\u001b[1;33m\u001b[0m\u001b[0m\n\u001b[0;32m    110\u001b[0m         \u001b[1;34m\"\"\"Schedule a func to be run\"\"\"\u001b[0m\u001b[1;33m\u001b[0m\u001b[0m\n\u001b[1;32m--> 111\u001b[1;33m         \u001b[0mresult\u001b[0m \u001b[1;33m=\u001b[0m \u001b[0mImmediateResult\u001b[0m\u001b[1;33m(\u001b[0m\u001b[0mfunc\u001b[0m\u001b[1;33m)\u001b[0m\u001b[1;33m\u001b[0m\u001b[0m\n\u001b[0m\u001b[0;32m    112\u001b[0m         \u001b[1;32mif\u001b[0m \u001b[0mcallback\u001b[0m\u001b[1;33m:\u001b[0m\u001b[1;33m\u001b[0m\u001b[0m\n\u001b[0;32m    113\u001b[0m             \u001b[0mcallback\u001b[0m\u001b[1;33m(\u001b[0m\u001b[0mresult\u001b[0m\u001b[1;33m)\u001b[0m\u001b[1;33m\u001b[0m\u001b[0m\n",
      "\u001b[1;32mC:\\Users\\royal\\Anaconda3\\lib\\site-packages\\sklearn\\externals\\joblib\\_parallel_backends.py\u001b[0m in \u001b[0;36m__init__\u001b[1;34m(self, batch)\u001b[0m\n\u001b[0;32m    330\u001b[0m         \u001b[1;31m# Don't delay the application, to avoid keeping the input\u001b[0m\u001b[1;33m\u001b[0m\u001b[1;33m\u001b[0m\u001b[0m\n\u001b[0;32m    331\u001b[0m         \u001b[1;31m# arguments in memory\u001b[0m\u001b[1;33m\u001b[0m\u001b[1;33m\u001b[0m\u001b[0m\n\u001b[1;32m--> 332\u001b[1;33m         \u001b[0mself\u001b[0m\u001b[1;33m.\u001b[0m\u001b[0mresults\u001b[0m \u001b[1;33m=\u001b[0m \u001b[0mbatch\u001b[0m\u001b[1;33m(\u001b[0m\u001b[1;33m)\u001b[0m\u001b[1;33m\u001b[0m\u001b[0m\n\u001b[0m\u001b[0;32m    333\u001b[0m \u001b[1;33m\u001b[0m\u001b[0m\n\u001b[0;32m    334\u001b[0m     \u001b[1;32mdef\u001b[0m \u001b[0mget\u001b[0m\u001b[1;33m(\u001b[0m\u001b[0mself\u001b[0m\u001b[1;33m)\u001b[0m\u001b[1;33m:\u001b[0m\u001b[1;33m\u001b[0m\u001b[0m\n",
      "\u001b[1;32mC:\\Users\\royal\\Anaconda3\\lib\\site-packages\\sklearn\\externals\\joblib\\parallel.py\u001b[0m in \u001b[0;36m__call__\u001b[1;34m(self)\u001b[0m\n\u001b[0;32m    129\u001b[0m \u001b[1;33m\u001b[0m\u001b[0m\n\u001b[0;32m    130\u001b[0m     \u001b[1;32mdef\u001b[0m \u001b[0m__call__\u001b[0m\u001b[1;33m(\u001b[0m\u001b[0mself\u001b[0m\u001b[1;33m)\u001b[0m\u001b[1;33m:\u001b[0m\u001b[1;33m\u001b[0m\u001b[0m\n\u001b[1;32m--> 131\u001b[1;33m         \u001b[1;32mreturn\u001b[0m \u001b[1;33m[\u001b[0m\u001b[0mfunc\u001b[0m\u001b[1;33m(\u001b[0m\u001b[1;33m*\u001b[0m\u001b[0margs\u001b[0m\u001b[1;33m,\u001b[0m \u001b[1;33m**\u001b[0m\u001b[0mkwargs\u001b[0m\u001b[1;33m)\u001b[0m \u001b[1;32mfor\u001b[0m \u001b[0mfunc\u001b[0m\u001b[1;33m,\u001b[0m \u001b[0margs\u001b[0m\u001b[1;33m,\u001b[0m \u001b[0mkwargs\u001b[0m \u001b[1;32min\u001b[0m \u001b[0mself\u001b[0m\u001b[1;33m.\u001b[0m\u001b[0mitems\u001b[0m\u001b[1;33m]\u001b[0m\u001b[1;33m\u001b[0m\u001b[0m\n\u001b[0m\u001b[0;32m    132\u001b[0m \u001b[1;33m\u001b[0m\u001b[0m\n\u001b[0;32m    133\u001b[0m     \u001b[1;32mdef\u001b[0m \u001b[0m__len__\u001b[0m\u001b[1;33m(\u001b[0m\u001b[0mself\u001b[0m\u001b[1;33m)\u001b[0m\u001b[1;33m:\u001b[0m\u001b[1;33m\u001b[0m\u001b[0m\n",
      "\u001b[1;32mC:\\Users\\royal\\Anaconda3\\lib\\site-packages\\sklearn\\externals\\joblib\\parallel.py\u001b[0m in \u001b[0;36m<listcomp>\u001b[1;34m(.0)\u001b[0m\n\u001b[0;32m    129\u001b[0m \u001b[1;33m\u001b[0m\u001b[0m\n\u001b[0;32m    130\u001b[0m     \u001b[1;32mdef\u001b[0m \u001b[0m__call__\u001b[0m\u001b[1;33m(\u001b[0m\u001b[0mself\u001b[0m\u001b[1;33m)\u001b[0m\u001b[1;33m:\u001b[0m\u001b[1;33m\u001b[0m\u001b[0m\n\u001b[1;32m--> 131\u001b[1;33m         \u001b[1;32mreturn\u001b[0m \u001b[1;33m[\u001b[0m\u001b[0mfunc\u001b[0m\u001b[1;33m(\u001b[0m\u001b[1;33m*\u001b[0m\u001b[0margs\u001b[0m\u001b[1;33m,\u001b[0m \u001b[1;33m**\u001b[0m\u001b[0mkwargs\u001b[0m\u001b[1;33m)\u001b[0m \u001b[1;32mfor\u001b[0m \u001b[0mfunc\u001b[0m\u001b[1;33m,\u001b[0m \u001b[0margs\u001b[0m\u001b[1;33m,\u001b[0m \u001b[0mkwargs\u001b[0m \u001b[1;32min\u001b[0m \u001b[0mself\u001b[0m\u001b[1;33m.\u001b[0m\u001b[0mitems\u001b[0m\u001b[1;33m]\u001b[0m\u001b[1;33m\u001b[0m\u001b[0m\n\u001b[0m\u001b[0;32m    132\u001b[0m \u001b[1;33m\u001b[0m\u001b[0m\n\u001b[0;32m    133\u001b[0m     \u001b[1;32mdef\u001b[0m \u001b[0m__len__\u001b[0m\u001b[1;33m(\u001b[0m\u001b[0mself\u001b[0m\u001b[1;33m)\u001b[0m\u001b[1;33m:\u001b[0m\u001b[1;33m\u001b[0m\u001b[0m\n",
      "\u001b[1;32mC:\\Users\\royal\\Anaconda3\\lib\\site-packages\\sklearn\\cross_validation.py\u001b[0m in \u001b[0;36m_fit_and_score\u001b[1;34m(estimator, X, y, scorer, train, test, verbose, parameters, fit_params, return_train_score, return_parameters, error_score)\u001b[0m\n\u001b[0;32m   1673\u001b[0m             \u001b[0mestimator\u001b[0m\u001b[1;33m.\u001b[0m\u001b[0mfit\u001b[0m\u001b[1;33m(\u001b[0m\u001b[0mX_train\u001b[0m\u001b[1;33m,\u001b[0m \u001b[1;33m**\u001b[0m\u001b[0mfit_params\u001b[0m\u001b[1;33m)\u001b[0m\u001b[1;33m\u001b[0m\u001b[0m\n\u001b[0;32m   1674\u001b[0m         \u001b[1;32melse\u001b[0m\u001b[1;33m:\u001b[0m\u001b[1;33m\u001b[0m\u001b[0m\n\u001b[1;32m-> 1675\u001b[1;33m             \u001b[0mestimator\u001b[0m\u001b[1;33m.\u001b[0m\u001b[0mfit\u001b[0m\u001b[1;33m(\u001b[0m\u001b[0mX_train\u001b[0m\u001b[1;33m,\u001b[0m \u001b[0my_train\u001b[0m\u001b[1;33m,\u001b[0m \u001b[1;33m**\u001b[0m\u001b[0mfit_params\u001b[0m\u001b[1;33m)\u001b[0m\u001b[1;33m\u001b[0m\u001b[0m\n\u001b[0m\u001b[0;32m   1676\u001b[0m \u001b[1;33m\u001b[0m\u001b[0m\n\u001b[0;32m   1677\u001b[0m     \u001b[1;32mexcept\u001b[0m \u001b[0mException\u001b[0m \u001b[1;32mas\u001b[0m \u001b[0me\u001b[0m\u001b[1;33m:\u001b[0m\u001b[1;33m\u001b[0m\u001b[0m\n",
      "\u001b[1;32mC:\\Users\\royal\\Anaconda3\\lib\\site-packages\\xgboost\\sklearn.py\u001b[0m in \u001b[0;36mfit\u001b[1;34m(self, X, y, sample_weight, eval_set, eval_metric, early_stopping_rounds, verbose, xgb_model)\u001b[0m\n\u001b[0;32m    291\u001b[0m                               \u001b[0mearly_stopping_rounds\u001b[0m\u001b[1;33m=\u001b[0m\u001b[0mearly_stopping_rounds\u001b[0m\u001b[1;33m,\u001b[0m\u001b[1;33m\u001b[0m\u001b[0m\n\u001b[0;32m    292\u001b[0m                               \u001b[0mevals_result\u001b[0m\u001b[1;33m=\u001b[0m\u001b[0mevals_result\u001b[0m\u001b[1;33m,\u001b[0m \u001b[0mobj\u001b[0m\u001b[1;33m=\u001b[0m\u001b[0mobj\u001b[0m\u001b[1;33m,\u001b[0m \u001b[0mfeval\u001b[0m\u001b[1;33m=\u001b[0m\u001b[0mfeval\u001b[0m\u001b[1;33m,\u001b[0m\u001b[1;33m\u001b[0m\u001b[0m\n\u001b[1;32m--> 293\u001b[1;33m                               verbose_eval=verbose, xgb_model=xgb_model)\n\u001b[0m\u001b[0;32m    294\u001b[0m \u001b[1;33m\u001b[0m\u001b[0m\n\u001b[0;32m    295\u001b[0m         \u001b[1;32mif\u001b[0m \u001b[0mevals_result\u001b[0m\u001b[1;33m:\u001b[0m\u001b[1;33m\u001b[0m\u001b[0m\n",
      "\u001b[1;32mC:\\Users\\royal\\Anaconda3\\lib\\site-packages\\xgboost\\training.py\u001b[0m in \u001b[0;36mtrain\u001b[1;34m(params, dtrain, num_boost_round, evals, obj, feval, maximize, early_stopping_rounds, evals_result, verbose_eval, xgb_model, callbacks, learning_rates)\u001b[0m\n\u001b[0;32m    202\u001b[0m                            \u001b[0mevals\u001b[0m\u001b[1;33m=\u001b[0m\u001b[0mevals\u001b[0m\u001b[1;33m,\u001b[0m\u001b[1;33m\u001b[0m\u001b[0m\n\u001b[0;32m    203\u001b[0m                            \u001b[0mobj\u001b[0m\u001b[1;33m=\u001b[0m\u001b[0mobj\u001b[0m\u001b[1;33m,\u001b[0m \u001b[0mfeval\u001b[0m\u001b[1;33m=\u001b[0m\u001b[0mfeval\u001b[0m\u001b[1;33m,\u001b[0m\u001b[1;33m\u001b[0m\u001b[0m\n\u001b[1;32m--> 204\u001b[1;33m                            xgb_model=xgb_model, callbacks=callbacks)\n\u001b[0m\u001b[0;32m    205\u001b[0m \u001b[1;33m\u001b[0m\u001b[0m\n\u001b[0;32m    206\u001b[0m \u001b[1;33m\u001b[0m\u001b[0m\n",
      "\u001b[1;32mC:\\Users\\royal\\Anaconda3\\lib\\site-packages\\xgboost\\training.py\u001b[0m in \u001b[0;36m_train_internal\u001b[1;34m(params, dtrain, num_boost_round, evals, obj, feval, xgb_model, callbacks)\u001b[0m\n\u001b[0;32m     72\u001b[0m         \u001b[1;31m# Skip the first update if it is a recovery step.\u001b[0m\u001b[1;33m\u001b[0m\u001b[1;33m\u001b[0m\u001b[0m\n\u001b[0;32m     73\u001b[0m         \u001b[1;32mif\u001b[0m \u001b[0mversion\u001b[0m \u001b[1;33m%\u001b[0m \u001b[1;36m2\u001b[0m \u001b[1;33m==\u001b[0m \u001b[1;36m0\u001b[0m\u001b[1;33m:\u001b[0m\u001b[1;33m\u001b[0m\u001b[0m\n\u001b[1;32m---> 74\u001b[1;33m             \u001b[0mbst\u001b[0m\u001b[1;33m.\u001b[0m\u001b[0mupdate\u001b[0m\u001b[1;33m(\u001b[0m\u001b[0mdtrain\u001b[0m\u001b[1;33m,\u001b[0m \u001b[0mi\u001b[0m\u001b[1;33m,\u001b[0m \u001b[0mobj\u001b[0m\u001b[1;33m)\u001b[0m\u001b[1;33m\u001b[0m\u001b[0m\n\u001b[0m\u001b[0;32m     75\u001b[0m             \u001b[0mbst\u001b[0m\u001b[1;33m.\u001b[0m\u001b[0msave_rabit_checkpoint\u001b[0m\u001b[1;33m(\u001b[0m\u001b[1;33m)\u001b[0m\u001b[1;33m\u001b[0m\u001b[0m\n\u001b[0;32m     76\u001b[0m             \u001b[0mversion\u001b[0m \u001b[1;33m+=\u001b[0m \u001b[1;36m1\u001b[0m\u001b[1;33m\u001b[0m\u001b[0m\n",
      "\u001b[1;32mC:\\Users\\royal\\Anaconda3\\lib\\site-packages\\xgboost\\core.py\u001b[0m in \u001b[0;36mupdate\u001b[1;34m(self, dtrain, iteration, fobj)\u001b[0m\n\u001b[0;32m    896\u001b[0m         \u001b[1;32mif\u001b[0m \u001b[0mfobj\u001b[0m \u001b[1;32mis\u001b[0m \u001b[1;32mNone\u001b[0m\u001b[1;33m:\u001b[0m\u001b[1;33m\u001b[0m\u001b[0m\n\u001b[0;32m    897\u001b[0m             _check_call(_LIB.XGBoosterUpdateOneIter(self.handle, ctypes.c_int(iteration),\n\u001b[1;32m--> 898\u001b[1;33m                                                     dtrain.handle))\n\u001b[0m\u001b[0;32m    899\u001b[0m         \u001b[1;32melse\u001b[0m\u001b[1;33m:\u001b[0m\u001b[1;33m\u001b[0m\u001b[0m\n\u001b[0;32m    900\u001b[0m             \u001b[0mpred\u001b[0m \u001b[1;33m=\u001b[0m \u001b[0mself\u001b[0m\u001b[1;33m.\u001b[0m\u001b[0mpredict\u001b[0m\u001b[1;33m(\u001b[0m\u001b[0mdtrain\u001b[0m\u001b[1;33m)\u001b[0m\u001b[1;33m\u001b[0m\u001b[0m\n",
      "\u001b[1;31mKeyboardInterrupt\u001b[0m: "
     ]
    }
   ],
   "source": [
    "#xgboost bayesian optimization\n",
    "from sklearn.cross_validation import cross_val_score\n",
    "from bayes_opt import BayesianOptimization\n",
    "\n",
    "def xgboostcv(max_depth,learning_rate,n_estimators,gamma,min_child_weight,subsample,colsample_bytree):\n",
    "    return cross_val_score(xgb.XGBRegressor(max_depth=int(max_depth),learning_rate=learning_rate,n_estimators=int(n_estimators),\n",
    "                                             silent=True,nthread=-1,gamma=gamma,min_child_weight=min_child_weight,\n",
    "                                           subsample=subsample,colsample_bytree=colsample_bytree),\n",
    "                           train1,Y,\"neg_mean_squared_error\",cv=5).mean()\n",
    "\n",
    "xgboostBO = BayesianOptimization(xgboostcv,{'max_depth': (5, 10),'learning_rate': (0.01, 0.3),'n_estimators': (50, 1200),\n",
    "                                  'gamma': (0.01,1.0),'min_child_weight': (2, 10),\n",
    "                                            'subsample': (0.6, 0.8),'colsample_bytree' :(0.5, 0.99)})\n",
    "\n",
    "\n",
    "xgboostBO.maximize()\n",
    "print('-'*53)\n",
    "print('Final Results')\n",
    "print('XGBOOST: %f' % xgboostBO.res['max']['max_val'])"
   ]
  },
  {
   "cell_type": "code",
   "execution_count": null,
   "metadata": {
    "collapsed": true
   },
   "outputs": [],
   "source": [
    "#lightgbm bayesian optimization\n",
    "from sklearn.cross_validation import cross_val_score\n",
    "from bayes_opt import BayesianOptimization\n",
    "\n",
    "def xgboostcv(max_depth,learning_rate,n_estimators,num_leaves,reg_alpha,reg_lambda,subsample,colsample_bytree):\n",
    "    return cross_val_score(lgb.LGBMRegressor(max_depth=int(max_depth),learning_rate=learning_rate,n_estimators=int(n_estimators),\n",
    "                                             silent=True,nthread=-1,num_leaves=int(num_leaves),reg_alpha=reg_alpha,\n",
    "                                           reg_lambda=reg_lambda,subsample=subsample,colsample_bytree=colsample_bytree),\n",
    "                           train2,Y,\"r2\",cv=5).mean()\n",
    "\n",
    "xgboostBO = BayesianOptimization(xgboostcv,{'max_depth': (5, 10),'learning_rate': (0.001, 0.1),'n_estimators': (10, 300),\n",
    "                                  'num_leaves': (6,30),'reg_alpha': (1, 3),'reg_lambda': (0, 0.1),\n",
    "                                            'subsample': (0.6, 0.8),'colsample_bytree' :(0.5, 0.99)})\n",
    "\n",
    "xgboostBO.maximize()\n",
    "print('-'*53)\n",
    "print('Final Results')\n",
    "print('XGBOOST: %f' % xgboostBO.res['max']['max_val'])"
   ]
  },
  {
   "cell_type": "code",
   "execution_count": null,
   "metadata": {
    "collapsed": true
   },
   "outputs": [],
   "source": []
  },
  {
   "cell_type": "code",
   "execution_count": 290,
   "metadata": {},
   "outputs": [],
   "source": [
    "os.chdir(r'C:\\Users\\royal\\Downloads\\analiticv\\oof')\n",
    "test_oof=glob.glob('./submi*.csv')\n",
    "train_oof=glob.glob('./train_oof*.csv')"
   ]
  },
  {
   "cell_type": "code",
   "execution_count": 292,
   "metadata": {},
   "outputs": [
    {
     "data": {
      "text/plain": [
       "['.\\\\train_oof_1032.csv',\n",
       " '.\\\\train_oof_1052.csv',\n",
       " '.\\\\train_oof_1252.csv',\n",
       " '.\\\\train_oof_2307_rf.csv',\n",
       " '.\\\\train_oof_998.csv',\n",
       " '.\\\\train_oof_cat.csv',\n",
       " '.\\\\train_oof_elast.csv',\n",
       " '.\\\\train_oof_ext_feat.csv',\n",
       " '.\\\\train_oof_lasso.csv',\n",
       " '.\\\\train_oof_lgb_pca.csv',\n",
       " '.\\\\train_oof_lgb_pca_nofet.csv',\n",
       " '.\\\\train_oof_pca.csv',\n",
       " '.\\\\train_oof_ridge.csv',\n",
       " '.\\\\train_oof_sgd_3826.csv']"
      ]
     },
     "execution_count": 292,
     "metadata": {},
     "output_type": "execute_result"
    },
    {
     "data": {
      "text/plain": [
       "['.\\\\submission_1032.csv',\n",
       " '.\\\\submission_1052.csv',\n",
       " '.\\\\submission_1252.csv',\n",
       " '.\\\\submission_2307_rf.csv',\n",
       " '.\\\\submission_998.csv',\n",
       " '.\\\\submission_cat.csv',\n",
       " '.\\\\submission_elast.csv',\n",
       " '.\\\\submission_ext_feat.csv',\n",
       " '.\\\\submission_lasso.csv',\n",
       " '.\\\\submission_lgb_pca.csv',\n",
       " '.\\\\submission_lgb_pca_nofet.csv',\n",
       " '.\\\\submission_pca.csv',\n",
       " '.\\\\submission_ridge.csv',\n",
       " '.\\\\submission_sgd_3826.csv']"
      ]
     },
     "execution_count": 292,
     "metadata": {},
     "output_type": "execute_result"
    }
   ],
   "source": [
    "train_oof\n",
    "test_oof"
   ]
  },
  {
   "cell_type": "code",
   "execution_count": 296,
   "metadata": {},
   "outputs": [
    {
     "data": {
      "text/html": [
       "<div>\n",
       "<style scoped>\n",
       "    .dataframe tbody tr th:only-of-type {\n",
       "        vertical-align: middle;\n",
       "    }\n",
       "\n",
       "    .dataframe tbody tr th {\n",
       "        vertical-align: top;\n",
       "    }\n",
       "\n",
       "    .dataframe thead th {\n",
       "        text-align: right;\n",
       "    }\n",
       "</style>\n",
       "<table border=\"1\" class=\"dataframe\">\n",
       "  <thead>\n",
       "    <tr style=\"text-align: right;\">\n",
       "      <th></th>\n",
       "      <th>ID</th>\n",
       "      <th>Upvotes</th>\n",
       "    </tr>\n",
       "  </thead>\n",
       "  <tbody>\n",
       "    <tr>\n",
       "      <th>0</th>\n",
       "      <td>366953</td>\n",
       "      <td>200.495252</td>\n",
       "    </tr>\n",
       "    <tr>\n",
       "      <th>1</th>\n",
       "      <td>71864</td>\n",
       "      <td>83.265550</td>\n",
       "    </tr>\n",
       "    <tr>\n",
       "      <th>2</th>\n",
       "      <td>141692</td>\n",
       "      <td>35.756860</td>\n",
       "    </tr>\n",
       "    <tr>\n",
       "      <th>3</th>\n",
       "      <td>316833</td>\n",
       "      <td>9.939099</td>\n",
       "    </tr>\n",
       "    <tr>\n",
       "      <th>4</th>\n",
       "      <td>440445</td>\n",
       "      <td>292.920008</td>\n",
       "    </tr>\n",
       "  </tbody>\n",
       "</table>\n",
       "</div>"
      ],
      "text/plain": [
       "       ID     Upvotes\n",
       "0  366953  200.495252\n",
       "1   71864   83.265550\n",
       "2  141692   35.756860\n",
       "3  316833    9.939099\n",
       "4  440445  292.920008"
      ]
     },
     "execution_count": 296,
     "metadata": {},
     "output_type": "execute_result"
    }
   ],
   "source": [
    "xgb_998.head()"
   ]
  },
  {
   "cell_type": "code",
   "execution_count": 303,
   "metadata": {
    "collapsed": true
   },
   "outputs": [],
   "source": [
    "xgb_1032=pd.read_csv('.\\\\submission_1032.csv')\n",
    "xgb_998=pd.read_csv('.\\\\submission_998.csv')\n",
    "cat=pd.read_csv('.\\\\submission_cat.csv')\n",
    "elast=pd.read_csv('.\\\\submission_elast.csv')\n",
    "lgb_pca = pd.read_csv('.\\\\submission_lgb_pca.csv')\n",
    "lgb_pca_nofet = pd.read_csv('.\\\\submission_lgb_pca_nofet.csv')\n",
    "rf = pd.read_csv('.\\\\submission_2307_rf.csv')\n",
    "ext_feat = pd.read_csv('.\\\\submission_ext_feat.csv')\n",
    "\n",
    "\n",
    "tr_xgb_1032=pd.read_csv('.\\\\train_oof_1032.csv')\n",
    "tr_xgb_998=pd.read_csv('.\\\\train_oof_998.csv')\n",
    "tr_cat=pd.read_csv('.\\\\train_oof_cat.csv')\n",
    "tr_elast=pd.read_csv('.\\\\train_oof_elast.csv')\n",
    "tr_lgb_pca = pd.read_csv('.\\\\train_oof_lgb_pca.csv')\n",
    "tr_lgb_pca_nofet = pd.read_csv('.\\\\train_oof_lgb_pca_nofet.csv')\n",
    "tr_rf = pd.read_csv('.\\\\train_oof_2307_rf.csv')\n",
    "tr_ext_feat = pd.read_csv('.\\\\train_oof_ext_feat.csv')"
   ]
  },
  {
   "cell_type": "code",
   "execution_count": 312,
   "metadata": {},
   "outputs": [
    {
     "data": {
      "text/plain": [
       "(141448, 2)"
      ]
     },
     "execution_count": 312,
     "metadata": {},
     "output_type": "execute_result"
    },
    {
     "data": {
      "text/plain": [
       "(141448, 2)"
      ]
     },
     "execution_count": 312,
     "metadata": {},
     "output_type": "execute_result"
    }
   ],
   "source": [
    "rf.shape\n",
    "xgb_998.shape"
   ]
  },
  {
   "cell_type": "code",
   "execution_count": 311,
   "metadata": {},
   "outputs": [],
   "source": [
    "##average blend. \n",
    "preds1=0.7 * xgb_998['Upvotes']+0.3 * rf['Upvotes']\n",
    "\n",
    "sub = pd.DataFrame({'ID': test_id, 'Upvotes': preds1})\n",
    "sub=sub.reindex(columns=[\"ID\",\"Upvotes\"])\n",
    "filename = 'C:\\\\Users\\\\royal\\\\Downloads\\\\submission.csv'\n",
    "sub.to_csv(filename, index=False)"
   ]
  },
  {
   "cell_type": "code",
   "execution_count": 313,
   "metadata": {
    "collapsed": true
   },
   "outputs": [],
   "source": [
    "tr_xgb_998[\"Upvotes\"] = np.log1p(tr_xgb_998[\"Upvotes\"])\n",
    "tr_cat[\"Upvotes\"] = np.log1p(tr_cat[\"Upvotes\"])\n",
    "tr_elast[\"Upvotes\"] = np.log1p(tr_elast[\"Upvotes\"])\n",
    "tr_lgb_pca[\"Upvotes\"] = np.log1p(tr_lgb_pca[\"Upvotes\"])\n",
    "tr_lgb_pca_nofet[\"Upvotes\"] = np.log1p(tr_lgb_pca_nofet[\"Upvotes\"])\n",
    "tr_rf[\"Upvotes\"] = np.log1p(tr_rf[\"Upvotes\"])\n",
    "tr_ext_feat[\"Upvotes\"] = np.log1p(tr_ext_feat[\"Upvotes\"])\n",
    "\n",
    "xgb_998[\"Upvotes\"] = np.log1p(xgb_998[\"Upvotes\"])\n",
    "cat[\"Upvotes\"] = np.log1p(cat[\"Upvotes\"])\n",
    "elast[\"Upvotes\"] = np.log1p(elast[\"Upvotes\"])\n",
    "lgb_pca[\"Upvotes\"] = np.log1p(lgb_pca[\"Upvotes\"])\n",
    "lgb_pca_nofet[\"Upvotes\"] = np.log1p(lgb_pca_nofet[\"Upvotes\"])\n",
    "rf[\"Upvotes\"] = np.log1p(rf[\"Upvotes\"])\n",
    "ext_feat[\"Upvotes\"] = np.log1p(ext_feat[\"Upvotes\"])"
   ]
  },
  {
   "cell_type": "code",
   "execution_count": 314,
   "metadata": {
    "collapsed": true
   },
   "outputs": [],
   "source": [
    "X_tr=np.column_stack((tr_xgb_998['Upvotes'],tr_cat['Upvotes'],tr_elast['Upvotes'],tr_lgb_pca['Upvotes'],tr_lgb_pca_nofet['Upvotes'],tr_rf['Upvotes'],tr_ext_feat['Upvotes']))\n",
    "X_ts=np.column_stack((xgb_998['Upvotes'],cat['Upvotes'],elast['Upvotes'],lgb_pca['Upvotes'],lgb_pca_nofet['Upvotes'],rf['Upvotes'],ext_feat['Upvotes']))"
   ]
  },
  {
   "cell_type": "code",
   "execution_count": 315,
   "metadata": {},
   "outputs": [
    {
     "name": "stdout",
     "output_type": "stream",
     "text": [
      "(66003,)\n",
      "fold 0, RMSE : 0.731\n",
      "(66003,)\n",
      "fold 1, RMSE : 0.725\n",
      "(66003,)\n",
      "fold 2, RMSE : 0.728\n",
      "(66003,)\n",
      "fold 3, RMSE : 0.726\n",
      "(66003,)\n",
      "fold 4, RMSE : 0.732\n",
      "0.7286120192066566\n"
     ]
    }
   ],
   "source": [
    "clf = lgb.LGBMRegressor()\n",
    "# clf = xgb.XGBRegressor()\n",
    "# clf = LinearRegression()\n",
    "# clf = lgb.LGBMRegressor(max_depth=6,learning_rate=0.0716,n_estimators=128,num_leaves=24,reg_alpha=1.7250,reg_lambda=0.0888,subsample=0.6361,colsample_bytree=0.9365)\n",
    "st_train = X_tr\n",
    "st_test = X_ts\n",
    "Y = train_labels\n",
    "# clf = xgb.XGBRegressor(gamma = 0.76,learning_rate = 0.0100,max_depth = 5,min_child_weight = 2,n_estimators = 107,subsample = 0.60,colsample_bytree = 0.9900)\n",
    "# clf = xgb.XGBRegressor(gamma = 0.8468,learning_rate = 0.0385,max_depth = 7,min_child_weight = 6.6301,n_estimators = 942,colsample_bytree=0.9386) #96.00\n",
    "\n",
    "fold = 5\n",
    "cv = KFold(n_splits=fold, shuffle=True, random_state=42)\n",
    "X_preds = np.zeros(st_train.shape[0])\n",
    "preds = np.zeros(st_test.shape[0])\n",
    "for i, (tr, ts) in enumerate(cv.split(st_train)):\n",
    "    print(ts.shape)\n",
    "    mod = clf.fit(st_train[tr], Y[tr])\n",
    "    X_preds[ts] = mod.predict(st_train[ts])\n",
    "    preds += mod.predict(st_test)\n",
    "    print(\"fold {}, RMSE : {:.3f}\".format(i, sqrt(mean_squared_error(Y[ts], X_preds[ts]))))\n",
    "score = sqrt(mean_squared_error(Y, X_preds))\n",
    "print(score)\n",
    "preds1 = preds/fold"
   ]
  },
  {
   "cell_type": "code",
   "execution_count": 319,
   "metadata": {
    "collapsed": true
   },
   "outputs": [],
   "source": [
    "clf = lgb.LGBMRegressor()\n",
    "mod = clf.fit(X_tr, Y)\n",
    "preds1 = mod.predict(X_ts)"
   ]
  },
  {
   "cell_type": "code",
   "execution_count": 320,
   "metadata": {},
   "outputs": [],
   "source": [
    "preds1 = np.abs(np.expm1(preds1))\n",
    "sub = pd.DataFrame({'ID': test_id, 'Upvotes': preds1})\n",
    "sub=sub.reindex(columns=[\"ID\",\"Upvotes\"])\n",
    "sub.to_csv('C:\\\\Users\\\\royal\\\\Downloads\\\\submission.csv', index=False)"
   ]
  },
  {
   "cell_type": "code",
   "execution_count": null,
   "metadata": {
    "collapsed": true
   },
   "outputs": [],
   "source": []
  }
 ],
 "metadata": {
  "kernelspec": {
   "display_name": "Python 3",
   "language": "python",
   "name": "python3"
  },
  "language_info": {
   "codemirror_mode": {
    "name": "ipython",
    "version": 3
   },
   "file_extension": ".py",
   "mimetype": "text/x-python",
   "name": "python",
   "nbconvert_exporter": "python",
   "pygments_lexer": "ipython3",
   "version": "3.6.1"
  }
 },
 "nbformat": 4,
 "nbformat_minor": 2
}
