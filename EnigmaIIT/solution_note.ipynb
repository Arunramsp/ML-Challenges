{
  "cells": [
    {
      "metadata": {
        "trusted": true,
        "_uuid": "e397044aef454c69bd17520c68202c9a30b12684"
      },
      "cell_type": "code",
      "source": "%%time\n%matplotlib inline\nimport numpy as np\nimport os\nimport matplotlib.pyplot as plt\nimport pandas as pd\nimport random\nimport xgboost as xgb\nfrom sklearn import preprocessing\nfrom sklearn.model_selection import KFold\nfrom sklearn.metrics import mean_squared_error\nfrom math import sqrt\nfrom sklearn.model_selection import cross_val_score, GridSearchCV",
      "execution_count": 2,
      "outputs": [
        {
          "output_type": "stream",
          "text": "CPU times: user 0 ns, sys: 0 ns, total: 0 ns\nWall time: 2.07 ms\n",
          "name": "stdout"
        }
      ]
    },
    {
      "metadata": {
        "collapsed": true,
        "trusted": true,
        "_uuid": "c0adcc54eaa154268b7e857e2051a2c4ea5061c3"
      },
      "cell_type": "code",
      "source": "##for printing multiple output..\nfrom IPython.core.interactiveshell import InteractiveShell\nInteractiveShell.ast_node_interactivity = \"all\"",
      "execution_count": 3,
      "outputs": []
    },
    {
      "metadata": {
        "trusted": true,
        "collapsed": true,
        "_uuid": "1176459eea0be7241e1bea5e8080289dd9c49c69"
      },
      "cell_type": "code",
      "source": "train = pd.read_csv('../input/train_NIR5Yl1.csv')\ntest = pd.read_csv('../input/test_8i3B3FC.csv')",
      "execution_count": 4,
      "outputs": []
    },
    {
      "metadata": {
        "trusted": true,
        "collapsed": true,
        "_uuid": "6b6528b42f91298b6a915b055e811ee78ed7e4f1"
      },
      "cell_type": "code",
      "source": "#Deleting outliers\ntrain = train.drop(train[(train['Views']>3100000) | (train['Reputation'] > 900000) | (train['Upvotes'] > 210000) | (train['Answers'] > 65)].index)",
      "execution_count": 5,
      "outputs": []
    },
    {
      "metadata": {
        "trusted": true,
        "collapsed": true,
        "_uuid": "799f6df96a5ca9820c9cf80858f9a796aa6569ee"
      },
      "cell_type": "code",
      "source": "train[\"Upvotes\"] = np.log1p(train[\"Upvotes\"])\ntrain[\"Reputation\"] = np.log1p(train[\"Reputation\"])\ntrain[\"Views\"] = np.log1p(train[\"Views\"])\ntrain[\"Answers\"] = np.log1p(train[\"Answers\"])\n\ntest[\"Reputation\"] = np.log1p(test[\"Reputation\"])\ntest[\"Views\"] = np.log1p(test[\"Views\"])\ntest[\"Answers\"] = np.log1p(test[\"Answers\"])",
      "execution_count": 6,
      "outputs": []
    },
    {
      "metadata": {
        "trusted": true,
        "scrolled": true,
        "_uuid": "aa5d219d92c211c6e9396241d6ccbc08f53a7d8d"
      },
      "cell_type": "code",
      "source": "train_labels = np.array(train['Upvotes'])\ntrain_features = train.drop(['Upvotes','ID','Username'], axis=1)\ntrain_features = pd.get_dummies(train_features)\ntrain_features = train_features.fillna(0)\n\nID_test = test['ID']\ntest_features = test.drop(['ID','Username'], axis=1)\ntest_features = pd.get_dummies(test_features)",
      "execution_count": 8,
      "outputs": []
    },
    {
      "metadata": {
        "trusted": true,
        "_uuid": "7cd170a84e8d73d7178abe2c4ebfa5f545a2917f",
        "collapsed": true
      },
      "cell_type": "code",
      "source": "##generate the cross validation fold.\nst_train = train_features.values\nst_test = test_features.values\nY = train_labels\n#1052 (gamma = 0.9257,learning_rate = 0.2797,max_depth = 5,min_child_weight = 10,n_estimators = 305,subsample = 0.6239,colsample_bytree = 0.7443)\nclf = xgb.XGBRegressor(gamma = 0.9257,learning_rate = 0.2797,max_depth = 5,min_child_weight = 9,n_estimators = 305,subsample = 0.6239,colsample_bytree = 0.7443)\nfold = 5\ncv = KFold(n_splits=fold, shuffle=True, random_state=2018)\nX_preds = np.zeros(st_train.shape[0])\npreds = np.zeros(st_test.shape[0])\nfor i, (tr, ts) in enumerate(cv.split(st_train)):\n    print(ts.shape)\n    mod = clf.fit(st_train[tr], Y[tr])\n    X_preds[ts] = mod.predict(st_train[ts])\n    preds += mod.predict(st_test)\n    print(\"fold {}, RMSE : {:.3f}\".format(i, sqrt(mean_squared_error(Y[ts], X_preds[ts]))))\nscore = sqrt(mean_squared_error(Y, X_preds))\nprint(score)\npreds1 = preds/fold",
      "execution_count": null,
      "outputs": []
    },
    {
      "metadata": {
        "trusted": true,
        "collapsed": true,
        "_uuid": "70a66025297175a00ccaf7e1d49a858e0a145b0f"
      },
      "cell_type": "code",
      "source": "preds1 = np.abs(np.expm1(preds1))\nsub = pd.DataFrame({'ID': ID_test, 'Upvotes': preds1})\nsub=sub.reindex(columns=[\"ID\",\"Upvotes\"])\nsub.to_csv('submission.csv', index=False)",
      "execution_count": null,
      "outputs": []
    }
  ],
  "metadata": {
    "kernelspec": {
      "display_name": "Python 3",
      "language": "python",
      "name": "python3"
    },
    "language_info": {
      "name": "python",
      "version": "3.6.4",
      "mimetype": "text/x-python",
      "codemirror_mode": {
        "name": "ipython",
        "version": 3
      },
      "pygments_lexer": "ipython3",
      "nbconvert_exporter": "python",
      "file_extension": ".py"
    }
  },
  "nbformat": 4,
  "nbformat_minor": 1
}