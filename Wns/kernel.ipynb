{
  "cells": [
    {
      "metadata": {
        "_cell_guid": "54a7bcb8-c4c2-4273-9d18-005245341701",
        "_uuid": "4e0bc0ade19424a63e01fc8c58b6b28b4ee0c0af",
        "trusted": true
      },
      "cell_type": "code",
      "source": "%%time\n%matplotlib inline\nimport numpy as np\nimport os\nimport glob\nimport matplotlib.pyplot as plt\nimport seaborn as sns\nimport pandas as pd\nimport random\nimport xgboost as xgb\nfrom sklearn.metrics import matthews_corrcoef\n\nfrom sklearn import preprocessing\nfrom sklearn.linear_model import LogisticRegression\nfrom xgboost import XGBRegressor\nimport lightgbm as lgb\nfrom lightgbm import LGBMRegressor\nfrom sklearn.metrics import accuracy_score\nfrom sklearn.model_selection import GridSearchCV\nfrom sklearn.cross_validation import StratifiedKFold\nfrom sklearn.metrics import matthews_corrcoef, roc_auc_score\nfrom sklearn.grid_search import RandomizedSearchCV\nfrom catboost import CatBoostClassifier,CatBoostRegressor\n\nfrom sklearn.ensemble import RandomForestClassifier\nfrom sklearn.preprocessing import OneHotEncoder,LabelEncoder\n\nfrom sklearn.svm import SVC\nfrom sklearn.svm import SVR\nfrom sklearn.ensemble import ExtraTreesClassifier,ExtraTreesRegressor\nfrom sklearn.feature_selection import VarianceThreshold\n\nfrom sklearn.preprocessing import StandardScaler\nfrom sklearn.decomposition import PCA\nfrom sklearn.model_selection import KFold\nfrom sklearn.metrics import r2_score,mean_squared_error\nfrom math import sqrt\nfrom scipy import stats\nfrom scipy.stats import norm, skew #for some statistics\nfrom sklearn.linear_model import LinearRegression, RidgeCV, LassoCV, ElasticNetCV\n\nfrom sklearn.metrics import matthews_corrcoef\nfrom sklearn.metrics import f1_score\nfrom sklearn.metrics import fbeta_score",
      "execution_count": null,
      "outputs": []
    },
    {
      "metadata": {
        "trusted": true,
        "_uuid": "91ea30387d05728a8a6937abc2978d83df7fd467"
      },
      "cell_type": "code",
      "source": "from IPython.core.interactiveshell import InteractiveShell\nInteractiveShell.ast_node_interactivity = \"all\"",
      "execution_count": null,
      "outputs": []
    },
    {
      "metadata": {
        "_cell_guid": "f30e9e3a-5428-4389-a8fa-80efb1827d43",
        "_uuid": "bb9e5c3b09eb027ed4d74d5f5ca1988cf32d94aa",
        "trusted": true
      },
      "cell_type": "code",
      "source": "train=pd.read_csv('../input/train_LZdllcl.csv')\ntest=pd.read_csv('../input/test_2umaH9m.csv')\nsub=pd.read_csv('../input/sample_submission_M0L0uXE.csv')",
      "execution_count": null,
      "outputs": []
    },
    {
      "metadata": {
        "trusted": true,
        "_uuid": "bebdeaaf55aab974f9300b94eff1b113ef2e2814"
      },
      "cell_type": "code",
      "source": "train.describe()",
      "execution_count": null,
      "outputs": []
    },
    {
      "metadata": {
        "trusted": true,
        "_uuid": "70cc3689b0448b5ceecf2068a52839268db3455b"
      },
      "cell_type": "code",
      "source": "train['education'].replace(np.nan,\"Bachelor's\",inplace=True)\ntest['education'].replace(np.nan,\"Bachelor's\",inplace=True)\n\ntrain['education'].replace(\"Master's & above\",3,inplace=True)\ntest['education'].replace(\"Master's & above\",3,inplace=True)\ntrain['education'].replace(\"Bachelor's\",2,inplace=True)\ntest['education'].replace(\"Bachelor's\",2,inplace=True)\ntrain['education'].replace(\"Below Secondary\",1,inplace=True)\ntest['education'].replace(\"Below Secondary\",1,inplace=True)",
      "execution_count": null,
      "outputs": []
    },
    {
      "metadata": {
        "trusted": true,
        "_uuid": "05bf8e919781b53fc77a94882b78b6df17e148df"
      },
      "cell_type": "code",
      "source": "train['previous_year_rating'].replace(np.nan,3.,inplace=True)\ntest['previous_year_rating'].replace(np.nan,3.,inplace=True)",
      "execution_count": null,
      "outputs": []
    },
    {
      "metadata": {
        "trusted": true,
        "_uuid": "196321509b79dbccdd7aac77819e4b7fc9ae04ae"
      },
      "cell_type": "code",
      "source": "train['sum_metric'] = train['awards_won?']+train['KPIs_met >80%'] + train['previous_year_rating']\ntest['sum_metric'] = test['awards_won?']+test['KPIs_met >80%'] + test['previous_year_rating']\n\ntrain['tot_score'] = train['avg_training_score'] * train['no_of_trainings']\ntest['tot_score'] = test['avg_training_score'] * test['no_of_trainings']",
      "execution_count": null,
      "outputs": []
    },
    {
      "metadata": {
        "trusted": true,
        "_uuid": "8e4c79b19e1dd4872c80c5bd65d85715d34440c2"
      },
      "cell_type": "code",
      "source": "from sklearn import preprocessing\nle = preprocessing.LabelEncoder()\n\ntrain['department'] = le.fit_transform(train['department'])\ntest['department'] = le.transform(test['department'])\ntrain['region'] = le.fit_transform(train['region'])\ntest['region'] = le.transform(test['region'])\ntrain['education'] = le.fit_transform(train['education'])\ntest['education'] = le.transform(test['education'])\ntrain['gender'] = le.fit_transform(train['gender'])\ntest['gender'] = le.transform(test['gender'])\n\ntrain['recruitment_channel'] = le.fit_transform(train['recruitment_channel'])\ntest['recruitment_channel'] = le.transform(test['recruitment_channel'])",
      "execution_count": null,
      "outputs": []
    },
    {
      "metadata": {
        "trusted": true,
        "_uuid": "a460a28bef9d399311c22a7760d2555bd875da48"
      },
      "cell_type": "code",
      "source": "Y1=train['is_promoted']\ntrain1=train.drop(['employee_id','is_promoted','recruitment_channel'],axis=1)\ntrain1=train1.values\nY=Y1.values\n\ntest_id=test['employee_id']\ntest1 = test.drop(['employee_id','recruitment_channel'],axis=1)\ntest1=test1.values",
      "execution_count": null,
      "outputs": []
    },
    {
      "metadata": {
        "trusted": true,
        "_uuid": "86c5f6a88ccdf41d1769763c7d55648213a0d28a"
      },
      "cell_type": "code",
      "source": "scaler = StandardScaler()\nscaler.fit(train1)\ntrain2 = scaler.transform(train1)\ntest2 = scaler.transform(test1)",
      "execution_count": null,
      "outputs": []
    },
    {
      "metadata": {
        "trusted": true,
        "_uuid": "403aa2c49433fbab2eabccee9df2e698559a5c18"
      },
      "cell_type": "code",
      "source": "pca = PCA(n_components=1)\npca.fit(train2)\ntrain_pca = pca.transform(train2)\ntest_pca = pca.transform(test2)\ntrain3=np.column_stack((train2,train_pca))\ntest3=np.column_stack((test2,test_pca))",
      "execution_count": null,
      "outputs": []
    },
    {
      "metadata": {
        "trusted": true,
        "_uuid": "53ea829d17e42c69a3603c142b3d684f2ef08eab"
      },
      "cell_type": "code",
      "source": "#create the cross validation fold for different boosting and linear model.\nfrom sklearn.cross_validation import StratifiedKFold\nfrom sklearn.ensemble import RandomForestClassifier, VotingClassifier\nSEED=42\n# clf = lgb.LGBMClassifier()\nst_train = train3\nst_test = test3\n# clf = xgb.XGBClassifier()\n# Y=Y1\n# clf = SVC(probability=True)\n# clf = RandomForestClassifier(max_depth=4, random_state=0)\nclf = lgb.LGBMClassifier(max_depth= 8, learning_rate=0.0941, n_estimators=197, num_leaves= 17, reg_alpha=3.4492 , reg_lambda= 0.0422) #lgb_pca\n#clf = lgb.LGBMClassifier(max_depth= 8, learning_rate=0.0941, n_estimators=197, num_leaves= 17, reg_alpha=3.4492 , reg_lambda= 0.0422) #lgb_pca\n# clf=CatBoostClassifier()\n# clf = XGBClassifier()\n# clf = Ridge()\n\n# clf=ExtraTreesClassifier(n_estimators=10000, criterion='entropy', max_depth=9,  min_samples_leaf=1,  n_jobs=30, random_state=1)\n# clf = xgb.XGBClassifier(random_state=42,colsample_bytree = 0.9279,gamma = 0.6494,learning_rate = 0.1573,max_depth = 7,min_child_weight = 6,n_estimators = 70,subsample = 0.6404)\n# clf = RGFClassifier(max_leaf=500,algorithm=\"RGF\",test_interval=100, loss=\"LS\")\n# clf = LogisticRegression()\n# clf = LogisticRegression(class_weight ={1:4})\n\nclf1 = lgb.LGBMClassifier(max_depth= 8, learning_rate=0.0941, n_estimators=197, num_leaves= 17, reg_alpha=3.4492 , reg_lambda= 0.0422) #lgb_pca\n# clf2 = RGFClassifier(max_leaf=500,algorithm=\"RGF\",test_interval=100, loss=\"LS\")\nclf3 = xgb.XGBClassifier(random_state=42,colsample_bytree = 0.9279,gamma = 0.6494,learning_rate = 0.1573,max_depth = 7,min_child_weight = 6,n_estimators = 70,subsample = 0.6404)\n\n# clf = VotingClassifier(estimators=[('LR',clf2),('LGB',clf1),('LGB1',clf3)],voting='soft',\n#                         weights=[3,4,2])\n\nfold = 8\ncv = StratifiedKFold(Y, n_folds=fold,shuffle=True, random_state=30)\nX_preds = np.zeros(st_train.shape[0])\npreds = np.zeros(st_test.shape[0])\nfor i, (tr, ts) in enumerate(cv):\n    print(ts.shape)\n    mod = clf.fit(st_train[tr], Y[tr])\n    X_preds[ts] = mod.predict_proba(st_train[ts])[:,1]\n    preds += mod.predict_proba(st_test)[:,1]\n    print(\"fold {}, ROC AUC: {:.3f}\".format(i, roc_auc_score(Y[ts], X_preds[ts])))\n    predictions = [round(value) for value in X_preds[ts]]\n    print(f1_score(Y[ts], predictions))\nscore = roc_auc_score(Y, X_preds)\nprint(score)\npreds1 = preds/fold\n",
      "execution_count": null,
      "outputs": []
    },
    {
      "metadata": {
        "trusted": true,
        "_uuid": "ac31da2bd41a0b35bfa7799909993767287a4010"
      },
      "cell_type": "code",
      "source": "# pick the best threshold out-of-fold\nthresholds = np.linspace(0.01, 0.99, 50)\nmcc = np.array([f1_score(Y, X_preds>thr) for thr in thresholds])\nplt.plot(thresholds, mcc)\nbest_threshold = thresholds[mcc.argmax()]\nprint(mcc.max())\nprint(best_threshold)",
      "execution_count": null,
      "outputs": []
    },
    {
      "metadata": {
        "trusted": true,
        "_uuid": "2ae47b222329bfcecf8ed602c81bf59e1d9e9847"
      },
      "cell_type": "code",
      "source": "##create the submission file.\nprediction_rfc=list(range(len(preds1)))\nfor i in range(len(preds1)):\n    prediction_rfc[i]=1 if preds1[i]>best_threshold else 0\n\nsub = pd.DataFrame({'employee_id': test_id, 'is_promoted': prediction_rfc})\nsub=sub.reindex(columns=[\"employee_id\",\"is_promoted\"])\nsub.to_csv('submission.csv', index=False)",
      "execution_count": null,
      "outputs": []
    },
    {
      "metadata": {
        "trusted": true,
        "_uuid": "bbc7241d982a860013a3ca9d14cf6262e69a88f0"
      },
      "cell_type": "code",
      "source": "#lightgbm bayesian optimization\nfrom sklearn.cross_validation import cross_val_score\nfrom bayes_opt import BayesianOptimization\n\ndef xgboostcv(max_depth,learning_rate,n_estimators,num_leaves,reg_alpha,reg_lambda):\n    cv = StratifiedKFold(Y, n_folds=8,shuffle=True, random_state=30)\n    return cross_val_score(lgb.LGBMClassifier(max_depth=int(max_depth),learning_rate=learning_rate,n_estimators=int(n_estimators),\n                                             silent=True,nthread=-1,num_leaves=int(num_leaves),reg_alpha=reg_alpha,\n                                           reg_lambda=reg_lambda),\n                           train3,Y,\"roc_auc\",cv=cv).mean()\n\nxgboostBO = BayesianOptimization(xgboostcv,{'max_depth': (4, 10),'learning_rate': (0.001, 0.1),'n_estimators': (10, 1000),\n                                  'num_leaves': (4,30),'reg_alpha': (1, 5),'reg_lambda': (0, 0.1)})\n\nxgboostBO.maximize()\nprint('-'*53)\nprint('Final Results')\nprint('XGBOOST: %f' % xgboostBO.res['max']['max_val'])",
      "execution_count": null,
      "outputs": []
    },
    {
      "metadata": {
        "trusted": true,
        "_uuid": "fd489a91afc2489d8c88f857e45db8ff89e793fe"
      },
      "cell_type": "markdown",
      "source": "#xgboost bayesian optimization\nfrom sklearn.cross_validation import cross_val_score\nfrom bayes_opt import BayesianOptimization\n\ndef xgboostcv(max_depth,learning_rate,n_estimators,gamma,min_child_weight):\n    cv = StratifiedKFold(Y, n_folds=8,shuffle=True, random_state=42)\n    return cross_val_score(xgb.XGBClassifier(max_depth=int(max_depth),learning_rate=learning_rate,n_estimators=int(n_estimators),\n                                             silent=True,nthread=-1,gamma=gamma,min_child_weight=min_child_weight),\n                           train1,Y,\"f1\",cv=8).mean()\n\nxgboostBO = BayesianOptimization(xgboostcv,{'max_depth': (4, 10),'learning_rate': (0.001, 0.3),'n_estimators': (50, 1000),\n               'gamma': (0.01,1.0),'min_child_weight': (2, 10)})\n\nxgboostBO.maximize()\nprint('-'*53)\nprint('Final Results')\nprint('XGBOOST: %f' % xgboostBO.res['max']['max_val'])"
    },
    {
      "metadata": {
        "trusted": true,
        "_uuid": "8b5fbbf86a39e0971db31f2eb4a161c92300c212"
      },
      "cell_type": "code",
      "source": "",
      "execution_count": null,
      "outputs": []
    }
  ],
  "metadata": {
    "kernelspec": {
      "display_name": "Python 3",
      "language": "python",
      "name": "python3"
    },
    "language_info": {
      "name": "python",
      "version": "3.6.6",
      "mimetype": "text/x-python",
      "codemirror_mode": {
        "name": "ipython",
        "version": 3
      },
      "pygments_lexer": "ipython3",
      "nbconvert_exporter": "python",
      "file_extension": ".py"
    }
  },
  "nbformat": 4,
  "nbformat_minor": 1
}