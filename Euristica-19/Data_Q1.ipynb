{
 "cells": [
  {
   "cell_type": "code",
   "execution_count": 3,
   "metadata": {},
   "outputs": [],
   "source": [
    "import lightgbm\n",
    "import pandas as pd\n",
    "import os"
   ]
  },
  {
   "cell_type": "code",
   "execution_count": 188,
   "metadata": {
    "scrolled": false
   },
   "outputs": [
    {
     "name": "stdout",
     "output_type": "stream",
     "text": [
      "Checking whether there is an H2O instance running at http://localhost:54321 ..... not found.\n",
      "Attempting to start a local H2O server...\n",
      "; Java HotSpot(TM) 64-Bit Server VM (build 25.201-b09, mixed mode)\n",
      "  Starting server from C:\\Users\\gurvinder1.singh\\AppData\\Local\\Continuum\\anaconda3\\lib\\site-packages\\h2o\\backend\\bin\\h2o.jar\n",
      "  Ice root: C:\\Users\\GURVIN~1.SIN\\AppData\\Local\\Temp\\tmpclmncfi_\n",
      "  JVM stdout: C:\\Users\\GURVIN~1.SIN\\AppData\\Local\\Temp\\tmpclmncfi_\\h2o_gurvinder1_singh_started_from_python.out\n",
      "  JVM stderr: C:\\Users\\GURVIN~1.SIN\\AppData\\Local\\Temp\\tmpclmncfi_\\h2o_gurvinder1_singh_started_from_python.err\n",
      "  Server is running at http://127.0.0.1:54321\n",
      "Connecting to H2O server at http://127.0.0.1:54321 ... successful.\n"
     ]
    },
    {
     "data": {
      "text/html": [
       "<div style=\"overflow:auto\"><table style=\"width:50%\"><tr><td>H2O cluster uptime:</td>\n",
       "<td>02 secs</td></tr>\n",
       "<tr><td>H2O cluster timezone:</td>\n",
       "<td>Asia/Kolkata</td></tr>\n",
       "<tr><td>H2O data parsing timezone:</td>\n",
       "<td>UTC</td></tr>\n",
       "<tr><td>H2O cluster version:</td>\n",
       "<td>3.24.0.1</td></tr>\n",
       "<tr><td>H2O cluster version age:</td>\n",
       "<td>11 days </td></tr>\n",
       "<tr><td>H2O cluster name:</td>\n",
       "<td>H2O_from_python_gurvinder1_singh_dhhwmv</td></tr>\n",
       "<tr><td>H2O cluster total nodes:</td>\n",
       "<td>1</td></tr>\n",
       "<tr><td>H2O cluster free memory:</td>\n",
       "<td>3.523 Gb</td></tr>\n",
       "<tr><td>H2O cluster total cores:</td>\n",
       "<td>12</td></tr>\n",
       "<tr><td>H2O cluster allowed cores:</td>\n",
       "<td>12</td></tr>\n",
       "<tr><td>H2O cluster status:</td>\n",
       "<td>accepting new members, healthy</td></tr>\n",
       "<tr><td>H2O connection url:</td>\n",
       "<td>http://127.0.0.1:54321</td></tr>\n",
       "<tr><td>H2O connection proxy:</td>\n",
       "<td>None</td></tr>\n",
       "<tr><td>H2O internal security:</td>\n",
       "<td>False</td></tr>\n",
       "<tr><td>H2O API Extensions:</td>\n",
       "<td>Amazon S3, Algos, AutoML, Core V3, Core V4</td></tr>\n",
       "<tr><td>Python version:</td>\n",
       "<td>3.7.1 final</td></tr></table></div>"
      ],
      "text/plain": [
       "--------------------------  ------------------------------------------\n",
       "H2O cluster uptime:         02 secs\n",
       "H2O cluster timezone:       Asia/Kolkata\n",
       "H2O data parsing timezone:  UTC\n",
       "H2O cluster version:        3.24.0.1\n",
       "H2O cluster version age:    11 days\n",
       "H2O cluster name:           H2O_from_python_gurvinder1_singh_dhhwmv\n",
       "H2O cluster total nodes:    1\n",
       "H2O cluster free memory:    3.523 Gb\n",
       "H2O cluster total cores:    12\n",
       "H2O cluster allowed cores:  12\n",
       "H2O cluster status:         accepting new members, healthy\n",
       "H2O connection url:         http://127.0.0.1:54321\n",
       "H2O connection proxy:\n",
       "H2O internal security:      False\n",
       "H2O API Extensions:         Amazon S3, Algos, AutoML, Core V3, Core V4\n",
       "Python version:             3.7.1 final\n",
       "--------------------------  ------------------------------------------"
      ]
     },
     "metadata": {},
     "output_type": "display_data"
    }
   ],
   "source": [
    "import h2o\n",
    "from h2o.automl import H2OAutoML\n",
    "h2o.init()"
   ]
  },
  {
   "cell_type": "code",
   "execution_count": 189,
   "metadata": {},
   "outputs": [
    {
     "name": "stdout",
     "output_type": "stream",
     "text": [
      "Parse progress: |█████████████████████████████████████████████████████████| 100%\n"
     ]
    },
    {
     "data": {
      "text/html": [
       "<table>\n",
       "<thead>\n",
       "<tr><th style=\"text-align: right;\">  Avg_firing_dist</th><th style=\"text-align: right;\">  Avg_Srv_time</th><th style=\"text-align: right;\">  Avg_ping</th><th style=\"text-align: right;\">  Total_travel_dist</th><th style=\"text-align: right;\">  Avg_damage</th></tr>\n",
       "</thead>\n",
       "<tbody>\n",
       "<tr><td style=\"text-align: right;\">           264.22</td><td style=\"text-align: right;\">         19.06</td><td style=\"text-align: right;\">     96.79</td><td style=\"text-align: right;\">            6332   </td><td style=\"text-align: right;\">     1788.88</td></tr>\n",
       "<tr><td style=\"text-align: right;\">           366.66</td><td style=\"text-align: right;\">         24.42</td><td style=\"text-align: right;\">     96.67</td><td style=\"text-align: right;\">            6603.7 </td><td style=\"text-align: right;\">     1750.92</td></tr>\n",
       "<tr><td style=\"text-align: right;\">           259.54</td><td style=\"text-align: right;\">         16.37</td><td style=\"text-align: right;\">     97.5 </td><td style=\"text-align: right;\">            6145.8 </td><td style=\"text-align: right;\">     1838.12</td></tr>\n",
       "<tr><td style=\"text-align: right;\">           183.23</td><td style=\"text-align: right;\">         13.52</td><td style=\"text-align: right;\">     97.31</td><td style=\"text-align: right;\">            6584.7 </td><td style=\"text-align: right;\">     1869.24</td></tr>\n",
       "<tr><td style=\"text-align: right;\">           299.71</td><td style=\"text-align: right;\">         19.74</td><td style=\"text-align: right;\">     97.82</td><td style=\"text-align: right;\">            6701.55</td><td style=\"text-align: right;\">     1818.88</td></tr>\n",
       "<tr><td style=\"text-align: right;\">           396.3 </td><td style=\"text-align: right;\">         14.88</td><td style=\"text-align: right;\">     96.15</td><td style=\"text-align: right;\">            4000.7 </td><td style=\"text-align: right;\">     1746.08</td></tr>\n",
       "<tr><td style=\"text-align: right;\">           250.44</td><td style=\"text-align: right;\">         13.61</td><td style=\"text-align: right;\">     97.43</td><td style=\"text-align: right;\">            4458.6 </td><td style=\"text-align: right;\">     1863.52</td></tr>\n",
       "<tr><td style=\"text-align: right;\">           161.39</td><td style=\"text-align: right;\">         12.53</td><td style=\"text-align: right;\">     97.3 </td><td style=\"text-align: right;\">            8117.05</td><td style=\"text-align: right;\">     1904.76</td></tr>\n",
       "<tr><td style=\"text-align: right;\">           170.88</td><td style=\"text-align: right;\">         12.94</td><td style=\"text-align: right;\">     97.19</td><td style=\"text-align: right;\">            6687.3 </td><td style=\"text-align: right;\">     1851.44</td></tr>\n",
       "<tr><td style=\"text-align: right;\">           206.76</td><td style=\"text-align: right;\">         12.5 </td><td style=\"text-align: right;\">     97.45</td><td style=\"text-align: right;\">            6300.65</td><td style=\"text-align: right;\">     1821.56</td></tr>\n",
       "</tbody>\n",
       "</table>"
      ]
     },
     "metadata": {},
     "output_type": "display_data"
    },
    {
     "data": {
      "text/plain": []
     },
     "execution_count": 189,
     "metadata": {},
     "output_type": "execute_result"
    }
   ],
   "source": [
    "df = h2o.import_file(r'data-Q1/train_data.csv')\n",
    "df.head()"
   ]
  },
  {
   "cell_type": "code",
   "execution_count": 192,
   "metadata": {},
   "outputs": [],
   "source": [
    "y = \"Avg_damage\"\n",
    "x = ['Avg_firing_dist','Avg_Srv_time','Avg_ping','Total_travel_dist']"
   ]
  },
  {
   "cell_type": "code",
   "execution_count": 193,
   "metadata": {},
   "outputs": [
    {
     "name": "stdout",
     "output_type": "stream",
     "text": [
      "AutoML progress: |████████████████████████████████████████████████████████| 100%\n"
     ]
    }
   ],
   "source": [
    "aml = H2OAutoML(max_models = 30, max_runtime_secs=300, seed = 1)\n",
    "aml.train(x = x, y = y, training_frame = df)"
   ]
  },
  {
   "cell_type": "code",
   "execution_count": 194,
   "metadata": {},
   "outputs": [
    {
     "data": {
      "text/html": [
       "<table>\n",
       "<thead>\n",
       "<tr><th>model_id                                           </th><th style=\"text-align: right;\">  mean_residual_deviance</th><th style=\"text-align: right;\">   rmse</th><th style=\"text-align: right;\">    mse</th><th style=\"text-align: right;\">    mae</th><th style=\"text-align: right;\">     rmsle</th></tr>\n",
       "</thead>\n",
       "<tbody>\n",
       "<tr><td>StackedEnsemble_AllModels_AutoML_20190412_145805   </td><td style=\"text-align: right;\">                 242.958</td><td style=\"text-align: right;\">15.5871</td><td style=\"text-align: right;\">242.958</td><td style=\"text-align: right;\">11.7736</td><td style=\"text-align: right;\">0.00856864</td></tr>\n",
       "<tr><td>GBM_grid_1_AutoML_20190412_145805_model_8          </td><td style=\"text-align: right;\">                 246.178</td><td style=\"text-align: right;\">15.6901</td><td style=\"text-align: right;\">246.178</td><td style=\"text-align: right;\">11.6835</td><td style=\"text-align: right;\">0.00863971</td></tr>\n",
       "<tr><td>GBM_grid_1_AutoML_20190412_145805_model_9          </td><td style=\"text-align: right;\">                 247.004</td><td style=\"text-align: right;\">15.7164</td><td style=\"text-align: right;\">247.004</td><td style=\"text-align: right;\">11.8009</td><td style=\"text-align: right;\">0.00864973</td></tr>\n",
       "<tr><td>StackedEnsemble_BestOfFamily_AutoML_20190412_145805</td><td style=\"text-align: right;\">                 247.077</td><td style=\"text-align: right;\">15.7187</td><td style=\"text-align: right;\">247.077</td><td style=\"text-align: right;\">11.9609</td><td style=\"text-align: right;\">0.00863552</td></tr>\n",
       "<tr><td>GBM_1_AutoML_20190412_145805                       </td><td style=\"text-align: right;\">                 248.339</td><td style=\"text-align: right;\">15.7588</td><td style=\"text-align: right;\">248.339</td><td style=\"text-align: right;\">11.926 </td><td style=\"text-align: right;\">0.00866185</td></tr>\n",
       "<tr><td>GBM_2_AutoML_20190412_145805                       </td><td style=\"text-align: right;\">                 249.313</td><td style=\"text-align: right;\">15.7896</td><td style=\"text-align: right;\">249.313</td><td style=\"text-align: right;\">11.9083</td><td style=\"text-align: right;\">0.00868514</td></tr>\n",
       "<tr><td>GBM_3_AutoML_20190412_145805                       </td><td style=\"text-align: right;\">                 249.991</td><td style=\"text-align: right;\">15.8111</td><td style=\"text-align: right;\">249.991</td><td style=\"text-align: right;\">11.9316</td><td style=\"text-align: right;\">0.00870204</td></tr>\n",
       "<tr><td>GBM_4_AutoML_20190412_145805                       </td><td style=\"text-align: right;\">                 251.207</td><td style=\"text-align: right;\">15.8495</td><td style=\"text-align: right;\">251.207</td><td style=\"text-align: right;\">11.887 </td><td style=\"text-align: right;\">0.00872269</td></tr>\n",
       "<tr><td>XRT_1_AutoML_20190412_145805                       </td><td style=\"text-align: right;\">                 277.676</td><td style=\"text-align: right;\">16.6636</td><td style=\"text-align: right;\">277.676</td><td style=\"text-align: right;\">12.5204</td><td style=\"text-align: right;\">0.00915231</td></tr>\n",
       "<tr><td>GBM_5_AutoML_20190412_145805                       </td><td style=\"text-align: right;\">                 285.427</td><td style=\"text-align: right;\">16.8946</td><td style=\"text-align: right;\">285.427</td><td style=\"text-align: right;\">13.0277</td><td style=\"text-align: right;\">0.0092625 </td></tr>\n",
       "</tbody>\n",
       "</table>"
      ]
     },
     "metadata": {},
     "output_type": "display_data"
    },
    {
     "data": {
      "text/plain": []
     },
     "execution_count": 194,
     "metadata": {},
     "output_type": "execute_result"
    },
    {
     "data": {
      "text/html": [
       "<table>\n",
       "<thead>\n",
       "<tr><th>model_id                                           </th><th style=\"text-align: right;\">  mean_residual_deviance</th><th style=\"text-align: right;\">   rmse</th><th style=\"text-align: right;\">     mse</th><th style=\"text-align: right;\">    mae</th><th style=\"text-align: right;\">     rmsle</th></tr>\n",
       "</thead>\n",
       "<tbody>\n",
       "<tr><td>StackedEnsemble_AllModels_AutoML_20190412_145805   </td><td style=\"text-align: right;\">                 242.958</td><td style=\"text-align: right;\">15.5871</td><td style=\"text-align: right;\"> 242.958</td><td style=\"text-align: right;\">11.7736</td><td style=\"text-align: right;\">0.00856864</td></tr>\n",
       "<tr><td>GBM_grid_1_AutoML_20190412_145805_model_8          </td><td style=\"text-align: right;\">                 246.178</td><td style=\"text-align: right;\">15.6901</td><td style=\"text-align: right;\"> 246.178</td><td style=\"text-align: right;\">11.6835</td><td style=\"text-align: right;\">0.00863971</td></tr>\n",
       "<tr><td>GBM_grid_1_AutoML_20190412_145805_model_9          </td><td style=\"text-align: right;\">                 247.004</td><td style=\"text-align: right;\">15.7164</td><td style=\"text-align: right;\"> 247.004</td><td style=\"text-align: right;\">11.8009</td><td style=\"text-align: right;\">0.00864973</td></tr>\n",
       "<tr><td>StackedEnsemble_BestOfFamily_AutoML_20190412_145805</td><td style=\"text-align: right;\">                 247.077</td><td style=\"text-align: right;\">15.7187</td><td style=\"text-align: right;\"> 247.077</td><td style=\"text-align: right;\">11.9609</td><td style=\"text-align: right;\">0.00863552</td></tr>\n",
       "<tr><td>GBM_1_AutoML_20190412_145805                       </td><td style=\"text-align: right;\">                 248.339</td><td style=\"text-align: right;\">15.7588</td><td style=\"text-align: right;\"> 248.339</td><td style=\"text-align: right;\">11.926 </td><td style=\"text-align: right;\">0.00866185</td></tr>\n",
       "<tr><td>GBM_2_AutoML_20190412_145805                       </td><td style=\"text-align: right;\">                 249.313</td><td style=\"text-align: right;\">15.7896</td><td style=\"text-align: right;\"> 249.313</td><td style=\"text-align: right;\">11.9083</td><td style=\"text-align: right;\">0.00868514</td></tr>\n",
       "<tr><td>GBM_3_AutoML_20190412_145805                       </td><td style=\"text-align: right;\">                 249.991</td><td style=\"text-align: right;\">15.8111</td><td style=\"text-align: right;\"> 249.991</td><td style=\"text-align: right;\">11.9316</td><td style=\"text-align: right;\">0.00870204</td></tr>\n",
       "<tr><td>GBM_4_AutoML_20190412_145805                       </td><td style=\"text-align: right;\">                 251.207</td><td style=\"text-align: right;\">15.8495</td><td style=\"text-align: right;\"> 251.207</td><td style=\"text-align: right;\">11.887 </td><td style=\"text-align: right;\">0.00872269</td></tr>\n",
       "<tr><td>XRT_1_AutoML_20190412_145805                       </td><td style=\"text-align: right;\">                 277.676</td><td style=\"text-align: right;\">16.6636</td><td style=\"text-align: right;\"> 277.676</td><td style=\"text-align: right;\">12.5204</td><td style=\"text-align: right;\">0.00915231</td></tr>\n",
       "<tr><td>GBM_5_AutoML_20190412_145805                       </td><td style=\"text-align: right;\">                 285.427</td><td style=\"text-align: right;\">16.8946</td><td style=\"text-align: right;\"> 285.427</td><td style=\"text-align: right;\">13.0277</td><td style=\"text-align: right;\">0.0092625 </td></tr>\n",
       "<tr><td>DRF_1_AutoML_20190412_145805                       </td><td style=\"text-align: right;\">                 289.166</td><td style=\"text-align: right;\">17.0049</td><td style=\"text-align: right;\"> 289.166</td><td style=\"text-align: right;\">12.7739</td><td style=\"text-align: right;\">0.00933881</td></tr>\n",
       "<tr><td>DeepLearning_1_AutoML_20190412_145805              </td><td style=\"text-align: right;\">                 290.526</td><td style=\"text-align: right;\">17.0448</td><td style=\"text-align: right;\"> 290.526</td><td style=\"text-align: right;\">13.2886</td><td style=\"text-align: right;\">0.00934432</td></tr>\n",
       "<tr><td>GBM_grid_1_AutoML_20190412_145805_model_6          </td><td style=\"text-align: right;\">                 296.037</td><td style=\"text-align: right;\">17.2057</td><td style=\"text-align: right;\"> 296.037</td><td style=\"text-align: right;\">13.1009</td><td style=\"text-align: right;\">0.00943174</td></tr>\n",
       "<tr><td>GBM_grid_1_AutoML_20190412_145805_model_3          </td><td style=\"text-align: right;\">                 321.626</td><td style=\"text-align: right;\">17.9339</td><td style=\"text-align: right;\"> 321.626</td><td style=\"text-align: right;\">13.7447</td><td style=\"text-align: right;\">0.0098528 </td></tr>\n",
       "<tr><td>GBM_grid_1_AutoML_20190412_145805_model_2          </td><td style=\"text-align: right;\">                 322.484</td><td style=\"text-align: right;\">17.9578</td><td style=\"text-align: right;\"> 322.484</td><td style=\"text-align: right;\">14.0474</td><td style=\"text-align: right;\">0.00983053</td></tr>\n",
       "<tr><td>DeepLearning_grid_1_AutoML_20190412_145805_model_1 </td><td style=\"text-align: right;\">                 335.214</td><td style=\"text-align: right;\">18.3088</td><td style=\"text-align: right;\"> 335.214</td><td style=\"text-align: right;\">13.9524</td><td style=\"text-align: right;\">0.0100056 </td></tr>\n",
       "<tr><td>GLM_grid_1_AutoML_20190412_145805_model_1          </td><td style=\"text-align: right;\">                 337.535</td><td style=\"text-align: right;\">18.3721</td><td style=\"text-align: right;\"> 337.535</td><td style=\"text-align: right;\">14.6662</td><td style=\"text-align: right;\">0.010091  </td></tr>\n",
       "<tr><td>DeepLearning_grid_1_AutoML_20190412_145805_model_4 </td><td style=\"text-align: right;\">                 349.103</td><td style=\"text-align: right;\">18.6843</td><td style=\"text-align: right;\"> 349.103</td><td style=\"text-align: right;\">14.2648</td><td style=\"text-align: right;\">0.0102682 </td></tr>\n",
       "<tr><td>DeepLearning_grid_1_AutoML_20190412_145805_model_3 </td><td style=\"text-align: right;\">                 371.236</td><td style=\"text-align: right;\">19.2675</td><td style=\"text-align: right;\"> 371.236</td><td style=\"text-align: right;\">15.0338</td><td style=\"text-align: right;\">0.010575  </td></tr>\n",
       "<tr><td>DeepLearning_grid_1_AutoML_20190412_145805_model_7 </td><td style=\"text-align: right;\">                 375.614</td><td style=\"text-align: right;\">19.3808</td><td style=\"text-align: right;\"> 375.614</td><td style=\"text-align: right;\">14.9238</td><td style=\"text-align: right;\">0.0106182 </td></tr>\n",
       "<tr><td>DeepLearning_grid_1_AutoML_20190412_145805_model_2 </td><td style=\"text-align: right;\">                 380.837</td><td style=\"text-align: right;\">19.5151</td><td style=\"text-align: right;\"> 380.837</td><td style=\"text-align: right;\">14.8097</td><td style=\"text-align: right;\">0.0106582 </td></tr>\n",
       "<tr><td>DeepLearning_grid_1_AutoML_20190412_145805_model_6 </td><td style=\"text-align: right;\">                 446.843</td><td style=\"text-align: right;\">21.1387</td><td style=\"text-align: right;\"> 446.843</td><td style=\"text-align: right;\">16.4366</td><td style=\"text-align: right;\">0.0115603 </td></tr>\n",
       "<tr><td>GBM_grid_1_AutoML_20190412_145805_model_5          </td><td style=\"text-align: right;\">                 459.299</td><td style=\"text-align: right;\">21.4313</td><td style=\"text-align: right;\"> 459.299</td><td style=\"text-align: right;\">16.4467</td><td style=\"text-align: right;\">0.0117232 </td></tr>\n",
       "<tr><td>DeepLearning_grid_1_AutoML_20190412_145805_model_5 </td><td style=\"text-align: right;\">                 477.198</td><td style=\"text-align: right;\">21.8449</td><td style=\"text-align: right;\"> 477.198</td><td style=\"text-align: right;\">17.1251</td><td style=\"text-align: right;\">0.012059  </td></tr>\n",
       "<tr><td>DeepLearning_grid_1_AutoML_20190412_145805_model_9 </td><td style=\"text-align: right;\">                 485.54 </td><td style=\"text-align: right;\">22.035 </td><td style=\"text-align: right;\"> 485.54 </td><td style=\"text-align: right;\">17.2613</td><td style=\"text-align: right;\">0.0120814 </td></tr>\n",
       "<tr><td>DeepLearning_grid_1_AutoML_20190412_145805_model_8 </td><td style=\"text-align: right;\">                 603.877</td><td style=\"text-align: right;\">24.5739</td><td style=\"text-align: right;\"> 603.877</td><td style=\"text-align: right;\">19.0612</td><td style=\"text-align: right;\">0.0133535 </td></tr>\n",
       "<tr><td>GBM_grid_1_AutoML_20190412_145805_model_1          </td><td style=\"text-align: right;\">                3673.91 </td><td style=\"text-align: right;\">60.6128</td><td style=\"text-align: right;\">3673.91 </td><td style=\"text-align: right;\">52.6051</td><td style=\"text-align: right;\">0.0330542 </td></tr>\n",
       "<tr><td>GBM_grid_1_AutoML_20190412_145805_model_7          </td><td style=\"text-align: right;\">                4465.11 </td><td style=\"text-align: right;\">66.8214</td><td style=\"text-align: right;\">4465.11 </td><td style=\"text-align: right;\">58.2439</td><td style=\"text-align: right;\">0.036455  </td></tr>\n",
       "<tr><td>GBM_grid_1_AutoML_20190412_145805_model_4          </td><td style=\"text-align: right;\">                4604.52 </td><td style=\"text-align: right;\">67.8566</td><td style=\"text-align: right;\">4604.52 </td><td style=\"text-align: right;\">59.2263</td><td style=\"text-align: right;\">0.0370218 </td></tr>\n",
       "</tbody>\n",
       "</table>"
      ]
     },
     "metadata": {},
     "output_type": "display_data"
    },
    {
     "data": {
      "text/plain": []
     },
     "execution_count": 194,
     "metadata": {},
     "output_type": "execute_result"
    }
   ],
   "source": [
    "lb = aml.leaderboard\n",
    "lb.head()\n",
    "lb.head(rows=lb.nrows) # Entire leaderboard"
   ]
  },
  {
   "cell_type": "code",
   "execution_count": 196,
   "metadata": {},
   "outputs": [
    {
     "name": "stdout",
     "output_type": "stream",
     "text": [
      "Parse progress: |█████████████████████████████████████████████████████████| 100%\n",
      "stackedensemble prediction progress: |████████████████████████████████████| 100%\n"
     ]
    }
   ],
   "source": [
    "preds = aml.predict(h2o.import_file(r'data-Q1/test_data.csv'))"
   ]
  },
  {
   "cell_type": "code",
   "execution_count": 203,
   "metadata": {
    "collapsed": true
   },
   "outputs": [
    {
     "data": {
      "text/plain": [
       "array([1763.67111558, 1847.98253521, 1787.59691085, 1884.45794169,\n",
       "       1829.59460194, 1763.46701755, 1739.57659265, 1936.44174449,\n",
       "       1727.23986198, 1774.23176004, 1784.28867269, 1889.2157643 ,\n",
       "       1878.90752611, 1743.34426287, 1757.98896377, 1733.34533169,\n",
       "       1786.73049735, 1834.88251752, 1782.35054362, 1876.34407448,\n",
       "       1814.01989185, 1944.55688478, 1757.4928473 , 1777.84171824,\n",
       "       1724.90705238, 1841.70157915, 1900.31476799, 1899.80010804,\n",
       "       1775.12453656, 1809.0977212 , 1875.16248063, 1852.11371476,\n",
       "       1932.1143828 , 1843.23605843, 1927.13677075, 1858.07835658,\n",
       "       1944.20316931, 1836.71154155, 1859.12492442, 1773.08433861,\n",
       "       1731.64703956, 1804.21823448, 1884.79656503, 1729.32073663,\n",
       "       1893.23288498, 1742.9673671 , 1779.3797258 , 1741.17852736,\n",
       "       1801.58176958, 1917.70500735, 1930.60593233, 1808.10459932,\n",
       "       1898.97026557, 1905.73820815, 1732.20688586, 1923.82658843,\n",
       "       1815.70303184, 1778.32333723, 1901.76649245, 1819.68389125,\n",
       "       1851.53193944, 1788.25727594, 1876.17174058, 1732.36119756,\n",
       "       1848.77717076, 1779.01510594, 1761.21019073, 1923.05840351,\n",
       "       1937.34736868, 1805.10395497, 1816.57880535, 1751.90557841,\n",
       "       1873.33254457, 1734.58288628, 1806.79420962, 1810.98819341,\n",
       "       1838.39190519, 1879.96133983, 1800.15686699, 1755.06207478,\n",
       "       1913.5251497 , 1771.08126684, 1926.26070096, 1899.66174033,\n",
       "       1838.30250561, 1917.5703181 , 1837.67497751, 1762.20892755,\n",
       "       1812.0406107 , 1913.32539381, 1902.29335955, 1783.62690376,\n",
       "       1867.24011922, 1938.44414016, 1775.3118739 , 1869.42979171,\n",
       "       1757.01905719, 1730.8128363 , 1911.91617761, 1919.26430434,\n",
       "       1798.82209239, 1850.36463928, 1789.21857919, 1737.56939502,\n",
       "       1848.79706468, 1739.83947451, 1738.77402139, 1820.65275334,\n",
       "       1859.04307029, 1933.7609907 , 1825.61393105, 1738.77926268,\n",
       "       1871.06403771, 1872.03721578, 1734.37679296, 1783.01669943,\n",
       "       1748.01869078, 1765.12341655, 1855.94172187, 1776.66360931,\n",
       "       1801.84192325, 1781.43122724, 1920.81832333, 1764.32726369,\n",
       "       1755.61364924, 1869.90826814, 1737.49980505, 1788.61507009,\n",
       "       1889.63996317, 1805.73629423, 1859.03326818, 1891.08549965,\n",
       "       1911.50228547, 1738.85552595, 1760.99458095, 1740.18817956,\n",
       "       1946.57690067, 1815.08325466, 1929.06339943, 1781.75749576,\n",
       "       1858.67144147, 1777.79937011, 1942.14065946, 1742.19558016,\n",
       "       1834.66934975, 1738.78021782, 1886.06892664, 1751.89758549,\n",
       "       1741.70746808, 1743.76218256, 1925.87610404, 1758.4149482 ,\n",
       "       1836.21217085, 1760.5617658 , 1792.529387  , 1853.03536323,\n",
       "       1744.72203842, 1748.34250438, 1821.16319531, 1761.47518075,\n",
       "       1759.42082937, 1929.75024586, 1756.48727251, 1803.68597897,\n",
       "       1866.85388757, 1862.2009989 , 1914.06878907, 1852.36554008,\n",
       "       1742.01054697, 1825.26447526, 1742.89000204, 1749.05188517,\n",
       "       1941.42964983, 1861.30735929, 1788.70762085, 1881.89148119,\n",
       "       1853.81350571, 1780.08255857, 1926.62200466, 1923.23002802,\n",
       "       1743.51830266, 1738.821077  , 1769.48140115, 1765.50917883,\n",
       "       1842.62334943, 1804.16142652, 1756.83685159, 1735.20124507,\n",
       "       1928.59785293, 1798.39833579, 1779.6500173 , 1754.03249564,\n",
       "       1733.94852066, 1729.86718539, 1879.35102625, 1826.35851242,\n",
       "       1906.55525709, 1847.19996471, 1736.46107451, 1938.93185427])"
      ]
     },
     "execution_count": 203,
     "metadata": {},
     "output_type": "execute_result"
    }
   ],
   "source": [
    "preds.as_data_frame()['predict'].values"
   ]
  },
  {
   "cell_type": "code",
   "execution_count": 1,
   "metadata": {},
   "outputs": [
    {
     "name": "stdout",
     "output_type": "stream",
     "text": [
      "Wall time: 7.58 s\n"
     ]
    }
   ],
   "source": [
    "%%time\n",
    "%matplotlib inline\n",
    "import warnings\n",
    "warnings.filterwarnings('ignore')\n",
    "\n",
    "import numpy as np\n",
    "import os\n",
    "import matplotlib.pyplot as plt\n",
    "import seaborn as sns\n",
    "import pandas as pd\n",
    "import random\n",
    "import xgboost as xgb\n",
    "\n",
    "from sklearn import preprocessing\n",
    "import lightgbm as lgb\n",
    "from sklearn.ensemble import RandomForestClassifier\n",
    "from sklearn.preprocessing import OneHotEncoder\n",
    "\n",
    "from sklearn.preprocessing import StandardScaler,MinMaxScaler\n",
    "from sklearn.decomposition import PCA\n",
    "from math import sqrt\n",
    "from scipy import stats\n",
    "from scipy.stats import norm, skew #for some statistics\n",
    "\n",
    "from rgf.sklearn import RGFRegressor,RGFClassifier"
   ]
  },
  {
   "cell_type": "code",
   "execution_count": 2,
   "metadata": {},
   "outputs": [],
   "source": [
    "from IPython.core.interactiveshell import InteractiveShell\n",
    "from tqdm import tqdm_notebook\n",
    "InteractiveShell.ast_node_interactivity = \"all\""
   ]
  },
  {
   "cell_type": "code",
   "execution_count": 3,
   "metadata": {},
   "outputs": [
    {
     "data": {
      "text/plain": [
       "['README.txt', 'sample_submission.csv', 'test_data.csv', 'train_data.csv']"
      ]
     },
     "execution_count": 3,
     "metadata": {},
     "output_type": "execute_result"
    }
   ],
   "source": [
    "os.listdir('data-Q1')"
   ]
  },
  {
   "cell_type": "code",
   "execution_count": 4,
   "metadata": {},
   "outputs": [
    {
     "name": "stdout",
     "output_type": "stream",
     "text": [
      "['README.txt', 'sample_submission.csv', 'test_data.csv', 'train_data.csv']\n"
     ]
    }
   ],
   "source": [
    "print(os.listdir(\"data-Q1\"))\n",
    "train = pd.read_csv(r'data-Q1/train_data.csv')\n",
    "test = pd.read_csv(r'data-Q1/test_data.csv')\n",
    "sub = pd.read_csv(r'data-Q1/sample_submission.csv')"
   ]
  },
  {
   "cell_type": "code",
   "execution_count": 7,
   "metadata": {},
   "outputs": [
    {
     "data": {
      "text/html": [
       "<div>\n",
       "<style scoped>\n",
       "    .dataframe tbody tr th:only-of-type {\n",
       "        vertical-align: middle;\n",
       "    }\n",
       "\n",
       "    .dataframe tbody tr th {\n",
       "        vertical-align: top;\n",
       "    }\n",
       "\n",
       "    .dataframe thead th {\n",
       "        text-align: right;\n",
       "    }\n",
       "</style>\n",
       "<table border=\"1\" class=\"dataframe\">\n",
       "  <thead>\n",
       "    <tr style=\"text-align: right;\">\n",
       "      <th></th>\n",
       "      <th>Avg_firing_dist</th>\n",
       "      <th>Avg_Srv_time</th>\n",
       "      <th>Avg_ping</th>\n",
       "      <th>Total_travel_dist</th>\n",
       "      <th>Avg_damage</th>\n",
       "    </tr>\n",
       "  </thead>\n",
       "  <tbody>\n",
       "    <tr>\n",
       "      <th>0</th>\n",
       "      <td>264.22</td>\n",
       "      <td>19.06</td>\n",
       "      <td>96.79</td>\n",
       "      <td>6332.00</td>\n",
       "      <td>1788.88</td>\n",
       "    </tr>\n",
       "    <tr>\n",
       "      <th>1</th>\n",
       "      <td>366.66</td>\n",
       "      <td>24.42</td>\n",
       "      <td>96.67</td>\n",
       "      <td>6603.70</td>\n",
       "      <td>1750.92</td>\n",
       "    </tr>\n",
       "    <tr>\n",
       "      <th>2</th>\n",
       "      <td>259.54</td>\n",
       "      <td>16.37</td>\n",
       "      <td>97.50</td>\n",
       "      <td>6145.80</td>\n",
       "      <td>1838.12</td>\n",
       "    </tr>\n",
       "    <tr>\n",
       "      <th>3</th>\n",
       "      <td>183.23</td>\n",
       "      <td>13.52</td>\n",
       "      <td>97.31</td>\n",
       "      <td>6584.70</td>\n",
       "      <td>1869.24</td>\n",
       "    </tr>\n",
       "    <tr>\n",
       "      <th>4</th>\n",
       "      <td>299.71</td>\n",
       "      <td>19.74</td>\n",
       "      <td>97.82</td>\n",
       "      <td>6701.55</td>\n",
       "      <td>1818.88</td>\n",
       "    </tr>\n",
       "  </tbody>\n",
       "</table>\n",
       "</div>"
      ],
      "text/plain": [
       "   Avg_firing_dist  Avg_Srv_time  Avg_ping  Total_travel_dist  Avg_damage\n",
       "0           264.22         19.06     96.79            6332.00     1788.88\n",
       "1           366.66         24.42     96.67            6603.70     1750.92\n",
       "2           259.54         16.37     97.50            6145.80     1838.12\n",
       "3           183.23         13.52     97.31            6584.70     1869.24\n",
       "4           299.71         19.74     97.82            6701.55     1818.88"
      ]
     },
     "execution_count": 7,
     "metadata": {},
     "output_type": "execute_result"
    },
    {
     "data": {
      "text/html": [
       "<div>\n",
       "<style scoped>\n",
       "    .dataframe tbody tr th:only-of-type {\n",
       "        vertical-align: middle;\n",
       "    }\n",
       "\n",
       "    .dataframe tbody tr th {\n",
       "        vertical-align: top;\n",
       "    }\n",
       "\n",
       "    .dataframe thead th {\n",
       "        text-align: right;\n",
       "    }\n",
       "</style>\n",
       "<table border=\"1\" class=\"dataframe\">\n",
       "  <thead>\n",
       "    <tr style=\"text-align: right;\">\n",
       "      <th></th>\n",
       "      <th>150</th>\n",
       "    </tr>\n",
       "  </thead>\n",
       "  <tbody>\n",
       "    <tr>\n",
       "      <th>0</th>\n",
       "      <td>1500</td>\n",
       "    </tr>\n",
       "    <tr>\n",
       "      <th>1</th>\n",
       "      <td>2000</td>\n",
       "    </tr>\n",
       "    <tr>\n",
       "      <th>2</th>\n",
       "      <td>1800</td>\n",
       "    </tr>\n",
       "    <tr>\n",
       "      <th>3</th>\n",
       "      <td>1350</td>\n",
       "    </tr>\n",
       "  </tbody>\n",
       "</table>\n",
       "</div>"
      ],
      "text/plain": [
       "    150\n",
       "0  1500\n",
       "1  2000\n",
       "2  1800\n",
       "3  1350"
      ]
     },
     "execution_count": 7,
     "metadata": {},
     "output_type": "execute_result"
    },
    {
     "data": {
      "text/plain": [
       "(2000, 5)"
      ]
     },
     "execution_count": 7,
     "metadata": {},
     "output_type": "execute_result"
    }
   ],
   "source": [
    "train.head()\n",
    "sub.head()\n",
    "train.shape"
   ]
  },
  {
   "cell_type": "code",
   "execution_count": 21,
   "metadata": {},
   "outputs": [
    {
     "data": {
      "text/html": [
       "<div>\n",
       "<style scoped>\n",
       "    .dataframe tbody tr th:only-of-type {\n",
       "        vertical-align: middle;\n",
       "    }\n",
       "\n",
       "    .dataframe tbody tr th {\n",
       "        vertical-align: top;\n",
       "    }\n",
       "\n",
       "    .dataframe thead th {\n",
       "        text-align: right;\n",
       "    }\n",
       "</style>\n",
       "<table border=\"1\" class=\"dataframe\">\n",
       "  <thead>\n",
       "    <tr style=\"text-align: right;\">\n",
       "      <th></th>\n",
       "      <th>Avg_firing_dist</th>\n",
       "      <th>Avg_Srv_time</th>\n",
       "      <th>Avg_ping</th>\n",
       "      <th>Total_travel_dist</th>\n",
       "      <th>Avg_damage</th>\n",
       "    </tr>\n",
       "  </thead>\n",
       "  <tbody>\n",
       "    <tr>\n",
       "      <th>16</th>\n",
       "      <td>90.54</td>\n",
       "      <td>12.70</td>\n",
       "      <td>97.74</td>\n",
       "      <td>6756.65</td>\n",
       "      <td>1984.36</td>\n",
       "    </tr>\n",
       "    <tr>\n",
       "      <th>292</th>\n",
       "      <td>67.01</td>\n",
       "      <td>12.30</td>\n",
       "      <td>96.94</td>\n",
       "      <td>6558.10</td>\n",
       "      <td>1984.64</td>\n",
       "    </tr>\n",
       "    <tr>\n",
       "      <th>447</th>\n",
       "      <td>74.81</td>\n",
       "      <td>12.52</td>\n",
       "      <td>97.07</td>\n",
       "      <td>6045.10</td>\n",
       "      <td>1981.84</td>\n",
       "    </tr>\n",
       "    <tr>\n",
       "      <th>545</th>\n",
       "      <td>71.95</td>\n",
       "      <td>12.52</td>\n",
       "      <td>97.02</td>\n",
       "      <td>6019.45</td>\n",
       "      <td>1986.40</td>\n",
       "    </tr>\n",
       "    <tr>\n",
       "      <th>600</th>\n",
       "      <td>64.28</td>\n",
       "      <td>12.58</td>\n",
       "      <td>96.92</td>\n",
       "      <td>7627.80</td>\n",
       "      <td>1980.48</td>\n",
       "    </tr>\n",
       "    <tr>\n",
       "      <th>1028</th>\n",
       "      <td>85.21</td>\n",
       "      <td>12.30</td>\n",
       "      <td>97.05</td>\n",
       "      <td>8870.40</td>\n",
       "      <td>1971.16</td>\n",
       "    </tr>\n",
       "    <tr>\n",
       "      <th>1330</th>\n",
       "      <td>87.94</td>\n",
       "      <td>12.52</td>\n",
       "      <td>97.59</td>\n",
       "      <td>5724.00</td>\n",
       "      <td>1976.84</td>\n",
       "    </tr>\n",
       "    <tr>\n",
       "      <th>1350</th>\n",
       "      <td>76.24</td>\n",
       "      <td>12.52</td>\n",
       "      <td>97.69</td>\n",
       "      <td>6238.90</td>\n",
       "      <td>1988.04</td>\n",
       "    </tr>\n",
       "    <tr>\n",
       "      <th>1482</th>\n",
       "      <td>76.63</td>\n",
       "      <td>12.81</td>\n",
       "      <td>97.93</td>\n",
       "      <td>8032.50</td>\n",
       "      <td>1972.36</td>\n",
       "    </tr>\n",
       "    <tr>\n",
       "      <th>1694</th>\n",
       "      <td>120.05</td>\n",
       "      <td>12.63</td>\n",
       "      <td>98.24</td>\n",
       "      <td>7644.90</td>\n",
       "      <td>1972.24</td>\n",
       "    </tr>\n",
       "    <tr>\n",
       "      <th>1843</th>\n",
       "      <td>127.33</td>\n",
       "      <td>12.63</td>\n",
       "      <td>98.24</td>\n",
       "      <td>7556.55</td>\n",
       "      <td>1976.52</td>\n",
       "    </tr>\n",
       "    <tr>\n",
       "      <th>1982</th>\n",
       "      <td>64.67</td>\n",
       "      <td>12.30</td>\n",
       "      <td>96.90</td>\n",
       "      <td>6824.10</td>\n",
       "      <td>1984.60</td>\n",
       "    </tr>\n",
       "  </tbody>\n",
       "</table>\n",
       "</div>"
      ],
      "text/plain": [
       "      Avg_firing_dist  Avg_Srv_time  Avg_ping  Total_travel_dist  Avg_damage\n",
       "16              90.54         12.70     97.74            6756.65     1984.36\n",
       "292             67.01         12.30     96.94            6558.10     1984.64\n",
       "447             74.81         12.52     97.07            6045.10     1981.84\n",
       "545             71.95         12.52     97.02            6019.45     1986.40\n",
       "600             64.28         12.58     96.92            7627.80     1980.48\n",
       "1028            85.21         12.30     97.05            8870.40     1971.16\n",
       "1330            87.94         12.52     97.59            5724.00     1976.84\n",
       "1350            76.24         12.52     97.69            6238.90     1988.04\n",
       "1482            76.63         12.81     97.93            8032.50     1972.36\n",
       "1694           120.05         12.63     98.24            7644.90     1972.24\n",
       "1843           127.33         12.63     98.24            7556.55     1976.52\n",
       "1982            64.67         12.30     96.90            6824.10     1984.60"
      ]
     },
     "execution_count": 21,
     "metadata": {},
     "output_type": "execute_result"
    },
    {
     "data": {
      "text/html": [
       "<div>\n",
       "<style scoped>\n",
       "    .dataframe tbody tr th:only-of-type {\n",
       "        vertical-align: middle;\n",
       "    }\n",
       "\n",
       "    .dataframe tbody tr th {\n",
       "        vertical-align: top;\n",
       "    }\n",
       "\n",
       "    .dataframe thead th {\n",
       "        text-align: right;\n",
       "    }\n",
       "</style>\n",
       "<table border=\"1\" class=\"dataframe\">\n",
       "  <thead>\n",
       "    <tr style=\"text-align: right;\">\n",
       "      <th></th>\n",
       "      <th>Avg_firing_dist</th>\n",
       "      <th>Avg_Srv_time</th>\n",
       "      <th>Avg_ping</th>\n",
       "      <th>Total_travel_dist</th>\n",
       "      <th>Avg_damage</th>\n",
       "    </tr>\n",
       "  </thead>\n",
       "  <tbody>\n",
       "    <tr>\n",
       "      <th>434</th>\n",
       "      <td>410.08</td>\n",
       "      <td>19.99</td>\n",
       "      <td>96.06</td>\n",
       "      <td>4265.75</td>\n",
       "      <td>1708.28</td>\n",
       "    </tr>\n",
       "    <tr>\n",
       "      <th>525</th>\n",
       "      <td>379.27</td>\n",
       "      <td>21.74</td>\n",
       "      <td>96.26</td>\n",
       "      <td>6265.50</td>\n",
       "      <td>1707.56</td>\n",
       "    </tr>\n",
       "    <tr>\n",
       "      <th>1112</th>\n",
       "      <td>398.38</td>\n",
       "      <td>22.27</td>\n",
       "      <td>96.55</td>\n",
       "      <td>6228.45</td>\n",
       "      <td>1707.84</td>\n",
       "    </tr>\n",
       "    <tr>\n",
       "      <th>1212</th>\n",
       "      <td>395.39</td>\n",
       "      <td>20.87</td>\n",
       "      <td>96.47</td>\n",
       "      <td>5002.95</td>\n",
       "      <td>1709.52</td>\n",
       "    </tr>\n",
       "    <tr>\n",
       "      <th>1328</th>\n",
       "      <td>373.81</td>\n",
       "      <td>21.24</td>\n",
       "      <td>96.86</td>\n",
       "      <td>6838.35</td>\n",
       "      <td>1706.16</td>\n",
       "    </tr>\n",
       "    <tr>\n",
       "      <th>1507</th>\n",
       "      <td>411.51</td>\n",
       "      <td>21.24</td>\n",
       "      <td>96.77</td>\n",
       "      <td>5420.95</td>\n",
       "      <td>1706.92</td>\n",
       "    </tr>\n",
       "    <tr>\n",
       "      <th>1653</th>\n",
       "      <td>413.20</td>\n",
       "      <td>20.46</td>\n",
       "      <td>96.23</td>\n",
       "      <td>5489.35</td>\n",
       "      <td>1708.64</td>\n",
       "    </tr>\n",
       "    <tr>\n",
       "      <th>1746</th>\n",
       "      <td>413.46</td>\n",
       "      <td>21.24</td>\n",
       "      <td>96.76</td>\n",
       "      <td>5435.20</td>\n",
       "      <td>1708.92</td>\n",
       "    </tr>\n",
       "  </tbody>\n",
       "</table>\n",
       "</div>"
      ],
      "text/plain": [
       "      Avg_firing_dist  Avg_Srv_time  Avg_ping  Total_travel_dist  Avg_damage\n",
       "434            410.08         19.99     96.06            4265.75     1708.28\n",
       "525            379.27         21.74     96.26            6265.50     1707.56\n",
       "1112           398.38         22.27     96.55            6228.45     1707.84\n",
       "1212           395.39         20.87     96.47            5002.95     1709.52\n",
       "1328           373.81         21.24     96.86            6838.35     1706.16\n",
       "1507           411.51         21.24     96.77            5420.95     1706.92\n",
       "1653           413.20         20.46     96.23            5489.35     1708.64\n",
       "1746           413.46         21.24     96.76            5435.20     1708.92"
      ]
     },
     "execution_count": 21,
     "metadata": {},
     "output_type": "execute_result"
    }
   ],
   "source": [
    "train[train['Avg_damage']>1970]\n",
    "train[train['Avg_damage']<1710]"
   ]
  },
  {
   "cell_type": "code",
   "execution_count": 6,
   "metadata": {},
   "outputs": [
    {
     "data": {
      "text/plain": [
       "Avg_firing_dist      1399\n",
       "Avg_Srv_time          460\n",
       "Avg_ping              270\n",
       "Total_travel_dist    1666\n",
       "Avg_damage           1685\n",
       "dtype: int64"
      ]
     },
     "execution_count": 6,
     "metadata": {},
     "output_type": "execute_result"
    }
   ],
   "source": [
    "train.nunique()"
   ]
  },
  {
   "cell_type": "code",
   "execution_count": 17,
   "metadata": {},
   "outputs": [
    {
     "data": {
      "text/plain": [
       "<matplotlib.axes._subplots.AxesSubplot at 0x1e47236a7f0>"
      ]
     },
     "execution_count": 17,
     "metadata": {},
     "output_type": "execute_result"
    },
    {
     "data": {
      "image/png": "[encoded data removed]",
      "text/plain": [
       "<Figure size 432x288 with 1 Axes>"
      ]
     },
     "metadata": {
      "needs_background": "light"
     },
     "output_type": "display_data"
    }
   ],
   "source": [
    "sns.distplot(train['Avg_Srv_time'],kde = False)"
   ]
  },
  {
   "cell_type": "code",
   "execution_count": 22,
   "metadata": {},
   "outputs": [],
   "source": [
    "train['srv_fire_comb'] = train['Avg_Srv_time'] * train['Avg_firing_dist']\n",
    "\n",
    "test['srv_fire_comb'] = test['Avg_Srv_time'] * test['Avg_firing_dist']"
   ]
  },
  {
   "cell_type": "code",
   "execution_count": null,
   "metadata": {},
   "outputs": [],
   "source": []
  },
  {
   "cell_type": "code",
   "execution_count": 130,
   "metadata": {},
   "outputs": [],
   "source": [
    "train['ratio'] = train['Total_travel_dist']/train['Avg_Srv_time']\n",
    "test['ratio'] = test['Total_travel_dist']/test['Avg_Srv_time']"
   ]
  },
  {
   "cell_type": "code",
   "execution_count": 87,
   "metadata": {},
   "outputs": [
    {
     "data": {
      "text/html": [
       "<div>\n",
       "<style scoped>\n",
       "    .dataframe tbody tr th:only-of-type {\n",
       "        vertical-align: middle;\n",
       "    }\n",
       "\n",
       "    .dataframe tbody tr th {\n",
       "        vertical-align: top;\n",
       "    }\n",
       "\n",
       "    .dataframe thead th {\n",
       "        text-align: right;\n",
       "    }\n",
       "</style>\n",
       "<table border=\"1\" class=\"dataframe\">\n",
       "  <thead>\n",
       "    <tr style=\"text-align: right;\">\n",
       "      <th></th>\n",
       "      <th>Avg_firing_dist</th>\n",
       "      <th>Avg_Srv_time</th>\n",
       "      <th>Avg_ping</th>\n",
       "      <th>Total_travel_dist</th>\n",
       "      <th>Avg_damage</th>\n",
       "    </tr>\n",
       "  </thead>\n",
       "  <tbody>\n",
       "    <tr>\n",
       "      <th>Avg_firing_dist</th>\n",
       "      <td>1.000000</td>\n",
       "      <td>0.848076</td>\n",
       "      <td>-0.532552</td>\n",
       "      <td>-0.530093</td>\n",
       "      <td>-0.950700</td>\n",
       "    </tr>\n",
       "    <tr>\n",
       "      <th>Avg_Srv_time</th>\n",
       "      <td>0.848076</td>\n",
       "      <td>1.000000</td>\n",
       "      <td>-0.426458</td>\n",
       "      <td>-0.312642</td>\n",
       "      <td>-0.867387</td>\n",
       "    </tr>\n",
       "    <tr>\n",
       "      <th>Avg_ping</th>\n",
       "      <td>-0.532552</td>\n",
       "      <td>-0.426458</td>\n",
       "      <td>1.000000</td>\n",
       "      <td>0.116659</td>\n",
       "      <td>0.541618</td>\n",
       "    </tr>\n",
       "    <tr>\n",
       "      <th>Total_travel_dist</th>\n",
       "      <td>-0.530093</td>\n",
       "      <td>-0.312642</td>\n",
       "      <td>0.116659</td>\n",
       "      <td>1.000000</td>\n",
       "      <td>0.380421</td>\n",
       "    </tr>\n",
       "    <tr>\n",
       "      <th>Avg_damage</th>\n",
       "      <td>-0.950700</td>\n",
       "      <td>-0.867387</td>\n",
       "      <td>0.541618</td>\n",
       "      <td>0.380421</td>\n",
       "      <td>1.000000</td>\n",
       "    </tr>\n",
       "  </tbody>\n",
       "</table>\n",
       "</div>"
      ],
      "text/plain": [
       "                   Avg_firing_dist  Avg_Srv_time  Avg_ping  Total_travel_dist  \\\n",
       "Avg_firing_dist           1.000000      0.848076 -0.532552          -0.530093   \n",
       "Avg_Srv_time              0.848076      1.000000 -0.426458          -0.312642   \n",
       "Avg_ping                 -0.532552     -0.426458  1.000000           0.116659   \n",
       "Total_travel_dist        -0.530093     -0.312642  0.116659           1.000000   \n",
       "Avg_damage               -0.950700     -0.867387  0.541618           0.380421   \n",
       "\n",
       "                   Avg_damage  \n",
       "Avg_firing_dist     -0.950700  \n",
       "Avg_Srv_time        -0.867387  \n",
       "Avg_ping             0.541618  \n",
       "Total_travel_dist    0.380421  \n",
       "Avg_damage           1.000000  "
      ]
     },
     "execution_count": 87,
     "metadata": {},
     "output_type": "execute_result"
    }
   ],
   "source": [
    "train.corr()"
   ]
  },
  {
   "cell_type": "code",
   "execution_count": 183,
   "metadata": {},
   "outputs": [],
   "source": [
    "bins = [7, 10, 12, 14.4, 16,18,20,22,25]\n",
    "# train['binned'] = pd.cut(train['Avg_Srv_time'], bins).value_counts()\n",
    "\n",
    "train['binned'] = pd.cut(train['Avg_Srv_time'], bins=bins, labels=list(labels))"
   ]
  },
  {
   "cell_type": "code",
   "execution_count": 182,
   "metadata": {},
   "outputs": [],
   "source": [
    "labels = train.groupby(pd.cut(train['Avg_Srv_time'], bins=bins)).size().values"
   ]
  },
  {
   "cell_type": "code",
   "execution_count": 184,
   "metadata": {},
   "outputs": [],
   "source": [
    "bins = [7, 10, 12, 14.4, 16,18,20,22,25]\n",
    "# train['binned'] = pd.cut(train['Avg_Srv_time'], bins).value_counts()\n",
    "labels = test.groupby(pd.cut(test['Avg_Srv_time'], bins=bins)).size().values\n",
    "\n",
    "test['binned'] = pd.cut(test['Avg_Srv_time'], bins=bins, labels=list(labels))"
   ]
  },
  {
   "cell_type": "code",
   "execution_count": 120,
   "metadata": {},
   "outputs": [
    {
     "data": {
      "text/plain": [
       "[0, 8, 73, 18, 18, 28, 30, 25]"
      ]
     },
     "execution_count": 120,
     "metadata": {},
     "output_type": "execute_result"
    }
   ],
   "source": [
    "list(labels)"
   ]
  },
  {
   "cell_type": "code",
   "execution_count": 15,
   "metadata": {},
   "outputs": [
    {
     "data": {
      "image/png": "[encoded data removed]",
      "text/plain": [
       "<Figure size 432x288 with 1 Axes>"
      ]
     },
     "metadata": {
      "needs_background": "light"
     },
     "output_type": "display_data"
    }
   ],
   "source": [
    "import seaborn as sns\n",
    "ax = sns.scatterplot(x=\"Avg_firing_dist\", y=\"Avg_damage\", data=train)"
   ]
  },
  {
   "cell_type": "code",
   "execution_count": 12,
   "metadata": {},
   "outputs": [
    {
     "data": {
      "text/html": [
       "<div>\n",
       "<style scoped>\n",
       "    .dataframe tbody tr th:only-of-type {\n",
       "        vertical-align: middle;\n",
       "    }\n",
       "\n",
       "    .dataframe tbody tr th {\n",
       "        vertical-align: top;\n",
       "    }\n",
       "\n",
       "    .dataframe thead th {\n",
       "        text-align: right;\n",
       "    }\n",
       "</style>\n",
       "<table border=\"1\" class=\"dataframe\">\n",
       "  <thead>\n",
       "    <tr style=\"text-align: right;\">\n",
       "      <th></th>\n",
       "      <th>Avg_firing_dist</th>\n",
       "      <th>Avg_Srv_time</th>\n",
       "      <th>Avg_ping</th>\n",
       "      <th>Total_travel_dist</th>\n",
       "    </tr>\n",
       "  </thead>\n",
       "  <tbody>\n",
       "    <tr>\n",
       "      <th>0</th>\n",
       "      <td>343.13</td>\n",
       "      <td>18.94</td>\n",
       "      <td>96.78</td>\n",
       "      <td>7130.95</td>\n",
       "    </tr>\n",
       "    <tr>\n",
       "      <th>1</th>\n",
       "      <td>246.80</td>\n",
       "      <td>13.57</td>\n",
       "      <td>97.17</td>\n",
       "      <td>4865.20</td>\n",
       "    </tr>\n",
       "    <tr>\n",
       "      <th>2</th>\n",
       "      <td>290.48</td>\n",
       "      <td>15.08</td>\n",
       "      <td>96.35</td>\n",
       "      <td>7250.65</td>\n",
       "    </tr>\n",
       "    <tr>\n",
       "      <th>3</th>\n",
       "      <td>175.04</td>\n",
       "      <td>13.20</td>\n",
       "      <td>97.42</td>\n",
       "      <td>7958.40</td>\n",
       "    </tr>\n",
       "    <tr>\n",
       "      <th>4</th>\n",
       "      <td>233.93</td>\n",
       "      <td>17.46</td>\n",
       "      <td>97.68</td>\n",
       "      <td>7823.50</td>\n",
       "    </tr>\n",
       "  </tbody>\n",
       "</table>\n",
       "</div>"
      ],
      "text/plain": [
       "   Avg_firing_dist  Avg_Srv_time  Avg_ping  Total_travel_dist\n",
       "0           343.13         18.94     96.78            7130.95\n",
       "1           246.80         13.57     97.17            4865.20\n",
       "2           290.48         15.08     96.35            7250.65\n",
       "3           175.04         13.20     97.42            7958.40\n",
       "4           233.93         17.46     97.68            7823.50"
      ]
     },
     "execution_count": 12,
     "metadata": {},
     "output_type": "execute_result"
    }
   ],
   "source": [
    "test.head()"
   ]
  },
  {
   "cell_type": "code",
   "execution_count": 13,
   "metadata": {},
   "outputs": [
    {
     "data": {
      "text/plain": [
       "(2000, 5)"
      ]
     },
     "execution_count": 13,
     "metadata": {},
     "output_type": "execute_result"
    },
    {
     "data": {
      "text/plain": [
       "(200, 4)"
      ]
     },
     "execution_count": 13,
     "metadata": {},
     "output_type": "execute_result"
    }
   ],
   "source": [
    "train.shape\n",
    "test.shape"
   ]
  },
  {
   "cell_type": "code",
   "execution_count": 16,
   "metadata": {},
   "outputs": [
    {
     "data": {
      "text/plain": [
       "Avg_firing_dist      0\n",
       "Avg_Srv_time         0\n",
       "Avg_ping             0\n",
       "Total_travel_dist    0\n",
       "Avg_damage           0\n",
       "dtype: int64"
      ]
     },
     "execution_count": 16,
     "metadata": {},
     "output_type": "execute_result"
    }
   ],
   "source": [
    "# Number of NaNs in each column\n",
    "train.isnull().sum(axis=0)"
   ]
  },
  {
   "cell_type": "code",
   "execution_count": 23,
   "metadata": {},
   "outputs": [],
   "source": [
    "Y1=train['Avg_damage']\n",
    "train1=train.drop(['Avg_damage'],axis=1)\n",
    "train1=train1\n",
    "Y=Y1.values\n",
    "\n",
    "test1=test"
   ]
  },
  {
   "cell_type": "code",
   "execution_count": 227,
   "metadata": {},
   "outputs": [],
   "source": [
    "#make 2 way interaction between all the columns\n",
    "def Make_2way(X, Xt):\n",
    "    columns_length=X.shape[1]\n",
    "    for j in range (0,columns_length):\n",
    "        for d in range (j+1,columns_length):  \n",
    "            print((\"Adding columns' interraction %d and %d\" % (j, d) ))\n",
    "            new_column_train=X[:,j]*X[:,d]\n",
    "            new_column_test=Xt[:,j]*Xt[:,d]    \n",
    "            X=np.column_stack((X,new_column_train))\n",
    "            Xt=np.column_stack((Xt,new_column_test))\n",
    "    return X, Xt"
   ]
  },
  {
   "cell_type": "code",
   "execution_count": 228,
   "metadata": {},
   "outputs": [
    {
     "name": "stdout",
     "output_type": "stream",
     "text": [
      "Adding columns' interraction 0 and 1\n",
      "Adding columns' interraction 0 and 2\n",
      "Adding columns' interraction 0 and 3\n",
      "Adding columns' interraction 0 and 4\n",
      "Adding columns' interraction 0 and 5\n",
      "Adding columns' interraction 0 and 6\n",
      "Adding columns' interraction 0 and 7\n",
      "Adding columns' interraction 0 and 8\n",
      "Adding columns' interraction 0 and 9\n",
      "Adding columns' interraction 1 and 2\n",
      "Adding columns' interraction 1 and 3\n",
      "Adding columns' interraction 1 and 4\n",
      "Adding columns' interraction 1 and 5\n",
      "Adding columns' interraction 1 and 6\n",
      "Adding columns' interraction 1 and 7\n",
      "Adding columns' interraction 1 and 8\n",
      "Adding columns' interraction 1 and 9\n",
      "Adding columns' interraction 2 and 3\n",
      "Adding columns' interraction 2 and 4\n",
      "Adding columns' interraction 2 and 5\n",
      "Adding columns' interraction 2 and 6\n",
      "Adding columns' interraction 2 and 7\n",
      "Adding columns' interraction 2 and 8\n",
      "Adding columns' interraction 2 and 9\n",
      "Adding columns' interraction 3 and 4\n",
      "Adding columns' interraction 3 and 5\n",
      "Adding columns' interraction 3 and 6\n",
      "Adding columns' interraction 3 and 7\n",
      "Adding columns' interraction 3 and 8\n",
      "Adding columns' interraction 3 and 9\n",
      "Adding columns' interraction 4 and 5\n",
      "Adding columns' interraction 4 and 6\n",
      "Adding columns' interraction 4 and 7\n",
      "Adding columns' interraction 4 and 8\n",
      "Adding columns' interraction 4 and 9\n",
      "Adding columns' interraction 5 and 6\n",
      "Adding columns' interraction 5 and 7\n",
      "Adding columns' interraction 5 and 8\n",
      "Adding columns' interraction 5 and 9\n",
      "Adding columns' interraction 6 and 7\n",
      "Adding columns' interraction 6 and 8\n",
      "Adding columns' interraction 6 and 9\n",
      "Adding columns' interraction 7 and 8\n",
      "Adding columns' interraction 7 and 9\n",
      "Adding columns' interraction 8 and 9\n"
     ]
    }
   ],
   "source": [
    "train3,test3= Make_2way(train2, test2)"
   ]
  },
  {
   "cell_type": "code",
   "execution_count": 23,
   "metadata": {
    "collapsed": true
   },
   "outputs": [
    {
     "ename": "ValueError",
     "evalue": "Supported target types are: ('binary', 'multiclass'). Got 'continuous' instead.",
     "output_type": "error",
     "traceback": [
      "\u001b[1;31m---------------------------------------------------------------------------\u001b[0m",
      "\u001b[1;31mValueError\u001b[0m                                Traceback (most recent call last)",
      "\u001b[1;32m<ipython-input-23-739eb6d7cea3>\u001b[0m in \u001b[0;36m<module>\u001b[1;34m\u001b[0m\n\u001b[0;32m     15\u001b[0m \u001b[0mX_preds\u001b[0m \u001b[1;33m=\u001b[0m \u001b[0mnp\u001b[0m\u001b[1;33m.\u001b[0m\u001b[0mzeros\u001b[0m\u001b[1;33m(\u001b[0m\u001b[0mst_train\u001b[0m\u001b[1;33m.\u001b[0m\u001b[0mshape\u001b[0m\u001b[1;33m[\u001b[0m\u001b[1;36m0\u001b[0m\u001b[1;33m]\u001b[0m\u001b[1;33m)\u001b[0m\u001b[1;33m\u001b[0m\u001b[1;33m\u001b[0m\u001b[0m\n\u001b[0;32m     16\u001b[0m \u001b[0mpreds\u001b[0m \u001b[1;33m=\u001b[0m \u001b[0mnp\u001b[0m\u001b[1;33m.\u001b[0m\u001b[0mzeros\u001b[0m\u001b[1;33m(\u001b[0m\u001b[0mst_test\u001b[0m\u001b[1;33m.\u001b[0m\u001b[0mshape\u001b[0m\u001b[1;33m[\u001b[0m\u001b[1;36m0\u001b[0m\u001b[1;33m]\u001b[0m\u001b[1;33m)\u001b[0m\u001b[1;33m\u001b[0m\u001b[1;33m\u001b[0m\u001b[0m\n\u001b[1;32m---> 17\u001b[1;33m \u001b[1;32mfor\u001b[0m \u001b[0mi\u001b[0m\u001b[1;33m,\u001b[0m \u001b[1;33m(\u001b[0m\u001b[0mtr\u001b[0m\u001b[1;33m,\u001b[0m \u001b[0mts\u001b[0m\u001b[1;33m)\u001b[0m \u001b[1;32min\u001b[0m \u001b[0menumerate\u001b[0m\u001b[1;33m(\u001b[0m\u001b[0mcv\u001b[0m\u001b[1;33m.\u001b[0m\u001b[0msplit\u001b[0m\u001b[1;33m(\u001b[0m\u001b[0mst_train\u001b[0m\u001b[1;33m,\u001b[0m \u001b[0mY\u001b[0m\u001b[1;33m)\u001b[0m\u001b[1;33m)\u001b[0m\u001b[1;33m:\u001b[0m\u001b[1;33m\u001b[0m\u001b[1;33m\u001b[0m\u001b[0m\n\u001b[0m\u001b[0;32m     18\u001b[0m     \u001b[0mprint\u001b[0m\u001b[1;33m(\u001b[0m\u001b[0mts\u001b[0m\u001b[1;33m.\u001b[0m\u001b[0mshape\u001b[0m\u001b[1;33m)\u001b[0m\u001b[1;33m\u001b[0m\u001b[1;33m\u001b[0m\u001b[0m\n\u001b[0;32m     19\u001b[0m     \u001b[0mmod\u001b[0m \u001b[1;33m=\u001b[0m \u001b[0mclf\u001b[0m\u001b[1;33m.\u001b[0m\u001b[0mfit\u001b[0m\u001b[1;33m(\u001b[0m\u001b[0mst_train\u001b[0m\u001b[1;33m[\u001b[0m\u001b[0mtr\u001b[0m\u001b[1;33m]\u001b[0m\u001b[1;33m,\u001b[0m \u001b[0mY\u001b[0m\u001b[1;33m[\u001b[0m\u001b[0mtr\u001b[0m\u001b[1;33m]\u001b[0m\u001b[1;33m)\u001b[0m\u001b[1;33m\u001b[0m\u001b[1;33m\u001b[0m\u001b[0m\n",
      "\u001b[1;32m~\\AppData\\Local\\Continuum\\anaconda3\\lib\\site-packages\\sklearn\\model_selection\\_split.py\u001b[0m in \u001b[0;36msplit\u001b[1;34m(self, X, y, groups)\u001b[0m\n\u001b[0;32m    329\u001b[0m                 .format(self.n_splits, n_samples))\n\u001b[0;32m    330\u001b[0m \u001b[1;33m\u001b[0m\u001b[0m\n\u001b[1;32m--> 331\u001b[1;33m         \u001b[1;32mfor\u001b[0m \u001b[0mtrain\u001b[0m\u001b[1;33m,\u001b[0m \u001b[0mtest\u001b[0m \u001b[1;32min\u001b[0m \u001b[0msuper\u001b[0m\u001b[1;33m(\u001b[0m\u001b[0m_BaseKFold\u001b[0m\u001b[1;33m,\u001b[0m \u001b[0mself\u001b[0m\u001b[1;33m)\u001b[0m\u001b[1;33m.\u001b[0m\u001b[0msplit\u001b[0m\u001b[1;33m(\u001b[0m\u001b[0mX\u001b[0m\u001b[1;33m,\u001b[0m \u001b[0my\u001b[0m\u001b[1;33m,\u001b[0m \u001b[0mgroups\u001b[0m\u001b[1;33m)\u001b[0m\u001b[1;33m:\u001b[0m\u001b[1;33m\u001b[0m\u001b[1;33m\u001b[0m\u001b[0m\n\u001b[0m\u001b[0;32m    332\u001b[0m             \u001b[1;32myield\u001b[0m \u001b[0mtrain\u001b[0m\u001b[1;33m,\u001b[0m \u001b[0mtest\u001b[0m\u001b[1;33m\u001b[0m\u001b[1;33m\u001b[0m\u001b[0m\n\u001b[0;32m    333\u001b[0m \u001b[1;33m\u001b[0m\u001b[0m\n",
      "\u001b[1;32m~\\AppData\\Local\\Continuum\\anaconda3\\lib\\site-packages\\sklearn\\model_selection\\_split.py\u001b[0m in \u001b[0;36msplit\u001b[1;34m(self, X, y, groups)\u001b[0m\n\u001b[0;32m     98\u001b[0m         \u001b[0mX\u001b[0m\u001b[1;33m,\u001b[0m \u001b[0my\u001b[0m\u001b[1;33m,\u001b[0m \u001b[0mgroups\u001b[0m \u001b[1;33m=\u001b[0m \u001b[0mindexable\u001b[0m\u001b[1;33m(\u001b[0m\u001b[0mX\u001b[0m\u001b[1;33m,\u001b[0m \u001b[0my\u001b[0m\u001b[1;33m,\u001b[0m \u001b[0mgroups\u001b[0m\u001b[1;33m)\u001b[0m\u001b[1;33m\u001b[0m\u001b[1;33m\u001b[0m\u001b[0m\n\u001b[0;32m     99\u001b[0m         \u001b[0mindices\u001b[0m \u001b[1;33m=\u001b[0m \u001b[0mnp\u001b[0m\u001b[1;33m.\u001b[0m\u001b[0marange\u001b[0m\u001b[1;33m(\u001b[0m\u001b[0m_num_samples\u001b[0m\u001b[1;33m(\u001b[0m\u001b[0mX\u001b[0m\u001b[1;33m)\u001b[0m\u001b[1;33m)\u001b[0m\u001b[1;33m\u001b[0m\u001b[1;33m\u001b[0m\u001b[0m\n\u001b[1;32m--> 100\u001b[1;33m         \u001b[1;32mfor\u001b[0m \u001b[0mtest_index\u001b[0m \u001b[1;32min\u001b[0m \u001b[0mself\u001b[0m\u001b[1;33m.\u001b[0m\u001b[0m_iter_test_masks\u001b[0m\u001b[1;33m(\u001b[0m\u001b[0mX\u001b[0m\u001b[1;33m,\u001b[0m \u001b[0my\u001b[0m\u001b[1;33m,\u001b[0m \u001b[0mgroups\u001b[0m\u001b[1;33m)\u001b[0m\u001b[1;33m:\u001b[0m\u001b[1;33m\u001b[0m\u001b[1;33m\u001b[0m\u001b[0m\n\u001b[0m\u001b[0;32m    101\u001b[0m             \u001b[0mtrain_index\u001b[0m \u001b[1;33m=\u001b[0m \u001b[0mindices\u001b[0m\u001b[1;33m[\u001b[0m\u001b[0mnp\u001b[0m\u001b[1;33m.\u001b[0m\u001b[0mlogical_not\u001b[0m\u001b[1;33m(\u001b[0m\u001b[0mtest_index\u001b[0m\u001b[1;33m)\u001b[0m\u001b[1;33m]\u001b[0m\u001b[1;33m\u001b[0m\u001b[1;33m\u001b[0m\u001b[0m\n\u001b[0;32m    102\u001b[0m             \u001b[0mtest_index\u001b[0m \u001b[1;33m=\u001b[0m \u001b[0mindices\u001b[0m\u001b[1;33m[\u001b[0m\u001b[0mtest_index\u001b[0m\u001b[1;33m]\u001b[0m\u001b[1;33m\u001b[0m\u001b[1;33m\u001b[0m\u001b[0m\n",
      "\u001b[1;32m~\\AppData\\Local\\Continuum\\anaconda3\\lib\\site-packages\\sklearn\\model_selection\\_split.py\u001b[0m in \u001b[0;36m_iter_test_masks\u001b[1;34m(self, X, y, groups)\u001b[0m\n\u001b[0;32m    679\u001b[0m \u001b[1;33m\u001b[0m\u001b[0m\n\u001b[0;32m    680\u001b[0m     \u001b[1;32mdef\u001b[0m \u001b[0m_iter_test_masks\u001b[0m\u001b[1;33m(\u001b[0m\u001b[0mself\u001b[0m\u001b[1;33m,\u001b[0m \u001b[0mX\u001b[0m\u001b[1;33m,\u001b[0m \u001b[0my\u001b[0m\u001b[1;33m=\u001b[0m\u001b[1;32mNone\u001b[0m\u001b[1;33m,\u001b[0m \u001b[0mgroups\u001b[0m\u001b[1;33m=\u001b[0m\u001b[1;32mNone\u001b[0m\u001b[1;33m)\u001b[0m\u001b[1;33m:\u001b[0m\u001b[1;33m\u001b[0m\u001b[1;33m\u001b[0m\u001b[0m\n\u001b[1;32m--> 681\u001b[1;33m         \u001b[0mtest_folds\u001b[0m \u001b[1;33m=\u001b[0m \u001b[0mself\u001b[0m\u001b[1;33m.\u001b[0m\u001b[0m_make_test_folds\u001b[0m\u001b[1;33m(\u001b[0m\u001b[0mX\u001b[0m\u001b[1;33m,\u001b[0m \u001b[0my\u001b[0m\u001b[1;33m)\u001b[0m\u001b[1;33m\u001b[0m\u001b[1;33m\u001b[0m\u001b[0m\n\u001b[0m\u001b[0;32m    682\u001b[0m         \u001b[1;32mfor\u001b[0m \u001b[0mi\u001b[0m \u001b[1;32min\u001b[0m \u001b[0mrange\u001b[0m\u001b[1;33m(\u001b[0m\u001b[0mself\u001b[0m\u001b[1;33m.\u001b[0m\u001b[0mn_splits\u001b[0m\u001b[1;33m)\u001b[0m\u001b[1;33m:\u001b[0m\u001b[1;33m\u001b[0m\u001b[1;33m\u001b[0m\u001b[0m\n\u001b[0;32m    683\u001b[0m             \u001b[1;32myield\u001b[0m \u001b[0mtest_folds\u001b[0m \u001b[1;33m==\u001b[0m \u001b[0mi\u001b[0m\u001b[1;33m\u001b[0m\u001b[1;33m\u001b[0m\u001b[0m\n",
      "\u001b[1;32m~\\AppData\\Local\\Continuum\\anaconda3\\lib\\site-packages\\sklearn\\model_selection\\_split.py\u001b[0m in \u001b[0;36m_make_test_folds\u001b[1;34m(self, X, y)\u001b[0m\n\u001b[0;32m    634\u001b[0m             raise ValueError(\n\u001b[0;32m    635\u001b[0m                 'Supported target types are: {}. Got {!r} instead.'.format(\n\u001b[1;32m--> 636\u001b[1;33m                     allowed_target_types, type_of_target_y))\n\u001b[0m\u001b[0;32m    637\u001b[0m \u001b[1;33m\u001b[0m\u001b[0m\n\u001b[0;32m    638\u001b[0m         \u001b[0my\u001b[0m \u001b[1;33m=\u001b[0m \u001b[0mcolumn_or_1d\u001b[0m\u001b[1;33m(\u001b[0m\u001b[0my\u001b[0m\u001b[1;33m)\u001b[0m\u001b[1;33m\u001b[0m\u001b[1;33m\u001b[0m\u001b[0m\n",
      "\u001b[1;31mValueError\u001b[0m: Supported target types are: ('binary', 'multiclass'). Got 'continuous' instead."
     ]
    }
   ],
   "source": [
    "# #create the cross validation fold for different boosting and linear model.\n",
    "# from sklearn.model_selection  import StratifiedKFold\n",
    "# from sklearn import ensemble\n",
    "# from sklearn.ensemble import RandomForestClassifier, VotingClassifier\n",
    "# SEED=42\n",
    "# st_train = train1.values\n",
    "# st_test = test1.values\n",
    "# clf1 = lgb.LGBMRegressor()\n",
    "# clf2 = lgb.LGBMRegressor(max_depth= 8, learning_rate=0.0941, n_estimators=197, num_leaves= 17, reg_alpha=3.4492 , reg_lambda= 0.0422) #lgb_pca\n",
    "# clf = ensemble.VotingClassifier(estimators = [('clf1', clf1),('clf2', clf2)],\n",
    "#                                        voting = 'soft', weights = [3,3])\n",
    "\n",
    "# fold = 3\n",
    "# cv = StratifiedKFold(n_splits=15, shuffle=False, random_state=2319)\n",
    "# X_preds = np.zeros(st_train.shape[0])\n",
    "# preds = np.zeros(st_test.shape[0])\n",
    "# for i, (tr, ts) in enumerate(cv.split(st_train, Y)):\n",
    "#     print(ts.shape)\n",
    "#     mod = clf.fit(st_train[tr], Y[tr])\n",
    "#     X_preds[ts] = mod.predict_proba(st_train[ts])[:,1]\n",
    "#     preds += mod.predict_proba(st_test)[:,1]\n",
    "#     print(\"fold {}, ROC AUC: {:.3f}\".format(i, roc_auc_score(Y[ts], X_preds[ts])))\n",
    "# score = roc_auc_score(Y, X_preds)\n",
    "# print(score)\n",
    "# preds1 = preds/fold"
   ]
  },
  {
   "cell_type": "code",
   "execution_count": 24,
   "metadata": {},
   "outputs": [],
   "source": [
    "from sklearn.model_selection  import KFold"
   ]
  },
  {
   "cell_type": "code",
   "execution_count": 55,
   "metadata": {},
   "outputs": [
    {
     "name": "stdout",
     "output_type": "stream",
     "text": [
      "(200,)\n",
      "fold 0, ROC AUC: 0.964\n",
      "(200,)\n",
      "fold 1, ROC AUC: 0.953\n",
      "(200,)\n",
      "fold 2, ROC AUC: 0.959\n",
      "(200,)\n",
      "fold 3, ROC AUC: 0.920\n",
      "(200,)\n",
      "fold 4, ROC AUC: 0.965\n",
      "(200,)\n",
      "fold 5, ROC AUC: 0.946\n",
      "(200,)\n",
      "fold 6, ROC AUC: 0.957\n",
      "(200,)\n",
      "fold 7, ROC AUC: 0.948\n",
      "(200,)\n",
      "fold 8, ROC AUC: 0.954\n",
      "(200,)\n",
      "fold 9, ROC AUC: 0.957\n",
      "0.952348210433405\n"
     ]
    }
   ],
   "source": [
    "##generate the cross validation fold.\n",
    "# from sklearn.cross_validation import StratifiedKFold\n",
    "from sklearn.metrics import r2_score\n",
    "# from sklearn.ensemble import RandomForestClassifier, VotingClassifier\n",
    "from mlxtend.regressor import StackingRegressor\n",
    "from sklearn.svm import SVR\n",
    "SEED=42\n",
    "clf1 = lgb.LGBMRegressor()\n",
    "# {'learning_rate': 0.056836061792931776, 'max_bin': 604, 'max_depth': 50, 'min_child_samples': 8, 'min_child_weight': 9, 'n_estimators': 150, 'num_leaves': 47, 'reg_alpha': 1.0, 'reg_lambda': 1e-09, 'scale_pos_weight': 1e-06, 'subsample_freq': 0}\n",
    "# {'learning_rate': 0.06610098295419149, 'max_bin': 755, 'max_depth': 47, 'min_child_samples': 16, 'min_child_weight': 7, 'n_estimators': 91, 'num_leaves': 42, 'reg_alpha': 0.004524161584138917, 'reg_lambda': 4.5035991909114364e-06, 'scale_pos_weight': 0.4316379249903662, 'subsample_freq': 5}\n",
    "\n",
    "clf2 = lgb.LGBMRegressor(min_child_samples=8,min_child_weight=9,max_bin=604, max_depth=50,learning_rate=0.056836,n_estimators=150,num_leaves=47,reg_alpha=1.0,reg_lambda=1e-09,subsample_freq=0,scale_pos_weight=1e-06,subsample=0.6143)\n",
    "clf3 = lgb.LGBMRegressor(min_child_samples=16,min_child_weight=7,max_bin=755, max_depth=47,learning_rate=0.06610,n_estimators=91,num_leaves=42,reg_alpha=0.0045,reg_lambda=4.503599,subsample_freq=5,scale_pos_weight=0.4316379,subsample=0.6143)\n",
    "clf5 = xgb.XGBRegressor(min_child_samples=0,min_child_weight=10,max_bin=100, max_depth=48,learning_rate=0.06715,n_estimators=150,num_leaves=10,reg_alpha=1.0,reg_lambda=1e-09,subsample_freq=0,scale_pos_weight=499.99,subsample=0.6143)\n",
    "clf4 = RGFRegressor(max_leaf=500,algorithm=\"RGF\",test_interval=100, loss=\"LS\")\n",
    "st_train = train1.values\n",
    "st_test = test1.values\n",
    "\n",
    "# svr_rbf = LinearRegression()\n",
    "clf = StackingRegressor(regressors=[clf1, clf2,clf5], \n",
    "                           meta_regressor=clf3)\n",
    "\n",
    "# {'learning_rate': 0.0609230429980336, 'max_bin': 100, 'max_depth': 50, 'min_child_samples': 50, 'min_child_weight': 10, 'n_estimators': 144, 'num_leaves': 52, 'reg_alpha': 0.006554352307086149, 'reg_lambda': 1e-09, 'scale_pos_weight': 0.02668192188781911, 'subsample_freq': 0}\n",
    "\n",
    "clf = xgb.XGBRegressor(min_child_samples=0,min_child_weight=10,max_bin=100, max_depth=50,learning_rate=0.06092,n_estimators=144,num_leaves=52,reg_alpha=0.00655,reg_lambda=1e-09,subsample_freq=0,scale_pos_weight=0.02668,subsample=0.6143)\n",
    "# clf=CatBoostRegressor(iterations=80)\n",
    "# clf = xgb.XGBRegressor(gamma = 0.76,learning_rate = 0.039,max_depth = 7,min_child_weight = 9.6754,n_estimators = 1100,subsample = 0.8,colsample_bytree = 0.99)\n",
    "# clf = xgb.XGBRegressor(gamma = 0.7412,learning_rate = 0.0290,max_depth = 8,min_child_weight = 9.6754,n_estimators = 999) #96.00\n",
    "# clf=ExtraTreesRegressor(n_estimators=10000, max_depth=9,  min_samples_leaf=1,  n_jobs=30, random_state=1)\n",
    "# from sklearn.linear_model import LinearRegression \n",
    "# \n",
    "fold = 10\n",
    "cv = KFold(n_splits=fold, shuffle=True, random_state=239)\n",
    "X_preds = np.zeros(st_train.shape[0])\n",
    "preds = np.zeros(st_test.shape[0])\n",
    "for i, (tr, ts) in enumerate(cv.split(st_train)):\n",
    "    print(ts.shape)\n",
    "    mod = clf.fit(st_train[tr], Y[tr])\n",
    "    X_preds[ts] = mod.predict(st_train[ts])\n",
    "    preds += mod.predict(st_test)\n",
    "    print(\"fold {}, ROC AUC: {:.3f}\".format(i, r2_score(Y[ts], X_preds[ts])))\n",
    "score = r2_score(Y, X_preds)\n",
    "print(score)\n",
    "preds1 = preds/fold"
   ]
  },
  {
   "cell_type": "code",
   "execution_count": 40,
   "metadata": {},
   "outputs": [],
   "source": [
    "pred_lgb_tune = preds1"
   ]
  },
  {
   "cell_type": "code",
   "execution_count": 37,
   "metadata": {},
   "outputs": [],
   "source": [
    "pred_lgb = preds1"
   ]
  },
  {
   "cell_type": "code",
   "execution_count": 42,
   "metadata": {},
   "outputs": [],
   "source": [
    "pred_rgf =  preds1"
   ]
  },
  {
   "cell_type": "code",
   "execution_count": 45,
   "metadata": {},
   "outputs": [],
   "source": [
    "pred_xgb =  preds1"
   ]
  },
  {
   "cell_type": "code",
   "execution_count": 57,
   "metadata": {},
   "outputs": [],
   "source": [
    "pred_xgb_tune =  preds1"
   ]
  },
  {
   "cell_type": "code",
   "execution_count": 205,
   "metadata": {},
   "outputs": [],
   "source": [
    "pred_auto = preds.as_data_frame()['predict'].values"
   ]
  },
  {
   "cell_type": "code",
   "execution_count": 64,
   "metadata": {},
   "outputs": [],
   "source": [
    "preds1 = (pred_xgb_tune + pred_lgb + pred_xgb )/3"
   ]
  },
  {
   "cell_type": "code",
   "execution_count": 210,
   "metadata": {},
   "outputs": [],
   "source": [
    "import math\n",
    "def round_half_up(n, decimals=0):\n",
    "    multiplier = 10 ** decimals\n",
    "    return math.floor(n*multiplier + 0.5) / multiplier"
   ]
  },
  {
   "cell_type": "code",
   "execution_count": 212,
   "metadata": {},
   "outputs": [],
   "source": [
    "preds1 = [round_half_up(x,2) for x in pred_auto]"
   ]
  },
  {
   "cell_type": "code",
   "execution_count": 65,
   "metadata": {},
   "outputs": [],
   "source": [
    "np.savetxt('submission.csv',preds1)\n",
    "##95.361 baseline"
   ]
  },
  {
   "cell_type": "code",
   "execution_count": 45,
   "metadata": {},
   "outputs": [
    {
     "name": "stdout",
     "output_type": "stream",
     "text": [
      "Requirement already satisfied: bayesian-optimization in c:\\users\\gurvinder1.singh\\appdata\\local\\continuum\\miniconda3\\lib\\site-packages (1.0.1)\n",
      "Requirement already satisfied: scipy>=0.14.0 in c:\\users\\gurvinder1.singh\\appdata\\local\\continuum\\miniconda3\\lib\\site-packages (from bayesian-optimization) (1.2.1)\n",
      "Requirement already satisfied: scikit-learn>=0.18.0 in c:\\users\\gurvinder1.singh\\appdata\\local\\continuum\\miniconda3\\lib\\site-packages (from bayesian-optimization) (0.20.3)\n",
      "Requirement already satisfied: numpy>=1.9.0 in c:\\users\\gurvinder1.singh\\appdata\\local\\continuum\\miniconda3\\lib\\site-packages (from bayesian-optimization) (1.15.4)\n"
     ]
    }
   ],
   "source": [
    "!pip3 install bayesian-optimization"
   ]
  },
  {
   "cell_type": "code",
   "execution_count": 44,
   "metadata": {},
   "outputs": [
    {
     "name": "stdout",
     "output_type": "stream",
     "text": [
      "Collecting pip\n",
      "  Downloading https://files.pythonhosted.org/packages/d8/f3/413bab4ff08e1fc4828dfc59996d721917df8e8583ea85385d51125dceff/pip-19.0.3-py2.py3-none-any.whl (1.4MB)\n",
      "Installing collected packages: pip\n",
      "  Found existing installation: pip 19.0.1\n",
      "    Uninstalling pip-19.0.1:\n",
      "      Successfully uninstalled pip-19.0.1\n",
      "Successfully installed pip-19.0.3\n"
     ]
    }
   ],
   "source": [
    "!python -m pip install --upgrade pip"
   ]
  },
  {
   "cell_type": "code",
   "execution_count": 50,
   "metadata": {
    "collapsed": true
   },
   "outputs": [
    {
     "data": {
      "text/html": [
       "<div>\n",
       "<style scoped>\n",
       "    .dataframe tbody tr th:only-of-type {\n",
       "        vertical-align: middle;\n",
       "    }\n",
       "\n",
       "    .dataframe tbody tr th {\n",
       "        vertical-align: top;\n",
       "    }\n",
       "\n",
       "    .dataframe thead th {\n",
       "        text-align: right;\n",
       "    }\n",
       "</style>\n",
       "<table border=\"1\" class=\"dataframe\">\n",
       "  <thead>\n",
       "    <tr style=\"text-align: right;\">\n",
       "      <th></th>\n",
       "      <th>Avg_firing_dist</th>\n",
       "      <th>Avg_Srv_time</th>\n",
       "      <th>Avg_ping</th>\n",
       "      <th>Total_travel_dist</th>\n",
       "    </tr>\n",
       "  </thead>\n",
       "  <tbody>\n",
       "    <tr>\n",
       "      <th>0</th>\n",
       "      <td>264.22</td>\n",
       "      <td>19.06</td>\n",
       "      <td>96.79</td>\n",
       "      <td>6332.00</td>\n",
       "    </tr>\n",
       "    <tr>\n",
       "      <th>1</th>\n",
       "      <td>366.66</td>\n",
       "      <td>24.42</td>\n",
       "      <td>96.67</td>\n",
       "      <td>6603.70</td>\n",
       "    </tr>\n",
       "    <tr>\n",
       "      <th>2</th>\n",
       "      <td>259.54</td>\n",
       "      <td>16.37</td>\n",
       "      <td>97.50</td>\n",
       "      <td>6145.80</td>\n",
       "    </tr>\n",
       "    <tr>\n",
       "      <th>3</th>\n",
       "      <td>183.23</td>\n",
       "      <td>13.52</td>\n",
       "      <td>97.31</td>\n",
       "      <td>6584.70</td>\n",
       "    </tr>\n",
       "    <tr>\n",
       "      <th>4</th>\n",
       "      <td>299.71</td>\n",
       "      <td>19.74</td>\n",
       "      <td>97.82</td>\n",
       "      <td>6701.55</td>\n",
       "    </tr>\n",
       "  </tbody>\n",
       "</table>\n",
       "</div>"
      ],
      "text/plain": [
       "   Avg_firing_dist  Avg_Srv_time  Avg_ping  Total_travel_dist\n",
       "0           264.22         19.06     96.79            6332.00\n",
       "1           366.66         24.42     96.67            6603.70\n",
       "2           259.54         16.37     97.50            6145.80\n",
       "3           183.23         13.52     97.31            6584.70\n",
       "4           299.71         19.74     97.82            6701.55"
      ]
     },
     "execution_count": 50,
     "metadata": {},
     "output_type": "execute_result"
    },
    {
     "data": {
      "text/plain": [
       "(2000,)"
      ]
     },
     "execution_count": 50,
     "metadata": {},
     "output_type": "execute_result"
    }
   ],
   "source": [
    "train1.head()\n",
    "Y.shape"
   ]
  },
  {
   "cell_type": "code",
   "execution_count": 55,
   "metadata": {
    "collapsed": true
   },
   "outputs": [
    {
     "name": "stdout",
     "output_type": "stream",
     "text": [
      "|   iter    |  target   | colsam... | learni... | max_depth | n_esti... | num_le... | reg_alpha | reg_la... | subsample |\n",
      "-------------------------------------------------------------------------------------------------------------------------\n"
     ]
    },
    {
     "ename": "ValueError",
     "evalue": "Found input variables with inconsistent numbers of samples: [2000, 2000, 2]",
     "output_type": "error",
     "traceback": [
      "\u001b[1;31m---------------------------------------------------------------------------\u001b[0m",
      "\u001b[1;31mKeyError\u001b[0m                                  Traceback (most recent call last)",
      "\u001b[1;32m~\\AppData\\Local\\Continuum\\anaconda3\\lib\\site-packages\\bayes_opt\\target_space.py\u001b[0m in \u001b[0;36mprobe\u001b[1;34m(self, params)\u001b[0m\n\u001b[0;32m    190\u001b[0m         \u001b[1;32mtry\u001b[0m\u001b[1;33m:\u001b[0m\u001b[1;33m\u001b[0m\u001b[1;33m\u001b[0m\u001b[0m\n\u001b[1;32m--> 191\u001b[1;33m             \u001b[0mtarget\u001b[0m \u001b[1;33m=\u001b[0m \u001b[0mself\u001b[0m\u001b[1;33m.\u001b[0m\u001b[0m_cache\u001b[0m\u001b[1;33m[\u001b[0m\u001b[0m_hashable\u001b[0m\u001b[1;33m(\u001b[0m\u001b[0mx\u001b[0m\u001b[1;33m)\u001b[0m\u001b[1;33m]\u001b[0m\u001b[1;33m\u001b[0m\u001b[1;33m\u001b[0m\u001b[0m\n\u001b[0m\u001b[0;32m    192\u001b[0m         \u001b[1;32mexcept\u001b[0m \u001b[0mKeyError\u001b[0m\u001b[1;33m:\u001b[0m\u001b[1;33m\u001b[0m\u001b[1;33m\u001b[0m\u001b[0m\n",
      "\u001b[1;31mKeyError\u001b[0m: (0.6755654678569414, 0.047851565137967046, 9.771816676123194, 38.619561202338446, 11.60794093571442, 2.853380405046419, 0.0016571638854909754, 0.6865617004046345)",
      "\nDuring handling of the above exception, another exception occurred:\n",
      "\u001b[1;31mValueError\u001b[0m                                Traceback (most recent call last)",
      "\u001b[1;32m<ipython-input-55-56fb95c3ce0e>\u001b[0m in \u001b[0;36m<module>\u001b[1;34m\u001b[0m\n\u001b[0;32m     13\u001b[0m                                             'subsample': (0.6, 0.8),'colsample_bytree' :(0.5, 0.99)})\n\u001b[0;32m     14\u001b[0m \u001b[1;33m\u001b[0m\u001b[0m\n\u001b[1;32m---> 15\u001b[1;33m \u001b[0mxgboostBO\u001b[0m\u001b[1;33m.\u001b[0m\u001b[0mmaximize\u001b[0m\u001b[1;33m(\u001b[0m\u001b[1;33m)\u001b[0m\u001b[1;33m\u001b[0m\u001b[1;33m\u001b[0m\u001b[0m\n\u001b[0m\u001b[0;32m     16\u001b[0m \u001b[0mprint\u001b[0m\u001b[1;33m(\u001b[0m\u001b[1;34m'-'\u001b[0m\u001b[1;33m*\u001b[0m\u001b[1;36m53\u001b[0m\u001b[1;33m)\u001b[0m\u001b[1;33m\u001b[0m\u001b[1;33m\u001b[0m\u001b[0m\n\u001b[0;32m     17\u001b[0m \u001b[0mprint\u001b[0m\u001b[1;33m(\u001b[0m\u001b[1;34m'Final Results'\u001b[0m\u001b[1;33m)\u001b[0m\u001b[1;33m\u001b[0m\u001b[1;33m\u001b[0m\u001b[0m\n",
      "\u001b[1;32m~\\AppData\\Local\\Continuum\\anaconda3\\lib\\site-packages\\bayes_opt\\bayesian_optimization.py\u001b[0m in \u001b[0;36mmaximize\u001b[1;34m(self, init_points, n_iter, acq, kappa, xi, **gp_params)\u001b[0m\n\u001b[0;32m    172\u001b[0m                 \u001b[0miteration\u001b[0m \u001b[1;33m+=\u001b[0m \u001b[1;36m1\u001b[0m\u001b[1;33m\u001b[0m\u001b[1;33m\u001b[0m\u001b[0m\n\u001b[0;32m    173\u001b[0m \u001b[1;33m\u001b[0m\u001b[0m\n\u001b[1;32m--> 174\u001b[1;33m             \u001b[0mself\u001b[0m\u001b[1;33m.\u001b[0m\u001b[0mprobe\u001b[0m\u001b[1;33m(\u001b[0m\u001b[0mx_probe\u001b[0m\u001b[1;33m,\u001b[0m \u001b[0mlazy\u001b[0m\u001b[1;33m=\u001b[0m\u001b[1;32mFalse\u001b[0m\u001b[1;33m)\u001b[0m\u001b[1;33m\u001b[0m\u001b[1;33m\u001b[0m\u001b[0m\n\u001b[0m\u001b[0;32m    175\u001b[0m \u001b[1;33m\u001b[0m\u001b[0m\n\u001b[0;32m    176\u001b[0m         \u001b[0mself\u001b[0m\u001b[1;33m.\u001b[0m\u001b[0mdispatch\u001b[0m\u001b[1;33m(\u001b[0m\u001b[0mEvents\u001b[0m\u001b[1;33m.\u001b[0m\u001b[0mOPTMIZATION_END\u001b[0m\u001b[1;33m)\u001b[0m\u001b[1;33m\u001b[0m\u001b[1;33m\u001b[0m\u001b[0m\n",
      "\u001b[1;32m~\\AppData\\Local\\Continuum\\anaconda3\\lib\\site-packages\\bayes_opt\\bayesian_optimization.py\u001b[0m in \u001b[0;36mprobe\u001b[1;34m(self, params, lazy)\u001b[0m\n\u001b[0;32m    110\u001b[0m             \u001b[0mself\u001b[0m\u001b[1;33m.\u001b[0m\u001b[0m_queue\u001b[0m\u001b[1;33m.\u001b[0m\u001b[0madd\u001b[0m\u001b[1;33m(\u001b[0m\u001b[0mparams\u001b[0m\u001b[1;33m)\u001b[0m\u001b[1;33m\u001b[0m\u001b[1;33m\u001b[0m\u001b[0m\n\u001b[0;32m    111\u001b[0m         \u001b[1;32melse\u001b[0m\u001b[1;33m:\u001b[0m\u001b[1;33m\u001b[0m\u001b[1;33m\u001b[0m\u001b[0m\n\u001b[1;32m--> 112\u001b[1;33m             \u001b[0mself\u001b[0m\u001b[1;33m.\u001b[0m\u001b[0m_space\u001b[0m\u001b[1;33m.\u001b[0m\u001b[0mprobe\u001b[0m\u001b[1;33m(\u001b[0m\u001b[0mparams\u001b[0m\u001b[1;33m)\u001b[0m\u001b[1;33m\u001b[0m\u001b[1;33m\u001b[0m\u001b[0m\n\u001b[0m\u001b[0;32m    113\u001b[0m             \u001b[0mself\u001b[0m\u001b[1;33m.\u001b[0m\u001b[0mdispatch\u001b[0m\u001b[1;33m(\u001b[0m\u001b[0mEvents\u001b[0m\u001b[1;33m.\u001b[0m\u001b[0mOPTMIZATION_STEP\u001b[0m\u001b[1;33m)\u001b[0m\u001b[1;33m\u001b[0m\u001b[1;33m\u001b[0m\u001b[0m\n\u001b[0;32m    114\u001b[0m \u001b[1;33m\u001b[0m\u001b[0m\n",
      "\u001b[1;32m~\\AppData\\Local\\Continuum\\anaconda3\\lib\\site-packages\\bayes_opt\\target_space.py\u001b[0m in \u001b[0;36mprobe\u001b[1;34m(self, params)\u001b[0m\n\u001b[0;32m    192\u001b[0m         \u001b[1;32mexcept\u001b[0m \u001b[0mKeyError\u001b[0m\u001b[1;33m:\u001b[0m\u001b[1;33m\u001b[0m\u001b[1;33m\u001b[0m\u001b[0m\n\u001b[0;32m    193\u001b[0m             \u001b[0mparams\u001b[0m \u001b[1;33m=\u001b[0m \u001b[0mdict\u001b[0m\u001b[1;33m(\u001b[0m\u001b[0mzip\u001b[0m\u001b[1;33m(\u001b[0m\u001b[0mself\u001b[0m\u001b[1;33m.\u001b[0m\u001b[0m_keys\u001b[0m\u001b[1;33m,\u001b[0m \u001b[0mx\u001b[0m\u001b[1;33m)\u001b[0m\u001b[1;33m)\u001b[0m\u001b[1;33m\u001b[0m\u001b[1;33m\u001b[0m\u001b[0m\n\u001b[1;32m--> 194\u001b[1;33m             \u001b[0mtarget\u001b[0m \u001b[1;33m=\u001b[0m \u001b[0mself\u001b[0m\u001b[1;33m.\u001b[0m\u001b[0mtarget_func\u001b[0m\u001b[1;33m(\u001b[0m\u001b[1;33m**\u001b[0m\u001b[0mparams\u001b[0m\u001b[1;33m)\u001b[0m\u001b[1;33m\u001b[0m\u001b[1;33m\u001b[0m\u001b[0m\n\u001b[0m\u001b[0;32m    195\u001b[0m             \u001b[0mself\u001b[0m\u001b[1;33m.\u001b[0m\u001b[0mregister\u001b[0m\u001b[1;33m(\u001b[0m\u001b[0mx\u001b[0m\u001b[1;33m,\u001b[0m \u001b[0mtarget\u001b[0m\u001b[1;33m)\u001b[0m\u001b[1;33m\u001b[0m\u001b[1;33m\u001b[0m\u001b[0m\n\u001b[0;32m    196\u001b[0m         \u001b[1;32mreturn\u001b[0m \u001b[0mtarget\u001b[0m\u001b[1;33m\u001b[0m\u001b[1;33m\u001b[0m\u001b[0m\n",
      "\u001b[1;32m<ipython-input-55-56fb95c3ce0e>\u001b[0m in \u001b[0;36mxgboostcv\u001b[1;34m(max_depth, learning_rate, n_estimators, num_leaves, reg_alpha, reg_lambda, subsample, colsample_bytree)\u001b[0m\n\u001b[0;32m      7\u001b[0m                                              \u001b[0msilent\u001b[0m\u001b[1;33m=\u001b[0m\u001b[1;32mTrue\u001b[0m\u001b[1;33m,\u001b[0m\u001b[0mnthread\u001b[0m\u001b[1;33m=\u001b[0m\u001b[1;33m-\u001b[0m\u001b[1;36m1\u001b[0m\u001b[1;33m,\u001b[0m\u001b[0mnum_leaves\u001b[0m\u001b[1;33m=\u001b[0m\u001b[0mint\u001b[0m\u001b[1;33m(\u001b[0m\u001b[0mnum_leaves\u001b[0m\u001b[1;33m)\u001b[0m\u001b[1;33m,\u001b[0m\u001b[0mreg_alpha\u001b[0m\u001b[1;33m=\u001b[0m\u001b[0mreg_alpha\u001b[0m\u001b[1;33m,\u001b[0m\u001b[1;33m\u001b[0m\u001b[1;33m\u001b[0m\u001b[0m\n\u001b[0;32m      8\u001b[0m                                            reg_lambda=reg_lambda,subsample=subsample,colsample_bytree=colsample_bytree),\n\u001b[1;32m----> 9\u001b[1;33m                            train1.values,Y,\"r2\",cv=5).mean()\n\u001b[0m\u001b[0;32m     10\u001b[0m \u001b[1;33m\u001b[0m\u001b[0m\n\u001b[0;32m     11\u001b[0m xgboostBO = BayesianOptimization(xgboostcv,{'max_depth': (5, 10),'learning_rate': (0.001, 0.1),'n_estimators': (10, 300),\n",
      "\u001b[1;32m~\\AppData\\Local\\Continuum\\anaconda3\\lib\\site-packages\\sklearn\\model_selection\\_validation.py\u001b[0m in \u001b[0;36mcross_val_score\u001b[1;34m(estimator, X, y, groups, scoring, cv, n_jobs, verbose, fit_params, pre_dispatch, error_score)\u001b[0m\n\u001b[0;32m    400\u001b[0m                                 \u001b[0mfit_params\u001b[0m\u001b[1;33m=\u001b[0m\u001b[0mfit_params\u001b[0m\u001b[1;33m,\u001b[0m\u001b[1;33m\u001b[0m\u001b[1;33m\u001b[0m\u001b[0m\n\u001b[0;32m    401\u001b[0m                                 \u001b[0mpre_dispatch\u001b[0m\u001b[1;33m=\u001b[0m\u001b[0mpre_dispatch\u001b[0m\u001b[1;33m,\u001b[0m\u001b[1;33m\u001b[0m\u001b[1;33m\u001b[0m\u001b[0m\n\u001b[1;32m--> 402\u001b[1;33m                                 error_score=error_score)\n\u001b[0m\u001b[0;32m    403\u001b[0m     \u001b[1;32mreturn\u001b[0m \u001b[0mcv_results\u001b[0m\u001b[1;33m[\u001b[0m\u001b[1;34m'test_score'\u001b[0m\u001b[1;33m]\u001b[0m\u001b[1;33m\u001b[0m\u001b[1;33m\u001b[0m\u001b[0m\n\u001b[0;32m    404\u001b[0m \u001b[1;33m\u001b[0m\u001b[0m\n",
      "\u001b[1;32m~\\AppData\\Local\\Continuum\\anaconda3\\lib\\site-packages\\sklearn\\model_selection\\_validation.py\u001b[0m in \u001b[0;36mcross_validate\u001b[1;34m(estimator, X, y, groups, scoring, cv, n_jobs, verbose, fit_params, pre_dispatch, return_train_score, return_estimator, error_score)\u001b[0m\n\u001b[0;32m    223\u001b[0m \u001b[1;33m\u001b[0m\u001b[0m\n\u001b[0;32m    224\u001b[0m     \"\"\"\n\u001b[1;32m--> 225\u001b[1;33m     \u001b[0mX\u001b[0m\u001b[1;33m,\u001b[0m \u001b[0my\u001b[0m\u001b[1;33m,\u001b[0m \u001b[0mgroups\u001b[0m \u001b[1;33m=\u001b[0m \u001b[0mindexable\u001b[0m\u001b[1;33m(\u001b[0m\u001b[0mX\u001b[0m\u001b[1;33m,\u001b[0m \u001b[0my\u001b[0m\u001b[1;33m,\u001b[0m \u001b[0mgroups\u001b[0m\u001b[1;33m)\u001b[0m\u001b[1;33m\u001b[0m\u001b[1;33m\u001b[0m\u001b[0m\n\u001b[0m\u001b[0;32m    226\u001b[0m \u001b[1;33m\u001b[0m\u001b[0m\n\u001b[0;32m    227\u001b[0m     \u001b[0mcv\u001b[0m \u001b[1;33m=\u001b[0m \u001b[0mcheck_cv\u001b[0m\u001b[1;33m(\u001b[0m\u001b[0mcv\u001b[0m\u001b[1;33m,\u001b[0m \u001b[0my\u001b[0m\u001b[1;33m,\u001b[0m \u001b[0mclassifier\u001b[0m\u001b[1;33m=\u001b[0m\u001b[0mis_classifier\u001b[0m\u001b[1;33m(\u001b[0m\u001b[0mestimator\u001b[0m\u001b[1;33m)\u001b[0m\u001b[1;33m)\u001b[0m\u001b[1;33m\u001b[0m\u001b[1;33m\u001b[0m\u001b[0m\n",
      "\u001b[1;32m~\\AppData\\Local\\Continuum\\anaconda3\\lib\\site-packages\\sklearn\\utils\\validation.py\u001b[0m in \u001b[0;36mindexable\u001b[1;34m(*iterables)\u001b[0m\n\u001b[0;32m    258\u001b[0m         \u001b[1;32melse\u001b[0m\u001b[1;33m:\u001b[0m\u001b[1;33m\u001b[0m\u001b[1;33m\u001b[0m\u001b[0m\n\u001b[0;32m    259\u001b[0m             \u001b[0mresult\u001b[0m\u001b[1;33m.\u001b[0m\u001b[0mappend\u001b[0m\u001b[1;33m(\u001b[0m\u001b[0mnp\u001b[0m\u001b[1;33m.\u001b[0m\u001b[0marray\u001b[0m\u001b[1;33m(\u001b[0m\u001b[0mX\u001b[0m\u001b[1;33m)\u001b[0m\u001b[1;33m)\u001b[0m\u001b[1;33m\u001b[0m\u001b[1;33m\u001b[0m\u001b[0m\n\u001b[1;32m--> 260\u001b[1;33m     \u001b[0mcheck_consistent_length\u001b[0m\u001b[1;33m(\u001b[0m\u001b[1;33m*\u001b[0m\u001b[0mresult\u001b[0m\u001b[1;33m)\u001b[0m\u001b[1;33m\u001b[0m\u001b[1;33m\u001b[0m\u001b[0m\n\u001b[0m\u001b[0;32m    261\u001b[0m     \u001b[1;32mreturn\u001b[0m \u001b[0mresult\u001b[0m\u001b[1;33m\u001b[0m\u001b[1;33m\u001b[0m\u001b[0m\n\u001b[0;32m    262\u001b[0m \u001b[1;33m\u001b[0m\u001b[0m\n",
      "\u001b[1;32m~\\AppData\\Local\\Continuum\\anaconda3\\lib\\site-packages\\sklearn\\utils\\validation.py\u001b[0m in \u001b[0;36mcheck_consistent_length\u001b[1;34m(*arrays)\u001b[0m\n\u001b[0;32m    233\u001b[0m     \u001b[1;32mif\u001b[0m \u001b[0mlen\u001b[0m\u001b[1;33m(\u001b[0m\u001b[0muniques\u001b[0m\u001b[1;33m)\u001b[0m \u001b[1;33m>\u001b[0m \u001b[1;36m1\u001b[0m\u001b[1;33m:\u001b[0m\u001b[1;33m\u001b[0m\u001b[1;33m\u001b[0m\u001b[0m\n\u001b[0;32m    234\u001b[0m         raise ValueError(\"Found input variables with inconsistent numbers of\"\n\u001b[1;32m--> 235\u001b[1;33m                          \" samples: %r\" % [int(l) for l in lengths])\n\u001b[0m\u001b[0;32m    236\u001b[0m \u001b[1;33m\u001b[0m\u001b[0m\n\u001b[0;32m    237\u001b[0m \u001b[1;33m\u001b[0m\u001b[0m\n",
      "\u001b[1;31mValueError\u001b[0m: Found input variables with inconsistent numbers of samples: [2000, 2000, 2]"
     ]
    }
   ],
   "source": [
    "#lightgbm bayesian optimization\n",
    "from sklearn.model_selection import cross_val_score\n",
    "from bayes_opt import BayesianOptimization\n",
    "\n",
    "def xgboostcv(max_depth,learning_rate,n_estimators,num_leaves,reg_alpha,reg_lambda,subsample,colsample_bytree):\n",
    "    return cross_val_score(lgb.LGBMRegressor(max_depth=int(max_depth),learning_rate=learning_rate,n_estimators=int(n_estimators),\n",
    "                                             silent=True,nthread=-1,num_leaves=int(num_leaves),reg_alpha=reg_alpha,\n",
    "                                           reg_lambda=reg_lambda,subsample=subsample,colsample_bytree=colsample_bytree),\n",
    "                           train1.values,Y,\"r2\",cv=5).mean()\n",
    "\n",
    "xgboostBO = BayesianOptimization(xgboostcv,{'max_depth': (5, 10),'learning_rate': (0.001, 0.1),'n_estimators': (10, 300),\n",
    "                                  'num_leaves': (6,30),'reg_alpha': (1, 3),'reg_lambda': (0, 0.1),\n",
    "                                            'subsample': (0.6, 0.8),'colsample_bytree' :(0.5, 0.99)})\n",
    "\n",
    "xgboostBO.maximize()\n",
    "print('-'*53)\n",
    "print('Final Results')\n",
    "print('XGBOOST: %f' % xgboostBO.res['max']['max_val'])"
   ]
  },
  {
   "cell_type": "code",
   "execution_count": 48,
   "metadata": {},
   "outputs": [],
   "source": [
    "def status_print(optim_result):\n",
    "    \"\"\"Status callback durring bayesian hyperparameter search\"\"\"\n",
    "    # Get all the models tested so far in DataFrame format\n",
    "    all_models = pd.DataFrame(bayes_cv_tuner.cv_results_)    \n",
    "    # Get current parameters and the best parameters    \n",
    "    best_params = pd.Series(bayes_cv_tuner.best_params_)\n",
    "    print('Model #{}\\nBest MSE: {}\\nBest params: {}\\n'.format(\n",
    "        len(all_models),\n",
    "        np.round(bayes_cv_tuner.best_score_, 4),\n",
    "        bayes_cv_tuner.best_params_\n",
    "    ))\n",
    "    \n",
    "    # Save all model results\n",
    "    clf_name = bayes_cv_tuner.estimator.__class__.__name__\n",
    "    all_models.to_csv(clf_name+\"_cv_results.csv\")"
   ]
  },
  {
   "cell_type": "code",
   "execution_count": 50,
   "metadata": {},
   "outputs": [
    {
     "name": "stdout",
     "output_type": "stream",
     "text": [
      "Model #1\n",
      "Best MSE: 0.946\n",
      "Best params: {'learning_rate': 0.06610098295419149, 'max_bin': 755, 'max_depth': 47, 'min_child_samples': 16, 'min_child_weight': 7, 'n_estimators': 91, 'num_leaves': 42, 'reg_alpha': 0.004524161584138917, 'reg_lambda': 4.5035991909114364e-06, 'scale_pos_weight': 0.4316379249903662, 'subsample_freq': 5}\n",
      "\n",
      "Model #2\n",
      "Best MSE: 0.946\n",
      "Best params: {'learning_rate': 0.06610098295419149, 'max_bin': 755, 'max_depth': 47, 'min_child_samples': 16, 'min_child_weight': 7, 'n_estimators': 91, 'num_leaves': 42, 'reg_alpha': 0.004524161584138917, 'reg_lambda': 4.5035991909114364e-06, 'scale_pos_weight': 0.4316379249903662, 'subsample_freq': 5}\n",
      "\n",
      "Model #3\n",
      "Best MSE: 0.9476\n",
      "Best params: {'learning_rate': 0.07756486208064789, 'max_bin': 927, 'max_depth': 5, 'min_child_samples': 22, 'min_child_weight': 2, 'n_estimators': 95, 'num_leaves': 24, 'reg_alpha': 0.005807280212192344, 'reg_lambda': 0.004876240041754427, 'scale_pos_weight': 292.346774761682, 'subsample_freq': 7}\n",
      "\n",
      "Model #4\n",
      "Best MSE: 0.9476\n",
      "Best params: {'learning_rate': 0.07756486208064789, 'max_bin': 927, 'max_depth': 5, 'min_child_samples': 22, 'min_child_weight': 2, 'n_estimators': 95, 'num_leaves': 24, 'reg_alpha': 0.005807280212192344, 'reg_lambda': 0.004876240041754427, 'scale_pos_weight': 292.346774761682, 'subsample_freq': 7}\n",
      "\n",
      "Model #5\n",
      "Best MSE: 0.9476\n",
      "Best params: {'learning_rate': 0.07756486208064789, 'max_bin': 927, 'max_depth': 5, 'min_child_samples': 22, 'min_child_weight': 2, 'n_estimators': 95, 'num_leaves': 24, 'reg_alpha': 0.005807280212192344, 'reg_lambda': 0.004876240041754427, 'scale_pos_weight': 292.346774761682, 'subsample_freq': 7}\n",
      "\n",
      "Model #6\n",
      "Best MSE: 0.9476\n",
      "Best params: {'learning_rate': 0.07756486208064789, 'max_bin': 927, 'max_depth': 5, 'min_child_samples': 22, 'min_child_weight': 2, 'n_estimators': 95, 'num_leaves': 24, 'reg_alpha': 0.005807280212192344, 'reg_lambda': 0.004876240041754427, 'scale_pos_weight': 292.346774761682, 'subsample_freq': 7}\n",
      "\n",
      "Model #7\n",
      "Best MSE: 0.9476\n",
      "Best params: {'learning_rate': 0.07756486208064789, 'max_bin': 927, 'max_depth': 5, 'min_child_samples': 22, 'min_child_weight': 2, 'n_estimators': 95, 'num_leaves': 24, 'reg_alpha': 0.005807280212192344, 'reg_lambda': 0.004876240041754427, 'scale_pos_weight': 292.346774761682, 'subsample_freq': 7}\n",
      "\n",
      "Model #8\n",
      "Best MSE: 0.9476\n",
      "Best params: {'learning_rate': 0.07756486208064789, 'max_bin': 927, 'max_depth': 5, 'min_child_samples': 22, 'min_child_weight': 2, 'n_estimators': 95, 'num_leaves': 24, 'reg_alpha': 0.005807280212192344, 'reg_lambda': 0.004876240041754427, 'scale_pos_weight': 292.346774761682, 'subsample_freq': 7}\n",
      "\n",
      "Model #9\n",
      "Best MSE: 0.9476\n",
      "Best params: {'learning_rate': 0.07756486208064789, 'max_bin': 927, 'max_depth': 5, 'min_child_samples': 22, 'min_child_weight': 2, 'n_estimators': 95, 'num_leaves': 24, 'reg_alpha': 0.005807280212192344, 'reg_lambda': 0.004876240041754427, 'scale_pos_weight': 292.346774761682, 'subsample_freq': 7}\n",
      "\n",
      "Model #10\n",
      "Best MSE: 0.9476\n",
      "Best params: {'learning_rate': 0.07756486208064789, 'max_bin': 927, 'max_depth': 5, 'min_child_samples': 22, 'min_child_weight': 2, 'n_estimators': 95, 'num_leaves': 24, 'reg_alpha': 0.005807280212192344, 'reg_lambda': 0.004876240041754427, 'scale_pos_weight': 292.346774761682, 'subsample_freq': 7}\n",
      "\n",
      "Model #11\n",
      "Best MSE: 0.9476\n",
      "Best params: {'learning_rate': 0.07756486208064789, 'max_bin': 927, 'max_depth': 5, 'min_child_samples': 22, 'min_child_weight': 2, 'n_estimators': 95, 'num_leaves': 24, 'reg_alpha': 0.005807280212192344, 'reg_lambda': 0.004876240041754427, 'scale_pos_weight': 292.346774761682, 'subsample_freq': 7}\n",
      "\n",
      "Model #12\n",
      "Best MSE: 0.9476\n",
      "Best params: {'learning_rate': 0.13199074488724066, 'max_bin': 295, 'max_depth': 6, 'min_child_samples': 20, 'min_child_weight': 6, 'n_estimators': 131, 'num_leaves': 45, 'reg_alpha': 0.00010515293260327439, 'reg_lambda': 0.0012945006606516732, 'scale_pos_weight': 0.44216070744297037, 'subsample_freq': 7}\n",
      "\n",
      "Model #13\n",
      "Best MSE: 0.9476\n",
      "Best params: {'learning_rate': 0.13199074488724066, 'max_bin': 295, 'max_depth': 6, 'min_child_samples': 20, 'min_child_weight': 6, 'n_estimators': 131, 'num_leaves': 45, 'reg_alpha': 0.00010515293260327439, 'reg_lambda': 0.0012945006606516732, 'scale_pos_weight': 0.44216070744297037, 'subsample_freq': 7}\n",
      "\n",
      "Model #14\n",
      "Best MSE: 0.9479\n",
      "Best params: {'learning_rate': 0.15026123195396462, 'max_bin': 537, 'max_depth': 9, 'min_child_samples': 30, 'min_child_weight': 8, 'n_estimators': 91, 'num_leaves': 58, 'reg_alpha': 2.6373391288442346e-08, 'reg_lambda': 0.035690865723485385, 'scale_pos_weight': 0.42223089317747825, 'subsample_freq': 5}\n",
      "\n",
      "Model #15\n",
      "Best MSE: 0.9479\n",
      "Best params: {'learning_rate': 0.15026123195396462, 'max_bin': 537, 'max_depth': 9, 'min_child_samples': 30, 'min_child_weight': 8, 'n_estimators': 91, 'num_leaves': 58, 'reg_alpha': 2.6373391288442346e-08, 'reg_lambda': 0.035690865723485385, 'scale_pos_weight': 0.42223089317747825, 'subsample_freq': 5}\n",
      "\n",
      "Model #16\n",
      "Best MSE: 0.9479\n",
      "Best params: {'learning_rate': 0.15026123195396462, 'max_bin': 537, 'max_depth': 9, 'min_child_samples': 30, 'min_child_weight': 8, 'n_estimators': 91, 'num_leaves': 58, 'reg_alpha': 2.6373391288442346e-08, 'reg_lambda': 0.035690865723485385, 'scale_pos_weight': 0.42223089317747825, 'subsample_freq': 5}\n",
      "\n",
      "Model #17\n",
      "Best MSE: 0.9479\n",
      "Best params: {'learning_rate': 0.15026123195396462, 'max_bin': 537, 'max_depth': 9, 'min_child_samples': 30, 'min_child_weight': 8, 'n_estimators': 91, 'num_leaves': 58, 'reg_alpha': 2.6373391288442346e-08, 'reg_lambda': 0.035690865723485385, 'scale_pos_weight': 0.42223089317747825, 'subsample_freq': 5}\n",
      "\n",
      "Model #18\n",
      "Best MSE: 0.9479\n",
      "Best params: {'learning_rate': 0.15026123195396462, 'max_bin': 537, 'max_depth': 9, 'min_child_samples': 30, 'min_child_weight': 8, 'n_estimators': 91, 'num_leaves': 58, 'reg_alpha': 2.6373391288442346e-08, 'reg_lambda': 0.035690865723485385, 'scale_pos_weight': 0.42223089317747825, 'subsample_freq': 5}\n",
      "\n",
      "Model #19\n",
      "Best MSE: 0.9479\n",
      "Best params: {'learning_rate': 0.15026123195396462, 'max_bin': 537, 'max_depth': 9, 'min_child_samples': 30, 'min_child_weight': 8, 'n_estimators': 91, 'num_leaves': 58, 'reg_alpha': 2.6373391288442346e-08, 'reg_lambda': 0.035690865723485385, 'scale_pos_weight': 0.42223089317747825, 'subsample_freq': 5}\n",
      "\n",
      "Model #20\n",
      "Best MSE: 0.9479\n",
      "Best params: {'learning_rate': 0.15026123195396462, 'max_bin': 537, 'max_depth': 9, 'min_child_samples': 30, 'min_child_weight': 8, 'n_estimators': 91, 'num_leaves': 58, 'reg_alpha': 2.6373391288442346e-08, 'reg_lambda': 0.035690865723485385, 'scale_pos_weight': 0.42223089317747825, 'subsample_freq': 5}\n",
      "\n",
      "Model #21\n",
      "Best MSE: 0.9479\n",
      "Best params: {'learning_rate': 0.15026123195396462, 'max_bin': 537, 'max_depth': 9, 'min_child_samples': 30, 'min_child_weight': 8, 'n_estimators': 91, 'num_leaves': 58, 'reg_alpha': 2.6373391288442346e-08, 'reg_lambda': 0.035690865723485385, 'scale_pos_weight': 0.42223089317747825, 'subsample_freq': 5}\n",
      "\n",
      "Model #22\n",
      "Best MSE: 0.9491\n",
      "Best params: {'learning_rate': 0.07484972037987336, 'max_bin': 100, 'max_depth': 50, 'min_child_samples': 50, 'min_child_weight': 10, 'n_estimators': 150, 'num_leaves': 100, 'reg_alpha': 2.9064343338564783e-07, 'reg_lambda': 1.0044033145106243e-06, 'scale_pos_weight': 1e-06, 'subsample_freq': 0}\n",
      "\n",
      "Model #23\n",
      "Best MSE: 0.9491\n",
      "Best params: {'learning_rate': 0.07484972037987336, 'max_bin': 100, 'max_depth': 50, 'min_child_samples': 50, 'min_child_weight': 10, 'n_estimators': 150, 'num_leaves': 100, 'reg_alpha': 2.9064343338564783e-07, 'reg_lambda': 1.0044033145106243e-06, 'scale_pos_weight': 1e-06, 'subsample_freq': 0}\n",
      "\n",
      "Model #24\n",
      "Best MSE: 0.9491\n",
      "Best params: {'learning_rate': 0.07484972037987336, 'max_bin': 100, 'max_depth': 50, 'min_child_samples': 50, 'min_child_weight': 10, 'n_estimators': 150, 'num_leaves': 100, 'reg_alpha': 2.9064343338564783e-07, 'reg_lambda': 1.0044033145106243e-06, 'scale_pos_weight': 1e-06, 'subsample_freq': 0}\n",
      "\n",
      "Model #25\n",
      "Best MSE: 0.9491\n",
      "Best params: {'learning_rate': 0.07484972037987336, 'max_bin': 100, 'max_depth': 50, 'min_child_samples': 50, 'min_child_weight': 10, 'n_estimators': 150, 'num_leaves': 100, 'reg_alpha': 2.9064343338564783e-07, 'reg_lambda': 1.0044033145106243e-06, 'scale_pos_weight': 1e-06, 'subsample_freq': 0}\n"
     ]
    },
    {
     "name": "stdout",
     "output_type": "stream",
     "text": [
      "\n",
      "Model #26\n",
      "Best MSE: 0.9491\n",
      "Best params: {'learning_rate': 0.07484972037987336, 'max_bin': 100, 'max_depth': 50, 'min_child_samples': 50, 'min_child_weight': 10, 'n_estimators': 150, 'num_leaves': 100, 'reg_alpha': 2.9064343338564783e-07, 'reg_lambda': 1.0044033145106243e-06, 'scale_pos_weight': 1e-06, 'subsample_freq': 0}\n",
      "\n",
      "Model #27\n",
      "Best MSE: 0.9491\n",
      "Best params: {'learning_rate': 0.07484972037987336, 'max_bin': 100, 'max_depth': 50, 'min_child_samples': 50, 'min_child_weight': 10, 'n_estimators': 150, 'num_leaves': 100, 'reg_alpha': 2.9064343338564783e-07, 'reg_lambda': 1.0044033145106243e-06, 'scale_pos_weight': 1e-06, 'subsample_freq': 0}\n",
      "\n",
      "Model #28\n",
      "Best MSE: 0.9491\n",
      "Best params: {'learning_rate': 0.07484972037987336, 'max_bin': 100, 'max_depth': 50, 'min_child_samples': 50, 'min_child_weight': 10, 'n_estimators': 150, 'num_leaves': 100, 'reg_alpha': 2.9064343338564783e-07, 'reg_lambda': 1.0044033145106243e-06, 'scale_pos_weight': 1e-06, 'subsample_freq': 0}\n",
      "\n",
      "Model #29\n",
      "Best MSE: 0.9492\n",
      "Best params: {'learning_rate': 0.06715172195532292, 'max_bin': 100, 'max_depth': 48, 'min_child_samples': 0, 'min_child_weight': 10, 'n_estimators': 150, 'num_leaves': 10, 'reg_alpha': 1.0, 'reg_lambda': 1e-09, 'scale_pos_weight': 499.99999999999994, 'subsample_freq': 0}\n",
      "\n",
      "Model #30\n",
      "Best MSE: 0.9492\n",
      "Best params: {'learning_rate': 0.06715172195532292, 'max_bin': 100, 'max_depth': 48, 'min_child_samples': 0, 'min_child_weight': 10, 'n_estimators': 150, 'num_leaves': 10, 'reg_alpha': 1.0, 'reg_lambda': 1e-09, 'scale_pos_weight': 499.99999999999994, 'subsample_freq': 0}\n",
      "\n",
      "Model #31\n",
      "Best MSE: 0.9492\n",
      "Best params: {'learning_rate': 0.06715172195532292, 'max_bin': 100, 'max_depth': 48, 'min_child_samples': 0, 'min_child_weight': 10, 'n_estimators': 150, 'num_leaves': 10, 'reg_alpha': 1.0, 'reg_lambda': 1e-09, 'scale_pos_weight': 499.99999999999994, 'subsample_freq': 0}\n",
      "\n",
      "Model #32\n",
      "Best MSE: 0.9492\n",
      "Best params: {'learning_rate': 0.06715172195532292, 'max_bin': 100, 'max_depth': 48, 'min_child_samples': 0, 'min_child_weight': 10, 'n_estimators': 150, 'num_leaves': 10, 'reg_alpha': 1.0, 'reg_lambda': 1e-09, 'scale_pos_weight': 499.99999999999994, 'subsample_freq': 0}\n",
      "\n",
      "Model #33\n",
      "Best MSE: 0.9492\n",
      "Best params: {'learning_rate': 0.06715172195532292, 'max_bin': 100, 'max_depth': 48, 'min_child_samples': 0, 'min_child_weight': 10, 'n_estimators': 150, 'num_leaves': 10, 'reg_alpha': 1.0, 'reg_lambda': 1e-09, 'scale_pos_weight': 499.99999999999994, 'subsample_freq': 0}\n",
      "\n",
      "Model #34\n",
      "Best MSE: 0.9492\n",
      "Best params: {'learning_rate': 0.06715172195532292, 'max_bin': 100, 'max_depth': 48, 'min_child_samples': 0, 'min_child_weight': 10, 'n_estimators': 150, 'num_leaves': 10, 'reg_alpha': 1.0, 'reg_lambda': 1e-09, 'scale_pos_weight': 499.99999999999994, 'subsample_freq': 0}\n",
      "\n",
      "Model #35\n",
      "Best MSE: 0.9492\n",
      "Best params: {'learning_rate': 0.06715172195532292, 'max_bin': 100, 'max_depth': 48, 'min_child_samples': 0, 'min_child_weight': 10, 'n_estimators': 150, 'num_leaves': 10, 'reg_alpha': 1.0, 'reg_lambda': 1e-09, 'scale_pos_weight': 499.99999999999994, 'subsample_freq': 0}\n",
      "\n",
      "Model #36\n",
      "Best MSE: 0.9492\n",
      "Best params: {'learning_rate': 0.06715172195532292, 'max_bin': 100, 'max_depth': 48, 'min_child_samples': 0, 'min_child_weight': 10, 'n_estimators': 150, 'num_leaves': 10, 'reg_alpha': 1.0, 'reg_lambda': 1e-09, 'scale_pos_weight': 499.99999999999994, 'subsample_freq': 0}\n",
      "\n",
      "Model #37\n",
      "Best MSE: 0.9492\n",
      "Best params: {'learning_rate': 0.06715172195532292, 'max_bin': 100, 'max_depth': 48, 'min_child_samples': 0, 'min_child_weight': 10, 'n_estimators': 150, 'num_leaves': 10, 'reg_alpha': 1.0, 'reg_lambda': 1e-09, 'scale_pos_weight': 499.99999999999994, 'subsample_freq': 0}\n",
      "\n",
      "Model #38\n",
      "Best MSE: 0.9492\n",
      "Best params: {'learning_rate': 0.06715172195532292, 'max_bin': 100, 'max_depth': 48, 'min_child_samples': 0, 'min_child_weight': 10, 'n_estimators': 150, 'num_leaves': 10, 'reg_alpha': 1.0, 'reg_lambda': 1e-09, 'scale_pos_weight': 499.99999999999994, 'subsample_freq': 0}\n",
      "\n",
      "Model #39\n",
      "Best MSE: 0.9492\n",
      "Best params: {'learning_rate': 0.06715172195532292, 'max_bin': 100, 'max_depth': 48, 'min_child_samples': 0, 'min_child_weight': 10, 'n_estimators': 150, 'num_leaves': 10, 'reg_alpha': 1.0, 'reg_lambda': 1e-09, 'scale_pos_weight': 499.99999999999994, 'subsample_freq': 0}\n",
      "\n",
      "Model #40\n",
      "Best MSE: 0.9492\n",
      "Best params: {'learning_rate': 0.06715172195532292, 'max_bin': 100, 'max_depth': 48, 'min_child_samples': 0, 'min_child_weight': 10, 'n_estimators': 150, 'num_leaves': 10, 'reg_alpha': 1.0, 'reg_lambda': 1e-09, 'scale_pos_weight': 499.99999999999994, 'subsample_freq': 0}\n",
      "\n",
      "Model #41\n",
      "Best MSE: 0.9492\n",
      "Best params: {'learning_rate': 0.06715172195532292, 'max_bin': 100, 'max_depth': 48, 'min_child_samples': 0, 'min_child_weight': 10, 'n_estimators': 150, 'num_leaves': 10, 'reg_alpha': 1.0, 'reg_lambda': 1e-09, 'scale_pos_weight': 499.99999999999994, 'subsample_freq': 0}\n",
      "\n",
      "Model #42\n",
      "Best MSE: 0.9492\n",
      "Best params: {'learning_rate': 0.06715172195532292, 'max_bin': 100, 'max_depth': 48, 'min_child_samples': 0, 'min_child_weight': 10, 'n_estimators': 150, 'num_leaves': 10, 'reg_alpha': 1.0, 'reg_lambda': 1e-09, 'scale_pos_weight': 499.99999999999994, 'subsample_freq': 0}\n",
      "\n",
      "Model #43\n",
      "Best MSE: 0.9492\n",
      "Best params: {'learning_rate': 0.06715172195532292, 'max_bin': 100, 'max_depth': 48, 'min_child_samples': 0, 'min_child_weight': 10, 'n_estimators': 150, 'num_leaves': 10, 'reg_alpha': 1.0, 'reg_lambda': 1e-09, 'scale_pos_weight': 499.99999999999994, 'subsample_freq': 0}\n",
      "\n",
      "Model #44\n",
      "Best MSE: 0.9492\n",
      "Best params: {'learning_rate': 0.06715172195532292, 'max_bin': 100, 'max_depth': 48, 'min_child_samples': 0, 'min_child_weight': 10, 'n_estimators': 150, 'num_leaves': 10, 'reg_alpha': 1.0, 'reg_lambda': 1e-09, 'scale_pos_weight': 499.99999999999994, 'subsample_freq': 0}\n",
      "\n",
      "Model #45\n",
      "Best MSE: 0.9492\n",
      "Best params: {'learning_rate': 0.06715172195532292, 'max_bin': 100, 'max_depth': 48, 'min_child_samples': 0, 'min_child_weight': 10, 'n_estimators': 150, 'num_leaves': 10, 'reg_alpha': 1.0, 'reg_lambda': 1e-09, 'scale_pos_weight': 499.99999999999994, 'subsample_freq': 0}\n",
      "\n",
      "Model #46\n",
      "Best MSE: 0.9492\n",
      "Best params: {'learning_rate': 0.06715172195532292, 'max_bin': 100, 'max_depth': 48, 'min_child_samples': 0, 'min_child_weight': 10, 'n_estimators': 150, 'num_leaves': 10, 'reg_alpha': 1.0, 'reg_lambda': 1e-09, 'scale_pos_weight': 499.99999999999994, 'subsample_freq': 0}\n",
      "\n",
      "Model #47\n",
      "Best MSE: 0.9492\n",
      "Best params: {'learning_rate': 0.06715172195532292, 'max_bin': 100, 'max_depth': 48, 'min_child_samples': 0, 'min_child_weight': 10, 'n_estimators': 150, 'num_leaves': 10, 'reg_alpha': 1.0, 'reg_lambda': 1e-09, 'scale_pos_weight': 499.99999999999994, 'subsample_freq': 0}\n",
      "\n",
      "Model #48\n",
      "Best MSE: 0.9492\n",
      "Best params: {'learning_rate': 0.06715172195532292, 'max_bin': 100, 'max_depth': 48, 'min_child_samples': 0, 'min_child_weight': 10, 'n_estimators': 150, 'num_leaves': 10, 'reg_alpha': 1.0, 'reg_lambda': 1e-09, 'scale_pos_weight': 499.99999999999994, 'subsample_freq': 0}\n",
      "\n",
      "Model #49\n",
      "Best MSE: 0.9492\n",
      "Best params: {'learning_rate': 0.06715172195532292, 'max_bin': 100, 'max_depth': 48, 'min_child_samples': 0, 'min_child_weight': 10, 'n_estimators': 150, 'num_leaves': 10, 'reg_alpha': 1.0, 'reg_lambda': 1e-09, 'scale_pos_weight': 499.99999999999994, 'subsample_freq': 0}\n",
      "\n",
      "Model #50\n",
      "Best MSE: 0.9492\n",
      "Best params: {'learning_rate': 0.06715172195532292, 'max_bin': 100, 'max_depth': 48, 'min_child_samples': 0, 'min_child_weight': 10, 'n_estimators': 150, 'num_leaves': 10, 'reg_alpha': 1.0, 'reg_lambda': 1e-09, 'scale_pos_weight': 499.99999999999994, 'subsample_freq': 0}\n",
      "\n",
      "Model #51\n",
      "Best MSE: 0.9492\n",
      "Best params: {'learning_rate': 0.06715172195532292, 'max_bin': 100, 'max_depth': 48, 'min_child_samples': 0, 'min_child_weight': 10, 'n_estimators': 150, 'num_leaves': 10, 'reg_alpha': 1.0, 'reg_lambda': 1e-09, 'scale_pos_weight': 499.99999999999994, 'subsample_freq': 0}\n",
      "\n",
      "Model #52\n",
      "Best MSE: 0.9492\n",
      "Best params: {'learning_rate': 0.06715172195532292, 'max_bin': 100, 'max_depth': 48, 'min_child_samples': 0, 'min_child_weight': 10, 'n_estimators': 150, 'num_leaves': 10, 'reg_alpha': 1.0, 'reg_lambda': 1e-09, 'scale_pos_weight': 499.99999999999994, 'subsample_freq': 0}\n",
      "\n",
      "Model #53\n",
      "Best MSE: 0.9492\n",
      "Best params: {'learning_rate': 0.06715172195532292, 'max_bin': 100, 'max_depth': 48, 'min_child_samples': 0, 'min_child_weight': 10, 'n_estimators': 150, 'num_leaves': 10, 'reg_alpha': 1.0, 'reg_lambda': 1e-09, 'scale_pos_weight': 499.99999999999994, 'subsample_freq': 0}\n"
     ]
    },
    {
     "name": "stdout",
     "output_type": "stream",
     "text": [
      "\n",
      "Model #54\n",
      "Best MSE: 0.9492\n",
      "Best params: {'learning_rate': 0.06715172195532292, 'max_bin': 100, 'max_depth': 48, 'min_child_samples': 0, 'min_child_weight': 10, 'n_estimators': 150, 'num_leaves': 10, 'reg_alpha': 1.0, 'reg_lambda': 1e-09, 'scale_pos_weight': 499.99999999999994, 'subsample_freq': 0}\n",
      "\n",
      "Model #55\n",
      "Best MSE: 0.9492\n",
      "Best params: {'learning_rate': 0.06715172195532292, 'max_bin': 100, 'max_depth': 48, 'min_child_samples': 0, 'min_child_weight': 10, 'n_estimators': 150, 'num_leaves': 10, 'reg_alpha': 1.0, 'reg_lambda': 1e-09, 'scale_pos_weight': 499.99999999999994, 'subsample_freq': 0}\n",
      "\n",
      "Model #56\n",
      "Best MSE: 0.9492\n",
      "Best params: {'learning_rate': 0.06715172195532292, 'max_bin': 100, 'max_depth': 48, 'min_child_samples': 0, 'min_child_weight': 10, 'n_estimators': 150, 'num_leaves': 10, 'reg_alpha': 1.0, 'reg_lambda': 1e-09, 'scale_pos_weight': 499.99999999999994, 'subsample_freq': 0}\n",
      "\n",
      "Model #57\n",
      "Best MSE: 0.9492\n",
      "Best params: {'learning_rate': 0.06715172195532292, 'max_bin': 100, 'max_depth': 48, 'min_child_samples': 0, 'min_child_weight': 10, 'n_estimators': 150, 'num_leaves': 10, 'reg_alpha': 1.0, 'reg_lambda': 1e-09, 'scale_pos_weight': 499.99999999999994, 'subsample_freq': 0}\n",
      "\n",
      "Model #58\n",
      "Best MSE: 0.9492\n",
      "Best params: {'learning_rate': 0.06715172195532292, 'max_bin': 100, 'max_depth': 48, 'min_child_samples': 0, 'min_child_weight': 10, 'n_estimators': 150, 'num_leaves': 10, 'reg_alpha': 1.0, 'reg_lambda': 1e-09, 'scale_pos_weight': 499.99999999999994, 'subsample_freq': 0}\n",
      "\n",
      "Model #59\n",
      "Best MSE: 0.9492\n",
      "Best params: {'learning_rate': 0.06715172195532292, 'max_bin': 100, 'max_depth': 48, 'min_child_samples': 0, 'min_child_weight': 10, 'n_estimators': 150, 'num_leaves': 10, 'reg_alpha': 1.0, 'reg_lambda': 1e-09, 'scale_pos_weight': 499.99999999999994, 'subsample_freq': 0}\n",
      "\n",
      "Model #60\n",
      "Best MSE: 0.9492\n",
      "Best params: {'learning_rate': 0.06715172195532292, 'max_bin': 100, 'max_depth': 48, 'min_child_samples': 0, 'min_child_weight': 10, 'n_estimators': 150, 'num_leaves': 10, 'reg_alpha': 1.0, 'reg_lambda': 1e-09, 'scale_pos_weight': 499.99999999999994, 'subsample_freq': 0}\n",
      "\n",
      "Model #61\n",
      "Best MSE: 0.9492\n",
      "Best params: {'learning_rate': 0.06715172195532292, 'max_bin': 100, 'max_depth': 48, 'min_child_samples': 0, 'min_child_weight': 10, 'n_estimators': 150, 'num_leaves': 10, 'reg_alpha': 1.0, 'reg_lambda': 1e-09, 'scale_pos_weight': 499.99999999999994, 'subsample_freq': 0}\n",
      "\n",
      "Model #62\n",
      "Best MSE: 0.9492\n",
      "Best params: {'learning_rate': 0.06715172195532292, 'max_bin': 100, 'max_depth': 48, 'min_child_samples': 0, 'min_child_weight': 10, 'n_estimators': 150, 'num_leaves': 10, 'reg_alpha': 1.0, 'reg_lambda': 1e-09, 'scale_pos_weight': 499.99999999999994, 'subsample_freq': 0}\n",
      "\n",
      "Model #63\n",
      "Best MSE: 0.9492\n",
      "Best params: {'learning_rate': 0.06715172195532292, 'max_bin': 100, 'max_depth': 48, 'min_child_samples': 0, 'min_child_weight': 10, 'n_estimators': 150, 'num_leaves': 10, 'reg_alpha': 1.0, 'reg_lambda': 1e-09, 'scale_pos_weight': 499.99999999999994, 'subsample_freq': 0}\n",
      "\n",
      "Model #64\n",
      "Best MSE: 0.9492\n",
      "Best params: {'learning_rate': 0.06715172195532292, 'max_bin': 100, 'max_depth': 48, 'min_child_samples': 0, 'min_child_weight': 10, 'n_estimators': 150, 'num_leaves': 10, 'reg_alpha': 1.0, 'reg_lambda': 1e-09, 'scale_pos_weight': 499.99999999999994, 'subsample_freq': 0}\n",
      "\n",
      "Model #65\n",
      "Best MSE: 0.9492\n",
      "Best params: {'learning_rate': 0.06715172195532292, 'max_bin': 100, 'max_depth': 48, 'min_child_samples': 0, 'min_child_weight': 10, 'n_estimators': 150, 'num_leaves': 10, 'reg_alpha': 1.0, 'reg_lambda': 1e-09, 'scale_pos_weight': 499.99999999999994, 'subsample_freq': 0}\n",
      "\n",
      "Model #66\n",
      "Best MSE: 0.9492\n",
      "Best params: {'learning_rate': 0.06715172195532292, 'max_bin': 100, 'max_depth': 48, 'min_child_samples': 0, 'min_child_weight': 10, 'n_estimators': 150, 'num_leaves': 10, 'reg_alpha': 1.0, 'reg_lambda': 1e-09, 'scale_pos_weight': 499.99999999999994, 'subsample_freq': 0}\n",
      "\n",
      "Model #67\n",
      "Best MSE: 0.9495\n",
      "Best params: {'learning_rate': 0.0609230429980336, 'max_bin': 100, 'max_depth': 50, 'min_child_samples': 50, 'min_child_weight': 10, 'n_estimators': 144, 'num_leaves': 52, 'reg_alpha': 0.006554352307086149, 'reg_lambda': 1e-09, 'scale_pos_weight': 0.02668192188781911, 'subsample_freq': 0}\n",
      "\n",
      "Model #68\n",
      "Best MSE: 0.9495\n",
      "Best params: {'learning_rate': 0.0609230429980336, 'max_bin': 100, 'max_depth': 50, 'min_child_samples': 50, 'min_child_weight': 10, 'n_estimators': 144, 'num_leaves': 52, 'reg_alpha': 0.006554352307086149, 'reg_lambda': 1e-09, 'scale_pos_weight': 0.02668192188781911, 'subsample_freq': 0}\n",
      "\n",
      "Model #69\n",
      "Best MSE: 0.9495\n",
      "Best params: {'learning_rate': 0.0609230429980336, 'max_bin': 100, 'max_depth': 50, 'min_child_samples': 50, 'min_child_weight': 10, 'n_estimators': 144, 'num_leaves': 52, 'reg_alpha': 0.006554352307086149, 'reg_lambda': 1e-09, 'scale_pos_weight': 0.02668192188781911, 'subsample_freq': 0}\n",
      "\n",
      "Model #70\n",
      "Best MSE: 0.9495\n",
      "Best params: {'learning_rate': 0.0609230429980336, 'max_bin': 100, 'max_depth': 50, 'min_child_samples': 50, 'min_child_weight': 10, 'n_estimators': 144, 'num_leaves': 52, 'reg_alpha': 0.006554352307086149, 'reg_lambda': 1e-09, 'scale_pos_weight': 0.02668192188781911, 'subsample_freq': 0}\n",
      "\n",
      "Model #71\n",
      "Best MSE: 0.9495\n",
      "Best params: {'learning_rate': 0.0609230429980336, 'max_bin': 100, 'max_depth': 50, 'min_child_samples': 50, 'min_child_weight': 10, 'n_estimators': 144, 'num_leaves': 52, 'reg_alpha': 0.006554352307086149, 'reg_lambda': 1e-09, 'scale_pos_weight': 0.02668192188781911, 'subsample_freq': 0}\n",
      "\n",
      "Model #72\n",
      "Best MSE: 0.9495\n",
      "Best params: {'learning_rate': 0.0609230429980336, 'max_bin': 100, 'max_depth': 50, 'min_child_samples': 50, 'min_child_weight': 10, 'n_estimators': 144, 'num_leaves': 52, 'reg_alpha': 0.006554352307086149, 'reg_lambda': 1e-09, 'scale_pos_weight': 0.02668192188781911, 'subsample_freq': 0}\n",
      "\n",
      "Model #73\n",
      "Best MSE: 0.9495\n",
      "Best params: {'learning_rate': 0.0609230429980336, 'max_bin': 100, 'max_depth': 50, 'min_child_samples': 50, 'min_child_weight': 10, 'n_estimators': 144, 'num_leaves': 52, 'reg_alpha': 0.006554352307086149, 'reg_lambda': 1e-09, 'scale_pos_weight': 0.02668192188781911, 'subsample_freq': 0}\n",
      "\n",
      "Model #74\n",
      "Best MSE: 0.9495\n",
      "Best params: {'learning_rate': 0.0609230429980336, 'max_bin': 100, 'max_depth': 50, 'min_child_samples': 50, 'min_child_weight': 10, 'n_estimators': 144, 'num_leaves': 52, 'reg_alpha': 0.006554352307086149, 'reg_lambda': 1e-09, 'scale_pos_weight': 0.02668192188781911, 'subsample_freq': 0}\n",
      "\n",
      "Model #75\n",
      "Best MSE: 0.9495\n",
      "Best params: {'learning_rate': 0.0609230429980336, 'max_bin': 100, 'max_depth': 50, 'min_child_samples': 50, 'min_child_weight': 10, 'n_estimators': 144, 'num_leaves': 52, 'reg_alpha': 0.006554352307086149, 'reg_lambda': 1e-09, 'scale_pos_weight': 0.02668192188781911, 'subsample_freq': 0}\n",
      "\n",
      "Model #76\n",
      "Best MSE: 0.9495\n",
      "Best params: {'learning_rate': 0.0609230429980336, 'max_bin': 100, 'max_depth': 50, 'min_child_samples': 50, 'min_child_weight': 10, 'n_estimators': 144, 'num_leaves': 52, 'reg_alpha': 0.006554352307086149, 'reg_lambda': 1e-09, 'scale_pos_weight': 0.02668192188781911, 'subsample_freq': 0}\n",
      "\n",
      "Model #77\n",
      "Best MSE: 0.9495\n",
      "Best params: {'learning_rate': 0.0609230429980336, 'max_bin': 100, 'max_depth': 50, 'min_child_samples': 50, 'min_child_weight': 10, 'n_estimators': 144, 'num_leaves': 52, 'reg_alpha': 0.006554352307086149, 'reg_lambda': 1e-09, 'scale_pos_weight': 0.02668192188781911, 'subsample_freq': 0}\n",
      "\n",
      "Model #78\n",
      "Best MSE: 0.9495\n",
      "Best params: {'learning_rate': 0.0609230429980336, 'max_bin': 100, 'max_depth': 50, 'min_child_samples': 50, 'min_child_weight': 10, 'n_estimators': 144, 'num_leaves': 52, 'reg_alpha': 0.006554352307086149, 'reg_lambda': 1e-09, 'scale_pos_weight': 0.02668192188781911, 'subsample_freq': 0}\n",
      "\n",
      "Model #79\n",
      "Best MSE: 0.9495\n",
      "Best params: {'learning_rate': 0.0609230429980336, 'max_bin': 100, 'max_depth': 50, 'min_child_samples': 50, 'min_child_weight': 10, 'n_estimators': 144, 'num_leaves': 52, 'reg_alpha': 0.006554352307086149, 'reg_lambda': 1e-09, 'scale_pos_weight': 0.02668192188781911, 'subsample_freq': 0}\n",
      "\n",
      "Model #80\n",
      "Best MSE: 0.9495\n",
      "Best params: {'learning_rate': 0.0609230429980336, 'max_bin': 100, 'max_depth': 50, 'min_child_samples': 50, 'min_child_weight': 10, 'n_estimators': 144, 'num_leaves': 52, 'reg_alpha': 0.006554352307086149, 'reg_lambda': 1e-09, 'scale_pos_weight': 0.02668192188781911, 'subsample_freq': 0}\n"
     ]
    },
    {
     "name": "stdout",
     "output_type": "stream",
     "text": [
      "\n",
      "Model #81\n",
      "Best MSE: 0.9495\n",
      "Best params: {'learning_rate': 0.0609230429980336, 'max_bin': 100, 'max_depth': 50, 'min_child_samples': 50, 'min_child_weight': 10, 'n_estimators': 144, 'num_leaves': 52, 'reg_alpha': 0.006554352307086149, 'reg_lambda': 1e-09, 'scale_pos_weight': 0.02668192188781911, 'subsample_freq': 0}\n",
      "\n",
      "Model #82\n",
      "Best MSE: 0.9495\n",
      "Best params: {'learning_rate': 0.0609230429980336, 'max_bin': 100, 'max_depth': 50, 'min_child_samples': 50, 'min_child_weight': 10, 'n_estimators': 144, 'num_leaves': 52, 'reg_alpha': 0.006554352307086149, 'reg_lambda': 1e-09, 'scale_pos_weight': 0.02668192188781911, 'subsample_freq': 0}\n",
      "\n",
      "Model #83\n",
      "Best MSE: 0.9495\n",
      "Best params: {'learning_rate': 0.0609230429980336, 'max_bin': 100, 'max_depth': 50, 'min_child_samples': 50, 'min_child_weight': 10, 'n_estimators': 144, 'num_leaves': 52, 'reg_alpha': 0.006554352307086149, 'reg_lambda': 1e-09, 'scale_pos_weight': 0.02668192188781911, 'subsample_freq': 0}\n",
      "\n",
      "Model #84\n",
      "Best MSE: 0.9495\n",
      "Best params: {'learning_rate': 0.0609230429980336, 'max_bin': 100, 'max_depth': 50, 'min_child_samples': 50, 'min_child_weight': 10, 'n_estimators': 144, 'num_leaves': 52, 'reg_alpha': 0.006554352307086149, 'reg_lambda': 1e-09, 'scale_pos_weight': 0.02668192188781911, 'subsample_freq': 0}\n",
      "\n",
      "Model #85\n",
      "Best MSE: 0.9495\n",
      "Best params: {'learning_rate': 0.0609230429980336, 'max_bin': 100, 'max_depth': 50, 'min_child_samples': 50, 'min_child_weight': 10, 'n_estimators': 144, 'num_leaves': 52, 'reg_alpha': 0.006554352307086149, 'reg_lambda': 1e-09, 'scale_pos_weight': 0.02668192188781911, 'subsample_freq': 0}\n",
      "\n",
      "Model #86\n",
      "Best MSE: 0.9495\n",
      "Best params: {'learning_rate': 0.0609230429980336, 'max_bin': 100, 'max_depth': 50, 'min_child_samples': 50, 'min_child_weight': 10, 'n_estimators': 144, 'num_leaves': 52, 'reg_alpha': 0.006554352307086149, 'reg_lambda': 1e-09, 'scale_pos_weight': 0.02668192188781911, 'subsample_freq': 0}\n",
      "\n",
      "Model #87\n",
      "Best MSE: 0.9495\n",
      "Best params: {'learning_rate': 0.0609230429980336, 'max_bin': 100, 'max_depth': 50, 'min_child_samples': 50, 'min_child_weight': 10, 'n_estimators': 144, 'num_leaves': 52, 'reg_alpha': 0.006554352307086149, 'reg_lambda': 1e-09, 'scale_pos_weight': 0.02668192188781911, 'subsample_freq': 0}\n",
      "\n",
      "Model #88\n",
      "Best MSE: 0.9495\n",
      "Best params: {'learning_rate': 0.0609230429980336, 'max_bin': 100, 'max_depth': 50, 'min_child_samples': 50, 'min_child_weight': 10, 'n_estimators': 144, 'num_leaves': 52, 'reg_alpha': 0.006554352307086149, 'reg_lambda': 1e-09, 'scale_pos_weight': 0.02668192188781911, 'subsample_freq': 0}\n",
      "\n",
      "Model #89\n",
      "Best MSE: 0.9495\n",
      "Best params: {'learning_rate': 0.0609230429980336, 'max_bin': 100, 'max_depth': 50, 'min_child_samples': 50, 'min_child_weight': 10, 'n_estimators': 144, 'num_leaves': 52, 'reg_alpha': 0.006554352307086149, 'reg_lambda': 1e-09, 'scale_pos_weight': 0.02668192188781911, 'subsample_freq': 0}\n",
      "\n",
      "Model #90\n",
      "Best MSE: 0.9495\n",
      "Best params: {'learning_rate': 0.0609230429980336, 'max_bin': 100, 'max_depth': 50, 'min_child_samples': 50, 'min_child_weight': 10, 'n_estimators': 144, 'num_leaves': 52, 'reg_alpha': 0.006554352307086149, 'reg_lambda': 1e-09, 'scale_pos_weight': 0.02668192188781911, 'subsample_freq': 0}\n",
      "\n",
      "Model #91\n",
      "Best MSE: 0.9495\n",
      "Best params: {'learning_rate': 0.0609230429980336, 'max_bin': 100, 'max_depth': 50, 'min_child_samples': 50, 'min_child_weight': 10, 'n_estimators': 144, 'num_leaves': 52, 'reg_alpha': 0.006554352307086149, 'reg_lambda': 1e-09, 'scale_pos_weight': 0.02668192188781911, 'subsample_freq': 0}\n",
      "\n",
      "Model #92\n",
      "Best MSE: 0.9495\n",
      "Best params: {'learning_rate': 0.0609230429980336, 'max_bin': 100, 'max_depth': 50, 'min_child_samples': 50, 'min_child_weight': 10, 'n_estimators': 144, 'num_leaves': 52, 'reg_alpha': 0.006554352307086149, 'reg_lambda': 1e-09, 'scale_pos_weight': 0.02668192188781911, 'subsample_freq': 0}\n",
      "\n",
      "Model #93\n",
      "Best MSE: 0.9495\n",
      "Best params: {'learning_rate': 0.0609230429980336, 'max_bin': 100, 'max_depth': 50, 'min_child_samples': 50, 'min_child_weight': 10, 'n_estimators': 144, 'num_leaves': 52, 'reg_alpha': 0.006554352307086149, 'reg_lambda': 1e-09, 'scale_pos_weight': 0.02668192188781911, 'subsample_freq': 0}\n",
      "\n",
      "Model #94\n",
      "Best MSE: 0.9495\n",
      "Best params: {'learning_rate': 0.0609230429980336, 'max_bin': 100, 'max_depth': 50, 'min_child_samples': 50, 'min_child_weight': 10, 'n_estimators': 144, 'num_leaves': 52, 'reg_alpha': 0.006554352307086149, 'reg_lambda': 1e-09, 'scale_pos_weight': 0.02668192188781911, 'subsample_freq': 0}\n",
      "\n",
      "Model #95\n",
      "Best MSE: 0.9495\n",
      "Best params: {'learning_rate': 0.0609230429980336, 'max_bin': 100, 'max_depth': 50, 'min_child_samples': 50, 'min_child_weight': 10, 'n_estimators': 144, 'num_leaves': 52, 'reg_alpha': 0.006554352307086149, 'reg_lambda': 1e-09, 'scale_pos_weight': 0.02668192188781911, 'subsample_freq': 0}\n",
      "\n",
      "Model #96\n",
      "Best MSE: 0.9495\n",
      "Best params: {'learning_rate': 0.0609230429980336, 'max_bin': 100, 'max_depth': 50, 'min_child_samples': 50, 'min_child_weight': 10, 'n_estimators': 144, 'num_leaves': 52, 'reg_alpha': 0.006554352307086149, 'reg_lambda': 1e-09, 'scale_pos_weight': 0.02668192188781911, 'subsample_freq': 0}\n",
      "\n",
      "Model #97\n",
      "Best MSE: 0.9495\n",
      "Best params: {'learning_rate': 0.0609230429980336, 'max_bin': 100, 'max_depth': 50, 'min_child_samples': 50, 'min_child_weight': 10, 'n_estimators': 144, 'num_leaves': 52, 'reg_alpha': 0.006554352307086149, 'reg_lambda': 1e-09, 'scale_pos_weight': 0.02668192188781911, 'subsample_freq': 0}\n",
      "\n",
      "Model #98\n",
      "Best MSE: 0.9495\n",
      "Best params: {'learning_rate': 0.0609230429980336, 'max_bin': 100, 'max_depth': 50, 'min_child_samples': 50, 'min_child_weight': 10, 'n_estimators': 144, 'num_leaves': 52, 'reg_alpha': 0.006554352307086149, 'reg_lambda': 1e-09, 'scale_pos_weight': 0.02668192188781911, 'subsample_freq': 0}\n",
      "\n",
      "Model #99\n",
      "Best MSE: 0.9495\n",
      "Best params: {'learning_rate': 0.0609230429980336, 'max_bin': 100, 'max_depth': 50, 'min_child_samples': 50, 'min_child_weight': 10, 'n_estimators': 144, 'num_leaves': 52, 'reg_alpha': 0.006554352307086149, 'reg_lambda': 1e-09, 'scale_pos_weight': 0.02668192188781911, 'subsample_freq': 0}\n",
      "\n",
      "Model #100\n",
      "Best MSE: 0.9495\n",
      "Best params: {'learning_rate': 0.0609230429980336, 'max_bin': 100, 'max_depth': 50, 'min_child_samples': 50, 'min_child_weight': 10, 'n_estimators': 144, 'num_leaves': 52, 'reg_alpha': 0.006554352307086149, 'reg_lambda': 1e-09, 'scale_pos_weight': 0.02668192188781911, 'subsample_freq': 0}\n",
      "\n",
      "Wall time: 10min 41s\n"
     ]
    }
   ],
   "source": [
    "%%time\n",
    "from skopt import BayesSearchCV\n",
    "\n",
    "bayes_cv_tuner = BayesSearchCV(\n",
    "    estimator = xgb.XGBRegressor( boosting_type='gbdt', subsample=0.6143), #colsample_bytree=0.6453, subsample=0.6143\n",
    "    search_spaces = {\n",
    "        'learning_rate': (0.01, 1.0, 'log-uniform'),\n",
    "        'num_leaves': (10, 100),      \n",
    "        'max_depth': (0, 50),\n",
    "        'min_child_samples': (0, 50),\n",
    "        'max_bin': (100, 1000),\n",
    "        'subsample_freq': (0, 10),\n",
    "        'min_child_weight': (0, 10),\n",
    "        'reg_lambda': (1e-9, 1000, 'log-uniform'),\n",
    "        'reg_alpha': (1e-9, 1.0, 'log-uniform'),\n",
    "        'scale_pos_weight': (1e-6, 500, 'log-uniform'),\n",
    "        'n_estimators': (50, 150),\n",
    "    },    \n",
    "    scoring = 'r2', #neg_mean_squared_log_error\n",
    "    cv = KFold(\n",
    "        n_splits=5,\n",
    "        shuffle=True,\n",
    "        random_state=42\n",
    "    ),\n",
    "    n_jobs = 1,\n",
    "    n_iter = 100,   \n",
    "    verbose = 0,\n",
    "    refit = True,\n",
    "    random_state = 42\n",
    ")\n",
    "\n",
    "# Fit the model\n",
    "result = bayes_cv_tuner.fit(train1.values, Y, callback=status_print)"
   ]
  },
  {
   "cell_type": "code",
   "execution_count": null,
   "metadata": {},
   "outputs": [],
   "source": []
  }
 ],
 "metadata": {
  "kernelspec": {
   "display_name": "Python 3",
   "language": "python",
   "name": "python3"
  },
  "language_info": {
   "codemirror_mode": {
    "name": "ipython",
    "version": 3
   },
   "file_extension": ".py",
   "mimetype": "text/x-python",
   "name": "python",
   "nbconvert_exporter": "python",
   "pygments_lexer": "ipython3",
   "version": "3.7.1"
  }
 },
 "nbformat": 4,
 "nbformat_minor": 2
}
